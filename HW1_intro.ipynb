{
 "cells": [
  {
   "cell_type": "code",
   "execution_count": null,
   "metadata": {
    "id": "GewrYiinjBDP"
   },
   "outputs": [],
   "source": [
    "%matplotlib inline\n",
    "%precision 16\n",
    "import numpy\n",
    "import matplotlib.pyplot as plt"
   ]
  },
  {
   "cell_type": "markdown",
   "metadata": {
    "deletable": false,
    "editable": false,
    "id": "XtwEiA1-jBDT",
    "nbgrader": {
     "cell_type": "markdown",
     "checksum": "385a90b191b985b23a91ab59a95dd59d",
     "grade": false,
     "grade_id": "cell8034583235964563",
     "locked": true,
     "schema_version": 3,
     "solution": false
    }
   },
   "source": [
    "Before you turn this problem in, make sure everything runs as expected. First, restart the kernel (in the menubar, select Kernel $\\rightarrow$ Restart) and then run all cells (in the menubar, select Cell $\\rightarrow$ Run All).\n",
    "\n",
    "Make sure you fill in any place that says YOUR CODE HERE or \"YOUR ANSWER HERE\", as well as your name and collaborators below:\n",
    "Ananya Gandhi, collaborated with Kayla Kim and Natalia Forero"
   ]
  },
  {
   "cell_type": "markdown",
   "metadata": {
    "deletable": false,
    "editable": false,
    "id": "u8VbTAjVjBDX",
    "nbgrader": {
     "cell_type": "markdown",
     "checksum": "5da3d6ae4a6d37e87ea88a8408508475",
     "grade": false,
     "grade_id": "cell8438889984008151",
     "locked": true,
     "schema_version": 3,
     "solution": false
    }
   },
   "source": [
    "# Homework 1:  Introduction"
   ]
  },
  {
   "cell_type": "markdown",
   "metadata": {
    "deletable": false,
    "editable": false,
    "id": "TjXRoxizjBDY",
    "nbgrader": {
     "cell_type": "markdown",
     "checksum": "5bed5cef4514b7a4a4b75a09c6a01ebe",
     "grade": false,
     "grade_id": "cell6823144658916374",
     "locked": true,
     "schema_version": 3,
     "solution": false
    }
   },
   "source": [
    "## Question 1\n",
    "\n",
    "Write out the solution (by-hand) to the following sets of equations.  **FULLY** justify your solution (do not just write the answer).\n",
    "\n",
    "If you want to review some of these concepts check out Strang's [Linear Algebra](https://clio.columbia.edu/catalog/10612929) text or for only the fundamentals check out Strang's [The Fundamental Theorem of Linear Algebra](http://www.jstor.org/stable/2324660?seq=1#page_scan_tab_contents)"
   ]
  },
  {
   "cell_type": "markdown",
   "metadata": {
    "deletable": false,
    "editable": false,
    "id": "nmSnRZKujBDZ",
    "nbgrader": {
     "cell_type": "markdown",
     "checksum": "9bab782a6d2776f0f39a4e85d37164ce",
     "grade": false,
     "grade_id": "cell2016497183447183",
     "locked": true,
     "schema_version": 3,
     "solution": false
    }
   },
   "source": [
    "**(a)** (5) Solve $A x = b$ where\n",
    "$$\n",
    "    A = \\begin{bmatrix}\n",
    "        2 & 1 \\\\\n",
    "        1 & 3\n",
    "    \\end{bmatrix} ~~~~ \n",
    "    b = \\begin{bmatrix}\n",
    "        1 \\\\\n",
    "        -2\n",
    "    \\end{bmatrix}\n",
    "$$"
   ]
  },
  {
   "cell_type": "markdown",
   "metadata": {
    "deletable": false,
    "id": "9Lc5B2OqjBDa",
    "nbgrader": {
     "cell_type": "markdown",
     "checksum": "1f746b896dacaca522e729c046d584e0",
     "grade": true,
     "grade_id": "cell1448053803160613",
     "locked": false,
     "points": 10,
     "schema_version": 3,
     "solution": true
    }
   },
   "source": [
    "Solution:\n",
    "\\begin{bmatrix}\n",
    "    2  & 1 &\\bigm| & 1 \\\\\n",
    "    1  & 3 &\\bigm| & -2\n",
    "\\end{bmatrix}\n",
    "\n",
    "Divide $R_1$ by 2\n",
    "\n",
    "\\begin{bmatrix}\n",
    "    1  & 1/2 &\\bigm| & 1/2 \\\\\n",
    "    1  & 3 &\\bigm| & -2\n",
    "\\end{bmatrix}\n",
    "\n",
    "Subtract $R_1$ from $R_2$\n",
    "\n",
    "\\begin{bmatrix}\n",
    "    1  & 1/2 &\\bigm| & 1/2 \\\\\n",
    "    0  & 5/2 &\\bigm| & -5/2\n",
    "\\end{bmatrix}\n",
    "\n",
    "Multiply $R_2$ by 2/5\n",
    "\n",
    "\\begin{bmatrix}\n",
    "    1  & 1/2 &\\bigm| & 1/2 \\\\\n",
    "    0  & 1 &\\bigm| & -1\n",
    "\\end{bmatrix}\n",
    "\n",
    "Subtract $\\frac{1}{2}R_2$ from $R_1$\n",
    "\n",
    "\\begin{bmatrix}\n",
    "    1  & 0 &\\bigm| & 1 \\\\\n",
    "    0  & 1 &\\bigm| & -1\n",
    "\\end{bmatrix}\n",
    "\n",
    "$\\vec{x} = \\begin{bmatrix} 1 \\\\ -1 \\end{bmatrix}$"
   ]
  },
  {
   "cell_type": "markdown",
   "metadata": {
    "deletable": false,
    "editable": false,
    "id": "_I0nfjZ2jBDa",
    "nbgrader": {
     "cell_type": "markdown",
     "checksum": "04c1d84d159c07e51b85b05584426d9d",
     "grade": false,
     "grade_id": "cell5967828987159757",
     "locked": true,
     "schema_version": 3,
     "solution": false
    }
   },
   "source": [
    "**(b)** (5) Solve the system of equations:\n",
    "\\begin{align}\n",
    "    2x + 3y &= 1 \\\\\n",
    "    6x + 9y &= 3\n",
    "\\end{align}"
   ]
  },
  {
   "cell_type": "markdown",
   "metadata": {
    "deletable": false,
    "id": "EaL66LZtjBDc",
    "nbgrader": {
     "cell_type": "markdown",
     "checksum": "cd033b91ebe74b56915f2c205b546a2c",
     "grade": true,
     "grade_id": "cell9290127908697658",
     "locked": false,
     "points": 10,
     "schema_version": 3,
     "solution": true
    }
   },
   "source": [
    "Solution:\n",
    "\\begin{bmatrix}\n",
    "    2  & 3 &| & 1 \\\\\n",
    "    6  & 9 &| & 3\n",
    "\\end{bmatrix}\n",
    "\n",
    "Subtract 3$R_1$ from $R_2$\n",
    "\n",
    "\\begin{bmatrix}\n",
    "    2  & 3 &| & 1 \\\\\n",
    "    0  & 0 &| & 0\n",
    "\\end{bmatrix}\n",
    "\n",
    "Divide $R_1$ by 2\n",
    "\\begin{bmatrix}\n",
    "    1  & 3/2 &| & 1/2 \\\\\n",
    "    0  & 0 &| & 0\n",
    "\\end{bmatrix}\n",
    "\n",
    "The system has infinitely many solutions. Any vector \n",
    "$\\vec{x} = \\langle x, y \\rangle$ such that $x + \\frac{3}{2}y = \\frac{1}{2}$ is a solution to this system. "
   ]
  },
  {
   "cell_type": "markdown",
   "metadata": {
    "deletable": false,
    "editable": false,
    "id": "ELxc3CN9jBDd",
    "nbgrader": {
     "cell_type": "markdown",
     "checksum": "d4a7a6b95b9be4f5d5a0d7b9a162dcbc",
     "grade": false,
     "grade_id": "cell5933027027760471",
     "locked": true,
     "schema_version": 3,
     "solution": false
    }
   },
   "source": [
    "**(c)** (5) Why will I not be able to solve $Ax=b$ for\n",
    "$$\n",
    "    A = \\begin{bmatrix}\n",
    "        2 & 1 \\\\\n",
    "        1 & 3 \\\\\n",
    "        0 & 4\n",
    "    \\end{bmatrix} ~~~~ \n",
    "    b = \\begin{bmatrix}\n",
    "        2 \\\\\n",
    "        0 \\\\\n",
    "        1\n",
    "    \\end{bmatrix}?\n",
    "$$\n",
    "Describe why this is a problem in terms of the column, row, left-null, and null spaces of $A$ and how that relates to the vector $b$."
   ]
  },
  {
   "cell_type": "markdown",
   "metadata": {
    "deletable": false,
    "id": "qI0WdcjAjBDe",
    "nbgrader": {
     "cell_type": "markdown",
     "checksum": "88334d6c157760adbfb2de9560c34887",
     "grade": true,
     "grade_id": "cell2638454345631698",
     "locked": false,
     "points": 10,
     "schema_version": 3,
     "solution": true
    }
   },
   "source": [
    "YOUR ANSWER HERE\n",
    "\n",
    "\\begin{bmatrix}\n",
    "    2 & 1 & | & 2 \\\\\n",
    "    1 & 3 & | & 0 \\\\\n",
    "    0 & 4 & | & 1\n",
    "\\end{bmatrix}\n",
    "\n",
    "Divide $R_1$ by 2\n",
    "\n",
    "\\begin{bmatrix}\n",
    "    1 & \\frac{1}{2} & | & 1 \\\\\n",
    "    1 & 3 & | & 0 \\\\\n",
    "    0 & 4 & | & 1\n",
    "\\end{bmatrix}\n",
    "\n",
    "Subtract $R_1$ from $R_2$\n",
    "\\begin{bmatrix}\n",
    "    1 & \\frac{1}{2} & | & 1 \\\\\n",
    "    0 & \\frac{5}{2} & | & -1 \\\\\n",
    "    0 & 4 & | & 1\n",
    "\\end{bmatrix}\n",
    "\n",
    "Multiply $R_2$ by $\\frac{2}{5}$, divide $R_3$ by 4\n",
    "\\begin{bmatrix}\n",
    "    1 & \\frac{1}{2} & | & 1 \\\\\n",
    "    0 & 1 & | & -\\frac{2}{5} \\\\\n",
    "    0 & 1 & | & \\frac{1}{4}\n",
    "\\end{bmatrix}\n",
    "\n",
    "Subtract $R_2$ from $R_3$\n",
    "\\begin{bmatrix}\n",
    "    1 & \\frac{1}{2} & | & 1 \\\\\n",
    "    0 & 1 & | & -\\frac{2}{5} \\\\\n",
    "    0 & 0 & | & \\frac{13}{20}\n",
    "\\end{bmatrix}\n",
    "\n",
    "Subtract $\\frac{1}{2}R_2$ from $R_1$\n",
    "\\begin{bmatrix}\n",
    "    1 & 0 & | & \\frac{6}{5} \\\\\n",
    "    0 & 1 & | & -\\frac{2}{5} \\\\\n",
    "    0 & 0 & | & \\frac{13}{20}\n",
    "\\end{bmatrix}\n",
    "\n",
    "Multiply $R_3$ by $\\frac{20}{13}$\n",
    "\\begin{bmatrix}\n",
    "    1 & 0 & | & \\frac{6}{5} \\\\\n",
    "    0 & 1 & | & -\\frac{2}{5} \\\\\n",
    "    0 & 0 & | & 1\n",
    "\\end{bmatrix}\n",
    "\n",
    "The augmented column is pivot, so the resulting matrix is inconsistent and has no solution.\n",
    "\n",
    "The column space of A is all of the vectors that are a linear combination of the two vectors in A: $ \n",
    "\\begin{pmatrix}\n",
    "    1 \\\\\n",
    "    0 \\\\\n",
    "    0\n",
    "\\end{pmatrix} $ and $ \n",
    "\\begin{pmatrix}\n",
    "    \\frac{1}{2} \\\\\n",
    "    1 \\\\\n",
    "    0\n",
    "\\end{pmatrix} $\n",
    "\n",
    "\n",
    "$ \\vec{b} $ is not in the column space of A, because it has a 1 in its third dimension, and there does not exist a linear combination of the two vectors (which both have a 0 in the third dimension) that is equal to $\\vec{b}$. \n"
   ]
  },
  {
   "cell_type": "markdown",
   "metadata": {
    "deletable": false,
    "editable": false,
    "id": "B83GC3HkjBDf",
    "nbgrader": {
     "cell_type": "markdown",
     "checksum": "6e78c79305b7362364088234b01cdb55",
     "grade": false,
     "grade_id": "cell4384914739699754",
     "locked": true,
     "schema_version": 3,
     "solution": false
    }
   },
   "source": [
    "## Question 2"
   ]
  },
  {
   "cell_type": "markdown",
   "metadata": {
    "deletable": false,
    "editable": false,
    "id": "Lrs1LQmBjBDf",
    "nbgrader": {
     "cell_type": "markdown",
     "checksum": "b1014fc20fac505bf86733dd30aa7857",
     "grade": false,
     "grade_id": "cell1244223495354736",
     "locked": true,
     "schema_version": 3,
     "solution": false
    }
   },
   "source": [
    "**(a)** (10) Write a function that computes\n",
    "$$\n",
    "    \\sum^\\infty_{n=1} \\frac{a^n}{b^{n-1}}\n",
    "$$\n",
    "until the difference between subsequent partial sums is less than the given tolerance $T$.  Return the computed sum.  Make sure to include a way for the function to exit if the partial sums do not satisfy the above criteria (the sum may not be convergent for instance)."
   ]
  },
  {
   "cell_type": "code",
   "execution_count": null,
   "metadata": {
    "id": "0ZhOYDvQ-b5x"
   },
   "outputs": [],
   "source": [
    "from abc import abstractproperty\n",
    "def compute_sum(a, b, tolerance=1e-5):\n",
    "    \"\"\"Compute the sum $\\sum^\\infty_{n=1} a^n / b^{n-1} until the partial sums are less than *tolerance*.\n",
    "    \n",
    "    Returns the computed sum and raises a *ValueError* if the sum appears to be diverging.\n",
    "    \"\"\"\n",
    "\n",
    "    # the ratio (a/b) must be < 1 for the sum to be convergent\n",
    "    # according to Geometric Series Theorem\n",
    "    # the partial sum can also be written as b * (a/b)^n \n",
    "    # so the ratio (a/b) < 1 to converge\n",
    "\n",
    "    n = 1\n",
    "    computed_sum = 0\n",
    "\n",
    "    while True:\n",
    "      \n",
    "      change = (a**n) / (b**(n-1))\n",
    "      computed_sum += change\n",
    "\n",
    "      if abs(a/b) > 1:\n",
    "        raise ValueError()\n",
    "      \n",
    "      if abs(change) < tolerance:\n",
    "        return computed_sum\n",
    "\n",
    "      n += 1\n",
    "    \n",
    "    return computed_sum"
   ]
  },
  {
   "cell_type": "code",
   "execution_count": null,
   "metadata": {
    "deletable": false,
    "editable": false,
    "id": "sExfVlOnjBDg",
    "nbgrader": {
     "cell_type": "code",
     "checksum": "9cdfbbb5ffc21daf532fe139133be6af",
     "grade": true,
     "grade_id": "cell5655123106444739",
     "locked": true,
     "points": 10,
     "schema_version": 3,
     "solution": false
    }
   },
   "outputs": [],
   "source": [
    "numpy.testing.assert_allclose(compute_sum(-2.0, 3.0, 1e-16), -1.2)\n",
    "numpy.testing.assert_allclose(compute_sum(1.0, 2.0, 1e-16), 2.0)\n",
    "try:\n",
    "    compute_sum(2.0, 1.0, 1e-16)\n",
    "except ValueError:\n",
    "    pass\n",
    "else:\n",
    "    assert False"
   ]
  },
  {
   "cell_type": "markdown",
   "metadata": {
    "deletable": false,
    "editable": false,
    "id": "tRRkRNrmjBDh",
    "nbgrader": {
     "cell_type": "markdown",
     "checksum": "9b49fec14ea4e31b34245749c919fe9d",
     "grade": false,
     "grade_id": "cell6074787325159711",
     "locked": true,
     "schema_version": 3,
     "solution": false
    }
   },
   "source": [
    "**(b)** (5) Explore different tolerances for your function above for $a=-2$ and $b=3$.  Plot the value of the tolerance\n",
    "$$\n",
    "    \\left| ~ \\sum^\\infty_{n=1} \\frac{a^n}{b^{n-1}} - (-1.2) ~\\right |\n",
    "$$\n",
    "versus the difference.  The plotting command `loglog` may be useful to effectively visualize the problem.  What do you observe?\n",
    "\n",
    "Hint:  Try using tolerances in the range $T \\in [10^{-30}, 10^{-2}]$.  Use the functions `logspace` to generate well spaced points and `loglog` to plot the data."
   ]
  },
  {
   "cell_type": "code",
   "execution_count": null,
   "metadata": {
    "colab": {
     "base_uri": "https://localhost:8080/",
     "height": 299
    },
    "deletable": false,
    "id": "QYhzGfc2jBDi",
    "nbgrader": {
     "cell_type": "code",
     "checksum": "57b77cd517b4b2a865cec8ff3fce4071",
     "grade": true,
     "grade_id": "cell5235988218415515",
     "locked": false,
     "points": 5,
     "schema_version": 3,
     "solution": true
    },
    "outputId": "2ffa8cc5-400d-4445-ccd4-c091aed992c3"
   },
   "outputs": [
    {
     "data": {
      "image/png": "[encoded data removed]",
      "text/plain": [
       "<Figure size 432x288 with 1 Axes>"
      ]
     },
     "metadata": {
      "needs_background": "light"
     },
     "output_type": "display_data"
    }
   ],
   "source": [
    "# YOUR CODE HERE\n",
    "\n",
    "a = -2\n",
    "b = 3\n",
    "tolerance = numpy.logspace(-30, -2, 100)\n",
    "difference = [abs(compute_sum(a, b, t) - (-1.2)) for t in tolerance]\n",
    "\n",
    "plt.loglog(tolerance, difference)\n",
    "plt.xlabel(\"Tolerance\")\n",
    "plt.ylabel(\"Difference\")\n",
    "plt.title(\"Deviation from True Answer vs. Tolerance\")\n",
    "plt.show()\n",
    "# raise NotImplementedError()"
   ]
  },
  {
   "cell_type": "markdown",
   "metadata": {
    "deletable": false,
    "id": "hSeSLPuqjBDi",
    "nbgrader": {
     "cell_type": "markdown",
     "checksum": "dbd9f1e3a455851dfd5acb821f6b44c8",
     "grade": true,
     "grade_id": "cell9513987934167870",
     "locked": false,
     "points": 5,
     "schema_version": 3,
     "solution": true
    }
   },
   "source": [
    "*YOUR* ANSWER HERE  \\\\\n",
    "As we can see in the plot, when the tolerance is higher, there is a much higher deviation between the computed sum and the actual answer, -1.2. When the tolerance is higher, the compute_sum function runs for less iterations and the computed answer is not as accurate, because a greater deviation between the actual sum and the computed sum is allowed. For smaller tolerances, like $10^{-28}$, the difference between the computed sum and the actual answer is much smaller, and the function is more accurate in approximating the solution."
   ]
  },
  {
   "cell_type": "markdown",
   "metadata": {
    "deletable": false,
    "editable": false,
    "id": "_Ehd7FEajBDj",
    "nbgrader": {
     "cell_type": "markdown",
     "checksum": "2da257a155fc956b611fabb1ba8fa62c",
     "grade": false,
     "grade_id": "cell4028669518644633",
     "locked": true,
     "schema_version": 3,
     "solution": false
    }
   },
   "source": [
    "## Question 3"
   ]
  },
  {
   "cell_type": "markdown",
   "metadata": {
    "deletable": false,
    "editable": false,
    "id": "pf5KtsITjBDj",
    "nbgrader": {
     "cell_type": "markdown",
     "checksum": "8a885747d9e8350e3d1fe4d780d2b165",
     "grade": false,
     "grade_id": "cell8219538542602342",
     "locked": true,
     "schema_version": 3,
     "solution": false
    }
   },
   "source": [
    "**(a)** (7) Compute the first 3 terms of the Taylor series of the function\n",
    "$$\n",
    "    f(x) = e^{-x^2} \\sin( x - \\pi)\n",
    "$$\n",
    "centered at $x_0 = \\pi$."
   ]
  },
  {
   "cell_type": "markdown",
   "metadata": {
    "deletable": false,
    "id": "UemiknlmjBDk",
    "nbgrader": {
     "cell_type": "markdown",
     "checksum": "58d0551ec30b20f15c920a93befbf39b",
     "grade": true,
     "grade_id": "cell5045118735142062",
     "locked": false,
     "points": 10,
     "schema_version": 3,
     "solution": true
    }
   },
   "source": [
    "$$\n",
    "    f(x) = e^{-x^2}\\sin(x - \\pi) \\\\\n",
    "    \\\\\n",
    "    \\\\\n",
    "$$\n",
    "\n",
    "$$\n",
    "    f'(x) = (-2x)e^{-x^2}\\sin(x - \\pi) + e^{-x^2}\\cos(x - \\pi) \\\\\n",
    "    \\\\\n",
    "    \\\\\n",
    "$$\n",
    "\n",
    "$$  \n",
    "    f''(x) = (-2)e^{-x^2}\\sin(x - \\pi) + (-2x)^2 e^{-x^2}\\sin(x - \\pi) + (-2x)e^{-x^2}\\cos(x - \\pi) + (-2x)e^{-x^2}\\cos(x - \\pi) + e^{-x^2}(-\\sin(x - \\pi)) \\\\ \n",
    "$$\n",
    "\n",
    "$$\n",
    "    f''(x) = (-3)e^{-x^2}\\sin(x - \\pi) + (4x^2) e^{-x^2}\\sin(x - \\pi) + (-4x)e^{-x^2}\\cos(x - \\pi) \\\\\n",
    "    \\\\\n",
    "    \\\\\n",
    "$$\n",
    "\n",
    "$$\n",
    "    f'''(x) = (-3)(-2x)e^{-x^2}\\sin(x - \\pi) + (-3)e^{-x^2}\\cos(x - \\pi) + (8x) e^{-x^2}\\sin(x - \\pi) + (4x^2)(-2x)e^{-x^2}\\sin(x - \\pi) + (-4x^2)e^{-x^2}\\cos(x - \\pi) + (-4)e^{-x^2}\\cos(x - \\pi) + (-4x)(2x)e^{-x^2}\\cos(x - \\pi) + (-4x)e^{-x^2}(-\\sin(x - \\pi)) \\\\\n",
    "$$\n",
    "$$\n",
    "    f'''(x) = 10xe^{-x^2}\\sin(x - \\pi) -7e^{-x^2}\\cos(x - \\pi) + 12x^2 e^{-x^2}\\cos(x - \\pi) + 8xe^{-x^2}\\sin(x - \\pi) -8x^3e^{-x^2}\\sin(x - \\pi)\n",
    "$$\n",
    "\n",
    "\n",
    "All $ \\sin(x - \\pi) $ terms go to 0 when evaluated at $ x = \\pi $ so we are left with:\n",
    "\n",
    "$$ \n",
    "    f(\\pi) = 0 \\\\\n",
    "    f'(\\pi) = e^{-\\pi^2} \\\\\n",
    "    f''(\\pi) = -4\\pi e^{-\\pi^2} \\\\\n",
    "    f'''(\\pi) = (12\\pi ^2 - 7) e^{-\\pi^2}\n",
    "$$\n",
    "\n",
    "Using the Taylor Series Formula, we have:\n",
    "\n",
    "$$ \n",
    "    f(x) \\approx e^{-\\pi^2}(x - \\pi) + (-4\\pi e^{-\\pi^2}) \\frac{(x - \\pi)^2}{2} + (12\\pi ^2 - 7) e^{-\\pi^2} \\frac{(x - \\pi)^3}{6} \\\\\n",
    "$$"
   ]
  },
  {
   "cell_type": "markdown",
   "metadata": {
    "deletable": false,
    "editable": false,
    "id": "c_lkL-4ujBDk",
    "nbgrader": {
     "cell_type": "markdown",
     "checksum": "c877dee2f3e94faaef443dd829917c88",
     "grade": false,
     "grade_id": "cell7388927421453205",
     "locked": true,
     "schema_version": 3,
     "solution": false
    }
   },
   "source": [
    "**(b)** (8) Solve the ODE\n",
    "$$\n",
    "    u'' + u' + \\frac{5}{4} u = 0\n",
    "$$\n",
    "with initial conditions $u(0) = 3$ and $u'(0) = 1$.  Plot the solution and comment on its behavior as $t \\rightarrow \\infty$."
   ]
  },
  {
   "cell_type": "markdown",
   "metadata": {
    "deletable": false,
    "id": "uMIuAjw5jBDl",
    "nbgrader": {
     "cell_type": "markdown",
     "checksum": "2144bc75a57e08c4969ad228e60b7b3f",
     "grade": true,
     "grade_id": "cell8510568627368116",
     "locked": false,
     "points": 10,
     "schema_version": 3,
     "solution": true
    }
   },
   "source": [
    "YOUR ANSWER HERE\n",
    "\n",
    "Use the characteristic equation to solve for u:\n",
    "\n",
    "$$\n",
    "    r^2 + r + \\frac{5}{4} = 0 \\\\\n",
    "    r_1, r_2 = \\frac{-1 \\pm \\sqrt{1^2 - 4(1)(\\frac{5}{4})}}{2(1)} \\\\\n",
    "    r_1, r_2 = -\\frac{1}{2} \\pm i \\\\\n",
    "$$\n",
    "\n",
    "Applying the characteristic equation method for complex roots, we have\n",
    "\n",
    "$$\n",
    "    u(t) = c_1 e^{-\\frac{1}{2}t} \\cos(t) + c_2 e^{-\\frac{1}{2}t} \\sin(t) \\\\\n",
    "$$\n",
    "\n",
    "Use initial conditions to solve for $c_1, c_2$\n",
    "\n",
    "$$\n",
    "    u(0) = 3 = c_1 e^{0} \\cos(0) + c_2 e^{0} \\sin(0) \\\\\n",
    "    c_1 = 3 \\\\\n",
    "    u'(t) = -\\frac{3}{2}e^{-\\frac{1}{2}t}\\cos(t) - 3 e^{-\\frac{1}{2}t}\\sin(t) - \\frac{1}{2}c_2 e^{-\\frac{1}{2}t} \\sin(t) + c_2 e^{-\\frac{1}{2}t}\\cos(t) \\\\\n",
    "    u'(0) = 1 = -\\frac{3}{2}e^{0}\\cos(0) + c_2 e^{0}\\cos(0) \\\\\n",
    "    c_2 = \\frac{5}{2} \\\\\n",
    "$$\n",
    "\n",
    "Final solution:\n",
    "$$\n",
    "    u(t) = 3 e^{-\\frac{1}{2}t} \\cos(t) + \\frac{5}{2} e^{-\\frac{1}{2}t} \\sin(t) \\\\\n",
    "$$\n",
    "\n",
    "As we can see in the plot below, as $t \\rightarrow \\infty $ the solution approaches 0, due to the exponential decay of the $e^{-\\frac{1}{2}t}$ function."
   ]
  },
  {
   "cell_type": "code",
   "execution_count": null,
   "metadata": {
    "colab": {
     "base_uri": "https://localhost:8080/",
     "height": 295
    },
    "deletable": false,
    "id": "gxAyAXLQjBDm",
    "nbgrader": {
     "cell_type": "code",
     "checksum": "b1f067cc02543b4c9c13a4ddc8d2cb05",
     "grade": true,
     "grade_id": "cell9191289374012808",
     "locked": false,
     "points": 5,
     "schema_version": 3,
     "solution": true
    },
    "outputId": "644ab9d3-0943-43b2-a5da-5e97974f8cff"
   },
   "outputs": [
    {
     "data": {
      "image/png": "[encoded data removed]",
      "text/plain": [
       "<Figure size 432x288 with 1 Axes>"
      ]
     },
     "metadata": {
      "needs_background": "light"
     },
     "output_type": "display_data"
    }
   ],
   "source": [
    "# YOUR CODE HERE\n",
    "\n",
    "x = numpy.linspace(-1*2*numpy.pi, 2*2*numpy.pi)\n",
    "y = (numpy.e **((-1/2) * x))*(3*numpy.cos(x) + (5/2)*numpy.sin(x))\n",
    "\n",
    "plt.plot(x, y)\n",
    "plt.grid()\n",
    "plt.xlabel(\"Time\")\n",
    "plt.ylabel(\"u(t)\")\n",
    "plt.title(\"Behavior of ODE Solution Over Time\")\n",
    "plt.show()\n",
    "# raise NotImplementedError()"
   ]
  },
  {
   "cell_type": "markdown",
   "metadata": {
    "deletable": false,
    "editable": false,
    "id": "7vRtaV_GjBDn",
    "nbgrader": {
     "cell_type": "markdown",
     "checksum": "606c3d37347838e4236f811bf91a8f3b",
     "grade": false,
     "grade_id": "cell3807292108265957",
     "locked": true,
     "schema_version": 3,
     "solution": false
    }
   },
   "source": [
    "## Question 4\n",
    "\n",
    "(5) Plot something \"fun\" making sure to label the axes and colorbar if appropriate.  Use the [matplotlib gallery](http://matplotlib.org/gallery.html) for inspiration."
   ]
  },
  {
   "cell_type": "code",
   "execution_count": null,
   "metadata": {
    "colab": {
     "base_uri": "https://localhost:8080/",
     "height": 281
    },
    "id": "R_19wESarQvH",
    "outputId": "681762db-9837-4c0f-8aad-851075069acc"
   },
   "outputs": [
    {
     "data": {
      "image/png": "[encoded data removed]",
      "text/plain": [
       "<Figure size 432x288 with 1 Axes>"
      ]
     },
     "metadata": {
      "needs_background": "light"
     },
     "output_type": "display_data"
    }
   ],
   "source": [
    "theta = numpy.linspace(0, 2 * numpy.pi, 100)\n",
    "\n",
    "\n",
    "x = 10 * (numpy.sin(theta) ** 3 )\n",
    "y = 15 * numpy.cos(theta) - 9* numpy.cos(2*theta) - 4 * numpy.cos(3*theta) - numpy.cos(4*theta)\n",
    "\n",
    "plt.plot(x, y, 'r', linewidth='4')\n",
    "plt.title('Heart')\n",
    "plt.show()"
   ]
  },
  {
   "cell_type": "markdown",
   "metadata": {
    "deletable": false,
    "editable": false,
    "id": "e7dYH0QHjBDn",
    "nbgrader": {
     "cell_type": "markdown",
     "checksum": "e064768b575d36c126c296fac73b66a0",
     "grade": false,
     "grade_id": "cell-ade3b6426b1ed3ab",
     "locked": true,
     "schema_version": 3,
     "solution": false
    }
   },
   "source": [
    "## Question 5 - The Trouble with Tribbles\n",
    "\n",
    "Plot the following data using the appropriate plot types making sure to adding lables, units, and titles.  Also refer to the [matplotlib gallery](http://matplotlib.org/gallery.html) to figure out how to plot some of what is asked.\n",
    "\n",
    "**(a)** [5] The number of tribbles (furry animals from Star Trek) is modeled by Spock to be exponential.  Spock predicts that in a 3 day period that the tribbles will go from an initial population number of $N_0 = 1$ to $N(3) = 1,771,561$ tribbles.  The assumptions that Spock made are the following:\n",
    " - The tribbles reproduce every 12 hours.\n",
    " - Tribbles reproduce asexually so that 1 tribble will produce 10 more tribbles leading to a total of 11 tribbles.\n",
    "Write a function that confirms Spock's estimate and plot the function."
   ]
  },
  {
   "cell_type": "code",
   "execution_count": null,
   "metadata": {
    "colab": {
     "base_uri": "https://localhost:8080/",
     "height": 295
    },
    "deletable": false,
    "id": "T-AwrZEQjBDo",
    "nbgrader": {
     "cell_type": "code",
     "checksum": "7a86f224f2b84d14858b48459f14730d",
     "grade": true,
     "grade_id": "cell-ced77d94995c3603",
     "locked": false,
     "points": 7,
     "schema_version": 3,
     "solution": true
    },
    "outputId": "b3297234-713b-49b2-a645-717621c61422"
   },
   "outputs": [
    {
     "data": {
      "image/png": "[encoded data removed]",
      "text/plain": [
       "<Figure size 432x288 with 1 Axes>"
      ]
     },
     "metadata": {
      "needs_background": "light"
     },
     "output_type": "display_data"
    }
   ],
   "source": [
    "# YOUR CODE HERE\n",
    "\n",
    "initial = 1\n",
    "hours = 12\n",
    "rate = 11\n",
    "\n",
    "x = numpy.linspace(0,3,100)\n",
    "\n",
    "y = initial * (rate ** (24 * x/hours))\n",
    "\n",
    "# plot the function\n",
    "plt.plot(x,y)\n",
    "\n",
    "# add labels\n",
    "plt.xlabel(\"Time (days)\")\n",
    "plt.ylabel(\"# of Tribbles\")\n",
    "plt.title(\"Growth of Tribble Population\")\n",
    "plt.grid()\n",
    "\n",
    "# show the plot\n",
    "plt.show()\n",
    "\n",
    "\n",
    "#raise NotImplementedError()"
   ]
  },
  {
   "cell_type": "markdown",
   "metadata": {
    "deletable": false,
    "editable": false,
    "id": "XkfxGQXJjBDo",
    "nbgrader": {
     "cell_type": "markdown",
     "checksum": "3583a2a1b702c1af5d79486438e83124",
     "grade": false,
     "grade_id": "cell-7564389d26c906c0",
     "locked": true,
     "schema_version": 3,
     "solution": false
    }
   },
   "source": [
    "**(b)** [5] Assuming that tribbles cannot stack themselves on top of each other perfectly we also would like to model and plot the spread of tribbles throughout our space ship.  Assume our space ship is a square use the following function to plot the population on our space ship of tribbles:\n",
    "$$\n",
    "    N(x, y) = N_0 e^{-r^2/\\sigma^2}\n",
    "$$\n",
    "where $N_0 = 1000$, $\\sigma = 0.1$ and $r$ is the distance from the middle of our space ship."
   ]
  },
  {
   "cell_type": "code",
   "execution_count": null,
   "metadata": {
    "colab": {
     "base_uri": "https://localhost:8080/",
     "height": 295
    },
    "deletable": false,
    "id": "9iLtrLnQjBDp",
    "nbgrader": {
     "cell_type": "code",
     "checksum": "af9a4f6d65b6d0e9b4e246852ee41a34",
     "grade": true,
     "grade_id": "cell-57fc8ae3b01fafa8",
     "locked": false,
     "points": 8,
     "schema_version": 3,
     "solution": true
    },
    "outputId": "19724b13-1bae-4b7f-f2c8-d3d944cfa62b"
   },
   "outputs": [
    {
     "data": {
      "image/png": "[encoded data removed]",
      "text/plain": [
       "<Figure size 432x288 with 2 Axes>"
      ]
     },
     "metadata": {
      "needs_background": "light"
     },
     "output_type": "display_data"
    }
   ],
   "source": [
    "# YOUR CODE HERE\n",
    "\n",
    "x = numpy.linspace(-3,3,5)\n",
    "y = numpy.linspace(-3,3,5)\n",
    "x, y = numpy.meshgrid(x, y)\n",
    "\n",
    "N_0 = 1000\n",
    "stdev = 0.1\n",
    "\n",
    "N = N_0 * numpy.e**(-1 * (x**2 + y**2) / stdev**2)\n",
    "\n",
    "plt.contourf(x, y, N, 50)\n",
    "plt.colorbar()\n",
    "plt.grid()\n",
    "plt.xlabel(\"X Position\")\n",
    "plt.ylabel(\"Y Position\")\n",
    "plt.title(\"Physical Distribution of Tribbles in Space Ship\")\n",
    "plt.show()\n",
    "\n",
    "\n",
    "#raise NotImplementedError()"
   ]
  }
 ],
 "metadata": {
  "colab": {
   "collapsed_sections": [],
   "provenance": []
  },
  "kernelspec": {
   "display_name": "Python 3",
   "language": "python",
   "name": "python3"
  },
  "language_info": {
   "codemirror_mode": {
    "name": "ipython",
    "version": 3
   },
   "file_extension": ".py",
   "mimetype": "text/x-python",
   "name": "python",
   "nbconvert_exporter": "python",
   "pygments_lexer": "ipython3",
   "version": "3.8.8"
  }
 },
 "nbformat": 4,
 "nbformat_minor": 0
}
