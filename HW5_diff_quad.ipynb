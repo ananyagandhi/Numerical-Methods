{
 "cells": [
  {
   "cell_type": "markdown",
   "id": "dd22d619",
   "metadata": {},
   "source": [
    "Before you turn this problem in, make sure everything runs as expected. First, restart the kernel (in the menubar, select Kernel $\\rightarrow$ Restart) and then run all cells (in the menubar, select Cell $\\rightarrow$ Run All).\n",
    "\n",
    "Make sure you fill in any place that says YOUR CODE HERE or \"YOUR ANSWER HERE\", as well as your name and collaborators below:\n",
    "Ananya Gandhi, collaborated with Kayla Kim, Natalia Forero, and Elias Finkelstein"
   ]
  },
  {
   "cell_type": "code",
   "execution_count": 1,
   "id": "e7d3e422",
   "metadata": {},
   "outputs": [],
   "source": [
    "%matplotlib inline\n",
    "%precision 16\n",
    "import numpy\n",
    "import matplotlib.pyplot as plt"
   ]
  },
  {
   "cell_type": "markdown",
   "id": "dffc5275",
   "metadata": {
    "deletable": false,
    "editable": false,
    "nbgrader": {
     "cell_type": "markdown",
     "checksum": "501a1c819b64d93a63daffcf5dd3d042",
     "grade": false,
     "grade_id": "cell-3336298175051145",
     "locked": true,
     "schema_version": 3,
     "solution": false
    }
   },
   "source": [
    "Before you turn this problem in, make sure everything runs as expected. First, restart the kernel (in the menubar, select Kernel $\\rightarrow$ Restart) and then run all cells (in the menubar, select Cell $\\rightarrow$ Run All).\n",
    "\n",
    "Make sure you fill in any place that says YOUR CODE HERE or \"YOUR ANSWER HERE\", as well as your name and collaborators below:"
   ]
  },
  {
   "cell_type": "markdown",
   "id": "8828733a",
   "metadata": {
    "deletable": false,
    "editable": false,
    "nbgrader": {
     "cell_type": "markdown",
     "checksum": "fcf3b2b91a8f7b24d4600bfa299d76bf",
     "grade": false,
     "grade_id": "cell-8922434501433849",
     "locked": true,
     "schema_version": 3,
     "solution": false
    }
   },
   "source": [
    "# HW 5:  Numerical Differentiation and Quadrature"
   ]
  },
  {
   "cell_type": "markdown",
   "id": "2db491aa",
   "metadata": {
    "deletable": false,
    "editable": false,
    "nbgrader": {
     "cell_type": "markdown",
     "checksum": "0cb80782496bbb377e600c508305acf4",
     "grade": false,
     "grade_id": "cell-3dd132bf19336aa2",
     "locked": true,
     "schema_version": 3,
     "solution": false
    }
   },
   "source": [
    "## Question 1 - Fundamental Theorem of Calculus"
   ]
  },
  {
   "cell_type": "markdown",
   "id": "cd9ef524",
   "metadata": {
    "deletable": false,
    "editable": false,
    "nbgrader": {
     "cell_type": "markdown",
     "checksum": "213c66327c6e028d34375e660f60d191",
     "grade": false,
     "grade_id": "cell-4786948169516101",
     "locked": true,
     "schema_version": 3,
     "solution": false
    }
   },
   "source": [
    "**(a)** [10] Write a function that computes the integral of the derivative \n",
    "\n",
    "$$I[f] = \\int^x_0 f'(s) ds$$\n",
    "\n",
    "and returns the error from the expected calculation.  Use a second order accurate centered difference scheme and then a left-hand rule to compute the absolute error.  In this case the left-hand quadrature is\n",
    "\n",
    "$$Q[f] = f(x_i) \\Delta x$$\n",
    "\n",
    "The function should take in $x$ values and the function $f(x)$ and return a vector of the **errors** for each value $x$ given."
   ]
  },
  {
   "cell_type": "code",
   "execution_count": 2,
   "id": "8974d84c",
   "metadata": {
    "deletable": false,
    "nbgrader": {
     "cell_type": "code",
     "checksum": "b1a168b01a26cea27781fe894d5391a9",
     "grade": false,
     "grade_id": "cell-491150310177092",
     "locked": false,
     "schema_version": 3,
     "solution": true
    }
   },
   "outputs": [],
   "source": [
    "def int_diff_error(x, f):\n",
    "    # YOUR CODE HERE\n",
    "\n",
    "    delta_x = x[1] - x[0]\n",
    "\n",
    "    f_prime = numpy.empty(x.shape)    \n",
    "    f_prime[1:-1] = (f(x[2:]) - f(x[:-2])) / (2 * delta_x)\n",
    "    f_prime[0] = (f(x[1]) - f(x[0])) / delta_x    \n",
    "    f_prime[-1] = (f(x[-1]) - f(x[-2])) / delta_x\n",
    "\n",
    "    I = numpy.empty(x.shape)\n",
    "    I[0] = f_prime[0] * delta_x\n",
    "\n",
    "    for i in range(1, len(x)):\n",
    "      I[i] = I[i - 1] + f_prime[i] * delta_x\n",
    "\n",
    "    error = numpy.abs(I - (f(x) - 1))\n",
    "    \n",
    "    # raise NotImplementedError()\n",
    "    return error"
   ]
  },
  {
   "cell_type": "code",
   "execution_count": 3,
   "id": "2eb1cb7c",
   "metadata": {
    "deletable": false,
    "editable": false,
    "nbgrader": {
     "cell_type": "code",
     "checksum": "6d72bbf9029cbdf2ffdfce574e5d799b",
     "grade": true,
     "grade_id": "cell-5849927575491632",
     "locked": true,
     "points": 10,
     "schema_version": 3,
     "solution": false
    }
   },
   "outputs": [
    {
     "name": "stdout",
     "output_type": "stream",
     "text": [
      "0.006707859736810928\n",
      "Successful FTC evaluation.\n"
     ]
    }
   ],
   "source": [
    "f = lambda x: 1.0 / (1.0 + 100.0 * x**2)\n",
    "x = numpy.linspace(0.0, 1.0, 500)\n",
    "print(numpy.max(int_diff_error(x, f)))\n",
    "numpy.testing.assert_allclose(int_diff_error(x, f), numpy.zeros(500), atol=1e-2)\n",
    "print(\"Successful FTC evaluation.\")"
   ]
  },
  {
   "cell_type": "markdown",
   "id": "c969063c",
   "metadata": {
    "deletable": false,
    "editable": false,
    "nbgrader": {
     "cell_type": "markdown",
     "checksum": "f87a04a23dfceda35de3e2ea5d1eb3f4",
     "grade": false,
     "grade_id": "cell-398741922450368",
     "locked": true,
     "schema_version": 3,
     "solution": false
    }
   },
   "source": [
    "**(b)** [10] Compute the same as above except reverse the order of the operations, i.e.\n",
    "\n",
    "$$D[f] = \\frac{\\text{d}}{\\text{d}x} \\int^x_0 f(s) ds$$\n"
   ]
  },
  {
   "cell_type": "code",
   "execution_count": 4,
   "id": "77e6b2e3",
   "metadata": {
    "deletable": false,
    "nbgrader": {
     "cell_type": "code",
     "checksum": "f404f7d6673d1bd3ae49398655146b98",
     "grade": false,
     "grade_id": "cell-2858462487069013",
     "locked": false,
     "schema_version": 3,
     "solution": true
    }
   },
   "outputs": [],
   "source": [
    "def diff_int_error(x, f):\n",
    "    # YOUR CODE HERE\n",
    "\n",
    "    delta_x = x[1] - x[0]\n",
    "\n",
    "    I = numpy.empty(x.shape)\n",
    "    I[0] = f(x[0]) * delta_x\n",
    "\n",
    "    for i in range(1, len(x)):\n",
    "      I[i] = I[i - 1] + f(x[i]) * delta_x\n",
    "\n",
    "    i_prime = numpy.empty(x.shape)    \n",
    "    i_prime[1:-1] = (I[2:] - I[:-2]) / (2 * delta_x)\n",
    "    i_prime[0] = (I[1] - I[0]) / delta_x    \n",
    "    i_prime[-1] = (I[-1] - I[-2]) / delta_x\n",
    "\n",
    "    error = numpy.abs(i_prime - f(x))\n",
    "\n",
    "    #raise NotImplementedError()\n",
    "    \n",
    "    return error"
   ]
  },
  {
   "cell_type": "code",
   "execution_count": 5,
   "id": "18cd872f",
   "metadata": {
    "deletable": false,
    "editable": false,
    "nbgrader": {
     "cell_type": "code",
     "checksum": "b640afe1e89308c99ff448f7d088ea77",
     "grade": true,
     "grade_id": "cell-9269759256102392",
     "locked": true,
     "points": 10,
     "schema_version": 3,
     "solution": false
    }
   },
   "outputs": [
    {
     "name": "stdout",
     "output_type": "stream",
     "text": [
      "0.006507137941233254\n",
      "Successful FTC evaluation.\n"
     ]
    }
   ],
   "source": [
    "f = lambda x: 1.0 / (1.0 + 100.0 * x**2)\n",
    "x = numpy.linspace(0.0, 1.0, 500)\n",
    "print(numpy.max(diff_int_error(x, f)))\n",
    "numpy.testing.assert_allclose(diff_int_error(x, f), numpy.zeros(500), atol=1e-2)\n",
    "print(\"Successful FTC evaluation.\")"
   ]
  },
  {
   "cell_type": "markdown",
   "id": "8b559d70",
   "metadata": {
    "deletable": false,
    "editable": false,
    "nbgrader": {
     "cell_type": "markdown",
     "checksum": "d5a6be351add52398f2ca8c0bd30b3ac",
     "grade": false,
     "grade_id": "cell-4823234321128257",
     "locked": true,
     "schema_version": 3,
     "solution": false
    }
   },
   "source": [
    "**(c)** [5] Plot the convergence rate for the number of partitions `N = [10,100,200,300,400,500]` on a `loglog` plot by computing the norm over the error given for each $N$ by using the `numpy.linalg.norm` command with `ord=numpy.infty` vs. the $\\Delta x$ used.  Theorize about what you observe regarding the order of convergence."
   ]
  },
  {
   "cell_type": "markdown",
   "id": "6163fc18",
   "metadata": {
    "deletable": false,
    "nbgrader": {
     "cell_type": "markdown",
     "checksum": "a85fe7f59c2387591e4923af032a9f9f",
     "grade": true,
     "grade_id": "cell-3078294713448626",
     "locked": false,
     "points": 1,
     "schema_version": 3,
     "solution": true
    }
   },
   "source": [
    "YOUR ANSWER HERE"
   ]
  },
  {
   "cell_type": "code",
   "execution_count": 6,
   "id": "03e81908",
   "metadata": {
    "deletable": false,
    "nbgrader": {
     "cell_type": "code",
     "checksum": "3a70a655c05f0733252b89434fcf4627",
     "grade": true,
     "grade_id": "cell-3749304040102472",
     "locked": false,
     "points": 4,
     "schema_version": 3,
     "solution": true
    }
   },
   "outputs": [
    {
     "data": {
      "image/png": "[encoded data removed]",
      "text/plain": [
       "<Figure size 432x288 with 1 Axes>"
      ]
     },
     "metadata": {
      "needs_background": "light"
     },
     "output_type": "display_data"
    }
   ],
   "source": [
    "# YOUR CODE HERE\n",
    "f = lambda x: 1.0 / (1.0 + 100.0 * x**2)\n",
    "N = [10,100,200,300,400,500]\n",
    "delta_x = numpy.empty(len(N))\n",
    "error_int_diff = numpy.empty(len(N))\n",
    "error_diff_int = numpy.empty(len(N))\n",
    "\n",
    "for i in range(len(N)):\n",
    "\n",
    "  x_hat = numpy.linspace(0.0, 1.0, N[i] + 1)\n",
    "  delta_x[i] = x_hat[1] - x_hat[0]\n",
    "\n",
    "  error_int_diff[i] = numpy.linalg.norm(int_diff_error(x_hat, f), ord = numpy.infty)\n",
    "  error_diff_int[i] = numpy.linalg.norm(diff_int_error(x_hat, f), ord = numpy.infty)\n",
    "\n",
    "order_C = lambda delta_x, error, order: numpy.exp(numpy.log(error) - order * numpy.log(delta_x))\n",
    "\n",
    "plt.loglog(delta_x, error_int_diff, \"bo\",label=\"Int Diff\")\n",
    "plt.loglog(delta_x, error_diff_int, \"ro\",label=\"Diff Int\")\n",
    "plt.loglog(delta_x, order_C(delta_x[0], error_int_diff[0], 1) * delta_x**1, 'r--', label=\"1st Order\")\n",
    "\n",
    "plt.xlabel(\"Delta X\")\n",
    "plt.ylabel(\"Normalized Error for each N\")\n",
    "plt.title(\"Convergence Rate for different N\")\n",
    "plt.grid()\n",
    "plt.legend()\n",
    "plt.show()\n",
    "# raise NotImplementedError()"
   ]
  },
  {
   "cell_type": "markdown",
   "id": "5b869ddf",
   "metadata": {
    "deletable": false,
    "editable": false,
    "nbgrader": {
     "cell_type": "markdown",
     "checksum": "8585667a0ae57d0e5435ec44eaec137c",
     "grade": false,
     "grade_id": "cell-7913098871853593",
     "locked": true,
     "schema_version": 3,
     "solution": false
    }
   },
   "source": [
    "## Question 2 - Quadrature\n",
    "\n",
    "Consider the scaled Fresnel integrals\n",
    "\n",
    "$$I_c = \\int^1_0 \\frac{\\cos x}{\\sqrt{x}} dx~~~~\\text{and}~~~~I_s = \\int^1_0 \\frac{\\sin x}{\\sqrt{x}} dx$$\n",
    "\n",
    "which have values\n",
    "\n",
    "$$I_c = \\sqrt{2 \\pi} \\cdot C\\left(\\sqrt{\\frac{2}{\\pi}}\\right) \\approx 1.8090484758005438$$\n",
    "\n",
    "$$I_s = \\sqrt{2 \\pi} \\cdot S\\left(\\sqrt{\\frac{2}{\\pi}}\\right) \\approx 0.62053660344676231$$\n",
    "\n",
    "where the functions $C(x)$ and $S(x)$ can be evaluated by `scipy.special.fresnel`."
   ]
  },
  {
   "cell_type": "markdown",
   "id": "a6e1fe94",
   "metadata": {
    "deletable": false,
    "editable": false,
    "nbgrader": {
     "cell_type": "markdown",
     "checksum": "222f7d5236736b8a0776cb02ca1df5b4",
     "grade": false,
     "grade_id": "cell-8ebcf647bbb397eb",
     "locked": true,
     "schema_version": 3,
     "solution": false
    }
   },
   "source": [
    "**(a)** [2] Where do you imagine the problematic points of the integrals will be?"
   ]
  },
  {
   "cell_type": "markdown",
   "id": "bcab64e9",
   "metadata": {
    "deletable": false,
    "nbgrader": {
     "cell_type": "markdown",
     "checksum": "43f6c40a1d1510407671a7fd52b23b89",
     "grade": true,
     "grade_id": "cell-52b455a70eeda752",
     "locked": false,
     "points": 2,
     "schema_version": 3,
     "solution": true
    }
   },
   "source": [
    "YOUR ANSWER HERE\n",
    "\n",
    "The integrals will not be defined for x = 0, as this leads to 0 in the denominator. This point will be problematic. "
   ]
  },
  {
   "cell_type": "markdown",
   "id": "325b2470",
   "metadata": {
    "deletable": false,
    "editable": false,
    "nbgrader": {
     "cell_type": "markdown",
     "checksum": "e91477ff64d2281616f1f4fb941aa844",
     "grade": false,
     "grade_id": "cell-1280863455188854",
     "locked": true,
     "schema_version": 3,
     "solution": false
    }
   },
   "source": [
    "**(b)** [10] Write a function that computes both integrals using the  trapezoidal rule with N partitions of equal length \"ignoring\" the singularity at $x=0$ by setting integrands to 0."
   ]
  },
  {
   "cell_type": "code",
   "execution_count": 7,
   "id": "9439ca3e",
   "metadata": {
    "deletable": false,
    "nbgrader": {
     "cell_type": "code",
     "checksum": "921348b4de8f2db107b9480d6d9e7072",
     "grade": false,
     "grade_id": "cell-5673490144983784",
     "locked": false,
     "schema_version": 3,
     "solution": true
    }
   },
   "outputs": [],
   "source": [
    "def trap_1(N):\n",
    "    # YOUR CODE HERE\n",
    "    # raise NotImplementedError()\n",
    "\n",
    "    f_c = lambda x: numpy.cos(x) / numpy.sqrt(x)\n",
    "    f_s = lambda x: numpy.sin(x) / numpy.sqrt(x)\n",
    "    x = numpy.linspace(0, 1, N+1)\n",
    "    delta_x = x[1] - x[0]\n",
    "\n",
    "    I_c = numpy.empty(N)\n",
    "    I_c[0] = (f_c(x[1]) + 0) * delta_x / 2.0\n",
    "\n",
    "    for i in range(1, N):\n",
    "      I_c[i] = I_c[i - 1] + (f_c(x[i + 1]) + f_c(x[i])) * delta_x / 2.0\n",
    "\n",
    "    I_s = numpy.empty(N)\n",
    "    I_s[0] = (f_s(x[1]) + 0) * delta_x / 2.0\n",
    "\n",
    "    for i in range(1, N):\n",
    "      I_s[i] = I_s[i - 1] + (f_s(x[i + 1]) + f_s(x[i])) * delta_x / 2.0\n",
    "    \n",
    "    Is = I_s[-1]\n",
    "    Ic = I_c[-1]\n",
    "    \n",
    "    return Is, Ic"
   ]
  },
  {
   "cell_type": "code",
   "execution_count": 8,
   "id": "b4b4821b",
   "metadata": {
    "deletable": false,
    "editable": false,
    "nbgrader": {
     "cell_type": "code",
     "checksum": "2f5be43f80bfd1925375d176c460e044",
     "grade": true,
     "grade_id": "cell-4769111180699037",
     "locked": true,
     "points": 10,
     "schema_version": 3,
     "solution": false
    }
   },
   "outputs": [
    {
     "name": "stdout",
     "output_type": "stream",
     "text": [
      "Error: 7.324979502931761e-05\n",
      "Computed the integrals correctly using the trapezoidal rule only.\n"
     ]
    }
   ],
   "source": [
    "import scipy.special\n",
    "Is, Ic = scipy.special.fresnel(numpy.sqrt(2.0 / numpy.pi))\n",
    "Is *= numpy.sqrt(2.0 * numpy.pi)\n",
    "Ic *= numpy.sqrt(2.0 * numpy.pi)\n",
    "Is_hat, Ic_hat = trap_1(200)\n",
    "error = numpy.abs(Is_hat - Is)\n",
    "print(\"Error: %s\" % error)\n",
    "numpy.testing.assert_allclose(error, 0.0, atol=1e-4)\n",
    "print(\"Computed the integrals correctly using the trapezoidal rule only.\")"
   ]
  },
  {
   "cell_type": "markdown",
   "id": "050a1c0d",
   "metadata": {
    "deletable": false,
    "editable": false,
    "nbgrader": {
     "cell_type": "markdown",
     "checksum": "52c28c7b0c5b19816662713d3fa7af41",
     "grade": false,
     "grade_id": "cell-4978686228436492",
     "locked": true,
     "schema_version": 3,
     "solution": false
    }
   },
   "source": [
    "**(c)** [10] A weighted Newton-Cotes quadrature rule is a modification of our version of Newton-Cotes quadrature except that we also multiply by a weighting function.  This can be useful in situations such as the one we have found ourselves in.  Consider the integral\n",
    "$$\n",
    "    \\int^{x_{i+1}}_{x_i} \\frac{f(x)}{\\sqrt{x}} dx\n",
    "$$\n",
    "where here the weighting function is $x^{-1/2}$.  Say we wanted to approximate this integral by approximating $f(x)$ as a linear polynomial interpolant.  Find the resulting quadrature rule for approximating the weighted integral."
   ]
  },
  {
   "cell_type": "markdown",
   "id": "f8c2493c",
   "metadata": {
    "deletable": false,
    "nbgrader": {
     "cell_type": "markdown",
     "checksum": "df6b70e9c2472708ae4ab7c0ec488e90",
     "grade": true,
     "grade_id": "cell-497868628436492",
     "locked": false,
     "points": 0,
     "schema_version": 3,
     "solution": true
    }
   },
   "source": [
    "YOUR ANSWER HERE\n",
    "\n",
    "$$\n",
    "    p_0 = f(x_i) \\\\\n",
    "    p_1 = \\frac{f(x_{i + 1}) - f(x_i)}{x_{i + 1} - x_i} \\\\\n",
    "    p_1(x) = \\frac{f(x_{i + 1}) - f(x_i)}{x_{i + 1} - x_i} (x - x_i) + f(x_i)\n",
    "$$\n",
    "\n",
    "Apply to the integral:\n",
    "$$\n",
    "    I_N [f] = \\int_{x_i}^{x_{i + 1}} \\frac{1}{\\sqrt{x}}(p_0 + p_1(x - x_i))dx \\\\\n",
    "    I_N [f] = \\sqrt{x} (2p_0 + \\frac{2}{3} p_1 x - \\frac{2}{3} p_1 x_i x) \\Big|_{x_i}^{x_{i + 1}}\n",
    "$$\n",
    "\n",
    "If we apply our definitions for $p_0$ and $p_1$ and also set $x_i = 1$ and $x_{i + 1} = 1$\n",
    "\n",
    "$$\n",
    "    I_N [f] = \\sqrt{x} (2f(x_i) + \\frac{2}{3} (\\frac{f(x_{i + 1}) - f(x_i)}{x_{i + 1} - x_i}) x - \\frac{2}{3} (\\frac{f(x_{i + 1}) - f(x_i)}{x_{i + 1} - x_i}) x_i x) \\Big|_{0}^{1} \\\\\n",
    "    I_N [f] = (2f(0) + \\frac{2}{3} (\\frac{f(1) - f(0)}{1 - 0})(1 - 0) - \\frac{2}{3} (\\frac{f(1) - f(0)}{1-0})(0)(1 - 0) \\\\\n",
    "    I_N [f] = 2f(0) + \\frac{2}{3} (f(1) - f(0)) \\\\\n",
    "    I_N [f] = \\frac{4}{3}f(0) + \\frac{2}{3} f(1) \\\\\n",
    "    I_N [f] = \\frac{2}{3}(2f(0) + f(1))\n",
    "$$"
   ]
  },
  {
   "cell_type": "markdown",
   "id": "303f151a",
   "metadata": {
    "deletable": false,
    "editable": false,
    "nbgrader": {
     "cell_type": "markdown",
     "checksum": "61965e714ca91f2b79d176fa039b9a82",
     "grade": false,
     "grade_id": "cell-cf6b9a94eb0b6a5f",
     "locked": true,
     "schema_version": 3,
     "solution": false
    }
   },
   "source": [
    "**(d)** Use part (c) and evaluate only the first partition $[0, \\Delta x]$ using that quadrature and use trapezoid rule for the rest of the partitions."
   ]
  },
  {
   "cell_type": "code",
   "execution_count": 9,
   "id": "be4b3c7f",
   "metadata": {
    "deletable": false,
    "nbgrader": {
     "cell_type": "code",
     "checksum": "dad716e1fca86631fdd8fd9df34de6af",
     "grade": false,
     "grade_id": "cell-3325603703235502",
     "locked": false,
     "schema_version": 3,
     "solution": true
    }
   },
   "outputs": [],
   "source": [
    "def trap_wnc(N):\n",
    "    # YOUR CODE HERE\n",
    "    # raise NotImplementedError()\n",
    "\n",
    "    f_c = lambda x: numpy.cos(x) / numpy.sqrt(x)\n",
    "    f_s = lambda x: numpy.sin(x) / numpy.sqrt(x)\n",
    "    x = numpy.linspace(0, 1, N+1)\n",
    "    delta_x = x[1] - x[0]\n",
    "\n",
    "    I_c = numpy.empty(N)\n",
    "\n",
    "    I_c[0] = delta_x * 2.0 / 3.0 * f_c(x[1]) \n",
    "\n",
    "    I_s = numpy.empty(N)\n",
    "    I_s[0] = delta_x * 2.0 / 3.0 * f_s(x[1])\n",
    "\n",
    "    for i in range(1, N):\n",
    "      I_c[i] = I_c[i - 1] + (f_c(x[i + 1]) + f_c(x[i])) * delta_x / 2.0\n",
    "      I_s[i] = I_s[i - 1] + (f_s(x[i + 1]) + f_s(x[i])) * delta_x / 2.0\n",
    "    \n",
    "    Is = I_s[-1]\n",
    "    Ic = I_c[-1]\n",
    "\n",
    "    \n",
    "    return Is, Ic"
   ]
  },
  {
   "cell_type": "code",
   "execution_count": 10,
   "id": "d73da051",
   "metadata": {
    "deletable": false,
    "editable": false,
    "nbgrader": {
     "cell_type": "code",
     "checksum": "b17a01c91fbf750f5531305b29842a98",
     "grade": true,
     "grade_id": "cell-226151874510702",
     "locked": true,
     "points": 10,
     "schema_version": 3,
     "solution": false
    }
   },
   "outputs": [
    {
     "name": "stdout",
     "output_type": "stream",
     "text": [
      "Error: 1.4324475453353358e-05\n",
      "Computed the integrals correctly using the trapezoidal and Newton-Cotes rules.\n"
     ]
    }
   ],
   "source": [
    "import scipy.special\n",
    "Is, Ic = scipy.special.fresnel(numpy.sqrt(2.0 / numpy.pi))\n",
    "Is *= numpy.sqrt(2.0 * numpy.pi)\n",
    "Ic *= numpy.sqrt(2.0 * numpy.pi)\n",
    "Is_hat, Ic_hat = trap_wnc(200)\n",
    "error = numpy.abs(Is_hat - Is)\n",
    "print(\"Error: %s\" % error)\n",
    "numpy.testing.assert_allclose(error, 0.0, atol=1e-4)\n",
    "print(\"Computed the integrals correctly using the trapezoidal and Newton-Cotes rules.\")"
   ]
  },
  {
   "cell_type": "markdown",
   "id": "f8b64805",
   "metadata": {
    "deletable": false,
    "editable": false,
    "nbgrader": {
     "cell_type": "markdown",
     "checksum": "05036761682cd126ee464690fcf8a6b3",
     "grade": false,
     "grade_id": "cell-8870847314167314",
     "locked": true,
     "schema_version": 3,
     "solution": false
    }
   },
   "source": [
    "**(e)** [5] Do a change of variables $x = t^2$ and evaluate each integral using the trapezoidal rule for the entire domain."
   ]
  },
  {
   "cell_type": "code",
   "execution_count": 11,
   "id": "7a448259",
   "metadata": {
    "deletable": false,
    "nbgrader": {
     "cell_type": "code",
     "checksum": "137f55ec0119ab1ea534fa717eb0f673",
     "grade": false,
     "grade_id": "cell-7736129930158757",
     "locked": false,
     "schema_version": 3,
     "solution": true
    }
   },
   "outputs": [],
   "source": [
    "def trap_transformed(N):\n",
    "    # YOUR CODE HERE\n",
    "    # raise NotImplementedError()\n",
    "\n",
    "    f_c = lambda t: 2 * numpy.cos(t**2) \n",
    "    f_s = lambda t: 2 * numpy.sin(t**2) \n",
    "    x = numpy.linspace(0, 1, N+1)\n",
    "    delta_x = x[1] - x[0]\n",
    "\n",
    "    I_c = numpy.empty(N)\n",
    "\n",
    "    I_c[0] = (f_c(x[1]) + f_c(x[0])) * delta_x / 2\n",
    "\n",
    "    I_s = numpy.empty(N)\n",
    "    I_s[0] = (f_s(x[1]) + f_s(x[0])) * delta_x / 2\n",
    "\n",
    "    for i in range(1, N):\n",
    "      I_c[i] = I_c[i - 1] + (f_c(x[i + 1]) + f_c(x[i])) * delta_x / 2.0\n",
    "      I_s[i] = I_s[i - 1] + (f_s(x[i + 1]) + f_s(x[i])) * delta_x / 2.0\n",
    "    \n",
    "    Is = I_s[-1]\n",
    "    Ic = I_c[-1]\n",
    "    \n",
    "    return Is, Ic"
   ]
  },
  {
   "cell_type": "code",
   "execution_count": 12,
   "id": "03cd8dca",
   "metadata": {
    "deletable": false,
    "editable": false,
    "nbgrader": {
     "cell_type": "code",
     "checksum": "a6fc2b55b128c08eb7456d37ca5ce2f8",
     "grade": true,
     "grade_id": "cell-3154020715657228",
     "locked": true,
     "points": 5,
     "schema_version": 3,
     "solution": false
    }
   },
   "outputs": [
    {
     "name": "stdout",
     "output_type": "stream",
     "text": [
      "Error: 4.502544250550855e-06\n",
      "Computed the integrals correctly using the trapezoidal rule.\n"
     ]
    }
   ],
   "source": [
    "import scipy.special\n",
    "Is, Ic = scipy.special.fresnel(numpy.sqrt(2.0 / numpy.pi))\n",
    "Is *= numpy.sqrt(2.0 * numpy.pi)\n",
    "Ic *= numpy.sqrt(2.0 * numpy.pi)\n",
    "Is_hat, Ic_hat = trap_transformed(200)\n",
    "error = numpy.abs(Is_hat - Is)\n",
    "print(\"Error: %s\" % error)\n",
    "numpy.testing.assert_allclose(error, 0.0, atol=1e-5)\n",
    "print(\"Computed the integrals correctly using the trapezoidal rule.\")"
   ]
  },
  {
   "cell_type": "markdown",
   "id": "0f712b6f",
   "metadata": {
    "deletable": false,
    "editable": false,
    "nbgrader": {
     "cell_type": "markdown",
     "checksum": "0bda5ba7744648084f5b2d902c0fa0d7",
     "grade": false,
     "grade_id": "cell-6494212708282626",
     "locked": true,
     "schema_version": 3,
     "solution": false
    }
   },
   "source": [
    "**(f)** [5] Do the same as in part (e) again using the transformation $x=t^2$ but use 3-point Gauss-Legendre quadrature for the approximation to the integral."
   ]
  },
  {
   "cell_type": "code",
   "execution_count": 13,
   "id": "608bfaf8",
   "metadata": {
    "deletable": false,
    "nbgrader": {
     "cell_type": "code",
     "checksum": "32ec8c214868f6a534bc62a4ec084de5",
     "grade": false,
     "grade_id": "cell-5621529377713954",
     "locked": false,
     "schema_version": 3,
     "solution": true
    }
   },
   "outputs": [],
   "source": [
    "def gauss_legendre_3(N):\n",
    "    # YOUR CODE HERE\n",
    "    # raise NotImplementedError()\n",
    "    f_c = lambda t: 2 * numpy.cos(t**2) \n",
    "    f_s = lambda t: 2 * numpy.sin(t**2) \n",
    "    x = numpy.linspace(0, 1, N+1)\n",
    "    delta_x = x[1] - x[0]\n",
    "\n",
    "    xi_map = lambda a,b,xi : (b - a) / 2.0 * xi + (a + b) / 2.0\n",
    "    xi = [-numpy.sqrt(3/5), 0, numpy.sqrt(3/5)]\n",
    "    w = [5/9, 8/9, 5/9] \n",
    "\n",
    "    Is = 0.0\n",
    "    Ic = 0.0\n",
    "    for i in range(0, N):\n",
    "        for k in range(len(xi)):\n",
    "            Is += f_s(xi_map(x[i], x[i+1], xi[k])) * w[k]\n",
    "            Ic += f_c(xi_map(x[i], x[i+1], xi[k])) * w[k]\n",
    "\n",
    "    Is *= delta_x / 2.0\n",
    "    Ic *= delta_x / 2.0\n",
    "    \n",
    "    return Is, Ic"
   ]
  },
  {
   "cell_type": "code",
   "execution_count": 14,
   "id": "eecfd0f0",
   "metadata": {
    "deletable": false,
    "editable": false,
    "nbgrader": {
     "cell_type": "code",
     "checksum": "04ac21769af6ce2affbccd4aeb8bcbaa",
     "grade": true,
     "grade_id": "cell-1113773998085106",
     "locked": true,
     "points": 5,
     "schema_version": 3,
     "solution": false
    }
   },
   "outputs": [
    {
     "name": "stdout",
     "output_type": "stream",
     "text": [
      "Error: 8.57062198988956e-11\n",
      "Computed the integrals correctly using the trapezoidal and Newton-Cotes rules.\n"
     ]
    }
   ],
   "source": [
    "import scipy.special\n",
    "Is, Ic = scipy.special.fresnel(numpy.sqrt(2.0 / numpy.pi))\n",
    "Is *= numpy.sqrt(2.0 * numpy.pi)\n",
    "Ic *= numpy.sqrt(2.0 * numpy.pi)\n",
    "Is_hat, Ic_hat = gauss_legendre_3(10)\n",
    "error = numpy.abs(Is_hat - Is)\n",
    "print(\"Error: %s\" % error)\n",
    "numpy.testing.assert_allclose(error, 0.0, atol=1e-10)\n",
    "print(\"Computed the integrals correctly using the trapezoidal and Newton-Cotes rules.\")"
   ]
  },
  {
   "cell_type": "markdown",
   "id": "3e120be3",
   "metadata": {
    "deletable": false,
    "editable": false,
    "nbgrader": {
     "cell_type": "markdown",
     "checksum": "b64ac0e3f74e31b99309b6f314f3e037",
     "grade": false,
     "grade_id": "cell-6575269031232667",
     "locked": true,
     "schema_version": 3,
     "solution": false
    }
   },
   "source": [
    "**(g)** [5] Check the order of accuracy for each of the methods above and plot these on a `loglog` plot with appropriate reference lines to indicate the order of each."
   ]
  },
  {
   "cell_type": "code",
   "execution_count": 15,
   "id": "eb17ed23",
   "metadata": {
    "deletable": false,
    "nbgrader": {
     "cell_type": "code",
     "checksum": "4f917f94562abcab094e913a8c5f50ec",
     "grade": true,
     "grade_id": "cell-395406051759804",
     "locked": false,
     "points": 5,
     "schema_version": 3,
     "solution": true
    }
   },
   "outputs": [
    {
     "data": {
      "image/png": "[encoded data removed]",
      "text/plain": [
       "<Figure size 576x432 with 1 Axes>"
      ]
     },
     "metadata": {
      "needs_background": "light"
     },
     "output_type": "display_data"
    },
    {
     "data": {
      "image/png": "[encoded data removed]",
      "text/plain": [
       "<Figure size 576x432 with 1 Axes>"
      ]
     },
     "metadata": {
      "needs_background": "light"
     },
     "output_type": "display_data"
    }
   ],
   "source": [
    "# YOUR CODE HERE\n",
    "# raise NotImplementedError()\n",
    "\n",
    "# Compute the error as a function of delta_x for each method\n",
    "\n",
    "num_partitions = range(50, 1000, 50)\n",
    "delta_x = numpy.empty(len(num_partitions))\n",
    "\n",
    "# trap_1 function\n",
    "error_trap_s = numpy.empty(len(num_partitions))\n",
    "error_trap_c = numpy.empty(len(num_partitions))\n",
    "\n",
    "# trap weighted newton cotes\n",
    "error_wnc_s = numpy.empty(len(num_partitions))\n",
    "error_wnc_c = numpy.empty(len(num_partitions))\n",
    "\n",
    "# trap transformed\n",
    "error_transformed_s = numpy.empty(len(num_partitions))\n",
    "error_transformed_c = numpy.empty(len(num_partitions))\n",
    "\n",
    "# gauss legendre\n",
    "error_gauss_s = numpy.empty(len(num_partitions))\n",
    "error_gauss_c = numpy.empty(len(num_partitions))\n",
    "\n",
    "# real values\n",
    "Is, Ic = scipy.special.fresnel(numpy.sqrt(2.0 / numpy.pi))\n",
    "Is *= numpy.sqrt(2.0 * numpy.pi)\n",
    "Ic *= numpy.sqrt(2.0 * numpy.pi)\n",
    "\n",
    "for (j, N) in enumerate(num_partitions):\n",
    "    x_hat = numpy.linspace(0.0, 1.0, N + 1)\n",
    "    delta_x[j] = x_hat[1] - x_hat[0]\n",
    "\n",
    "    # compute errors for trap_1 method\n",
    "    Is_hat, Ic_hat = trap_1(N)\n",
    "    error_trap_s[j] = numpy.abs(Is_hat - Is)\n",
    "    error_trap_c[j] = numpy.abs(Ic_hat - Ic)\n",
    "\n",
    "    # compute errors for trap_wnc method\n",
    "    Is_hat, Ic_hat = trap_wnc(N)\n",
    "    error_wnc_s[j] = numpy.abs(Is_hat - Is)\n",
    "    error_wnc_c[j] = numpy.abs(Ic_hat - Ic)\n",
    "\n",
    "    # compute errors for trap transformed method\n",
    "    Is_hat, Ic_hat = trap_transformed(N)\n",
    "    error_transformed_s[j] = numpy.abs(Is_hat - Is)\n",
    "    error_transformed_c[j] = numpy.abs(Ic_hat - Ic)\n",
    "\n",
    "    # compute errors for gauss legendre method\n",
    "    Is_hat, Ic_hat = gauss_legendre_3(N)\n",
    "    error_gauss_s[j] = numpy.abs(Is_hat - Is)\n",
    "    error_gauss_c[j] = numpy.abs(Ic_hat - Ic)\n",
    "\n",
    "order_C = lambda delta_x, error, order: numpy.exp(numpy.log(error) - order * numpy.log(delta_x))    \n",
    "\n",
    "# plot for I_c\n",
    "fig = plt.figure(figsize=(8, 6))\n",
    "axes = fig.add_subplot(1, 1, 1)\n",
    "\n",
    "axes.loglog(delta_x, error_trap_c, 'o', label=\"Trapezoid\")\n",
    "axes.loglog(delta_x, error_wnc_c, 'o', label=\"Trap Weighted\")\n",
    "axes.loglog(delta_x, error_transformed_c, 'o', label=\"Trap Transformed\")\n",
    "axes.loglog(delta_x, error_gauss_c, 'o', label=\"G-L 3 point\")\n",
    "\n",
    "axes.loglog(delta_x, order_C(delta_x[0], error_trap_c[0], 0.5) * delta_x**0.5, 'r--', label=\"Trapezoid Order 0.5\" )\n",
    "axes.loglog(delta_x, order_C(delta_x[0], error_wnc_c[0], 0.5) * delta_x**0.5, 'b--', label=\"Trap Weighted Order 0.5\")\n",
    "axes.loglog(delta_x, order_C(delta_x[0], error_transformed_c[0], 2.0) * delta_x**2.0, 'g--', label=\"Trap Transformed Order 2\")\n",
    "axes.loglog(delta_x, order_C(delta_x[0], error_gauss_c[0], 1) * delta_x**1.0, 'y--', label=\"G-L 3 point Order 1\")\n",
    "\n",
    "plt.title(\"Errors and Order of Accuracy for $I_c$\")\n",
    "plt.legend()\n",
    "plt.grid()\n",
    "plt.show()\n",
    "\n",
    "# plot for I_s\n",
    "fig = plt.figure(figsize=(8, 6))\n",
    "axes = fig.add_subplot(1, 1, 1)\n",
    "\n",
    "axes.loglog(delta_x, error_trap_s, 'o', label=\"Trapezoid\")\n",
    "axes.loglog(delta_x, error_wnc_s, 'o', label=\"Trap Weighted\")\n",
    "axes.loglog(delta_x, error_transformed_s, 'o', label=\"Trap Transformed\")\n",
    "axes.loglog(delta_x, error_gauss_s, 'o', label=\"G-L 3 point\")\n",
    "\n",
    "axes.loglog(delta_x, order_C(delta_x[0], error_trap_s[0], 1.5) * delta_x**1.5, 'r--', label=\"Trapezoid Order 1.5\" )\n",
    "axes.loglog(delta_x, order_C(delta_x[0], error_wnc_s[0], 1.5) * delta_x**1.5, 'b--', label=\"Trap Weighted Order 1.5\")\n",
    "axes.loglog(delta_x, order_C(delta_x[0], error_transformed_s[0], 2.0) * delta_x**2.0, 'g--', label=\"Trap Transformed Order 2\")\n",
    "axes.loglog(delta_x, order_C(delta_x[0], error_gauss_s[0], 1) * delta_x**1, 'y--', label=\"G-L 3 point Order 1\")\n",
    "\n",
    "plt.title(\"Errors and Order of Accuracy for $I_s$\")\n",
    "plt.legend()\n",
    "plt.grid()\n",
    "plt.show()"
   ]
  },
  {
   "cell_type": "markdown",
   "id": "dc854069",
   "metadata": {
    "deletable": false,
    "editable": false,
    "nbgrader": {
     "cell_type": "markdown",
     "checksum": "055c6e348ffcd39546e0d17583e502d8",
     "grade": false,
     "grade_id": "cell-1553923981662412",
     "locked": true,
     "schema_version": 3,
     "solution": false
    }
   },
   "source": [
    "**(h)** [3] Comment on the results of this question and the vast differences in convergence rates even between the two integrations (why is $I_c$ less accurate than $I_s$)."
   ]
  },
  {
   "cell_type": "markdown",
   "id": "0ad513c8",
   "metadata": {
    "deletable": false,
    "nbgrader": {
     "cell_type": "markdown",
     "checksum": "329ffa12d392d78f0bd4c33a4c942e42",
     "grade": true,
     "grade_id": "cell-7860584774817940",
     "locked": false,
     "points": 3,
     "schema_version": 3,
     "solution": true
    }
   },
   "source": [
    "YOUR ANSWER HERE\n",
    "\n",
    "$I_s$ has a higher order of accuracy, closer to orders of 1.5 and 2, while $I_c$ has a lower order of accuracy closer to 0.5. The trapezoid method is consistent among both integrations. $I_c$ is less accurate bcause it has a bigger singularity at the beginning, because $\\cos 0 = 1$."
   ]
  },
  {
   "cell_type": "markdown",
   "id": "c2b2b24a",
   "metadata": {
    "deletable": false,
    "editable": false,
    "nbgrader": {
     "cell_type": "markdown",
     "checksum": "79f633727305ca87d03db986b7d050d5",
     "grade": false,
     "grade_id": "cell-3224734890563854",
     "locked": true,
     "schema_version": 3,
     "solution": false
    }
   },
   "source": [
    "## Question 3\n",
    "\n",
    "We can often reformulate finite difference approximations as matrix-vector products.  For the following assume that the data considered are equi-spaced points $(x_i, y_i)$, i.e. $\\Delta x$ is uniform."
   ]
  },
  {
   "cell_type": "markdown",
   "id": "1c1acf4d",
   "metadata": {
    "deletable": false,
    "editable": false,
    "nbgrader": {
     "cell_type": "markdown",
     "checksum": "9ec108b356e66a3e16ee9b41e0ccac53",
     "grade": false,
     "grade_id": "cell-5c735e9080300d72",
     "locked": true,
     "schema_version": 3,
     "solution": false
    }
   },
   "source": [
    "**(a)** [10] Derive the forward and backward second order finite difference approximations to the second derivative using the method of your choice."
   ]
  },
  {
   "cell_type": "markdown",
   "id": "ff989a34",
   "metadata": {
    "deletable": false,
    "nbgrader": {
     "cell_type": "markdown",
     "checksum": "57199decbaf43c32a17f1c759881727a",
     "grade": true,
     "grade_id": "cell-88d2d6f7dba4237d",
     "locked": false,
     "points": 10,
     "schema_version": 3,
     "solution": true
    }
   },
   "source": [
    "YOUR ANSWER HERE\n",
    "\n",
    "By the Taylor Series Expansion:\n",
    "$$\n",
    "    f(x_{n + 1}) = f(x_n) + \\Delta x f'(x_n) + \\frac{\\Delta x^2}{2!} f''(x_n) + \\frac{\\Delta x^3}{3!} f'''(x_n) + O(\\Delta x^4) \\\\ \n",
    "    f(x_{n + 2}) = f(x_n) + 2\\Delta x f'(x_n) + \\frac{4\\Delta x^2}{2!} f''(x_n) + \\frac{8\\Delta x^3}{3!} f'''(x_n) + O(\\Delta x^4) \\\\ \n",
    "    f(x_{n + 3}) = f(x_n) + 3\\Delta x f'(x_n) + \\frac{9\\Delta x^2}{2!} f''(x_n) + \\frac{27\\Delta x^3}{3!} f'''(x_n) + O(\\Delta x^4) \\\\ \n",
    "$$\n",
    "\n",
    "To get rid of the $f'(x)$ and $f'''(x)$ terms, we have to solve the equation:\n",
    "\n",
    "$$\\begin{bmatrix}\n",
    "    1 & 2 & 3 \\\\\n",
    "    1 & 8 & 27 \\\\\n",
    "\\end{bmatrix} \\begin{bmatrix} \n",
    "    x_1 \\\\\n",
    "    x_2 \\\\\n",
    "    x_3 \\\\\n",
    "\\end{bmatrix}\n",
    "= 0\n",
    "$$\n",
    "\n",
    "We get $\\vec{x} = \n",
    "\\begin{bmatrix}\n",
    "    5 \\\\\n",
    "    -4 \\\\\n",
    "    1\n",
    "\\end{bmatrix}$\n",
    "\n",
    "Now, we know that we can solve for $f''(x)$ by adding $5f(x_{n + 1}) - 4f(x_{n + 2}) + 1f(x_{n + 3})$. \n",
    "\n",
    "$$ \n",
    "    5f(x_{n + 1}) - 4f(x_{n + 2}) + f(x_{n + 3}) = 5\\left(f(x_n) + \\Delta x f'(x_n) + \\frac{\\Delta x^2}{2!} f''(x_n) + \\frac{\\Delta x^3}{3!} f'''(x_n) + O(\\Delta x^4) \\right) - 4 \\left(f(x_n) + 2\\Delta x f'(x_n) + \\frac{4\\Delta x^2}{2!} f''(x_n) + \\frac{8\\Delta x^3}{3!} f'''(x_n) + O(\\Delta x^4) \\right) + \\left(f(x_n) + 3\\Delta x f'(x_n) + \\frac{9\\Delta x^2}{2!} f''(x_n) + \\frac{27\\Delta x^3}{3!} f'''(x_n) + O(\\Delta x^4) \\right) \\\\\n",
    "    5f(x_{n + 1}) - 4f(x_{n + 2}) + f(x_{n + 3}) = 2f(x_n) - \\frac{2\\Delta x^2}{2!} f''(x_n) \\\\ \n",
    "    5f(x_{n + 1}) - 4f(x_{n + 2}) + f(x_{n + 3}) = 2f(x_n) - \\Delta x^2 f''(x_n) \\\\\n",
    "    f''(x_n) = \\frac{2f(x_n) - 5f(x_{n + 1}) + 4f(x_{n + 2}) - f(x_{n + 3}) }{\\Delta x^2}  \n",
    "$$\n",
    "\n",
    "This gives us the forward second order finite difference approximation. \n",
    "\n",
    "We can derive the backward version from this as well:\n",
    "$$\n",
    "    f''(x_n) = \\frac{2f(x_n) - 5f(x_{n - 1}) + 4f(x_{n - 2}) - f(x_{n - 3}) }{\\Delta x^2} \n",
    "$$"
   ]
  },
  {
   "cell_type": "markdown",
   "id": "98272603",
   "metadata": {
    "deletable": false,
    "editable": false,
    "nbgrader": {
     "cell_type": "markdown",
     "checksum": "93a21c535b283619d231255341d37ad2",
     "grade": false,
     "grade_id": "cell-7885120873385504",
     "locked": true,
     "schema_version": 3,
     "solution": false
    }
   },
   "source": [
    "**(b)** [10] Using a second order centered finite difference approximation to the second derivative and the appropriate second order forward and backward difference schemes at the edges of the domain find the matrix $D$ such that multiplying a vector of $y$ values would lead to a second order approximation of the derivative for the given data.  In other words for $y_i = f(x_i)$\n",
    "$$\n",
    "    f''(x) \\approx D y.\n",
    "$$"
   ]
  },
  {
   "cell_type": "markdown",
   "id": "a03ae896",
   "metadata": {
    "deletable": false,
    "nbgrader": {
     "cell_type": "markdown",
     "checksum": "67a3ffd50bc7cfb020a04991ff5467d7",
     "grade": true,
     "grade_id": "cell-2125755949784286",
     "locked": false,
     "points": 10,
     "schema_version": 3,
     "solution": true
    }
   },
   "source": [
    "YOUR ANSWER HERE\n",
    "\n",
    "To calculate the centered finite difference approximation, we can add $f(x_{n + 1})$ and $f(x_{n - 1})$ to get:\n",
    "\n",
    "$$\n",
    "    f(x_{n + 1}) = f(x_n) + \\Delta x f'(x_n) + \\frac{\\Delta x^2}{2!} f''(x_n) + \\frac{\\Delta x^3}{3!} f'''(x_n) + O(\\Delta x^4) \\\\ \n",
    "    f(x_{n - 1}) = f(x_n) - \\Delta x f'(x_n) + \\frac{\\Delta x^2}{2!} f''(x_n) - \\frac{\\Delta x^3}{3!} f'''(x_n) + O(\\Delta x^4) \\\\ \n",
    "    f(x_{n + 1}) + f(x_{n - 1}) = 2f(x_n) + \\Delta x^2 f''(x_n) + O(\\Delta x^4) \\\\ \n",
    "    f''(x_n) = \\frac{f(x_{n - 1}) - 2f(x_n) + f(x_{n + 1}) }{\\Delta x^2} \n",
    "$$\n",
    "\n",
    "We get the matrix D such that:\n",
    "$$\\frac{1}{\\Delta x^2} \\begin{bmatrix}\n",
    "    2 & -5 & 4 & -1 & ... & 0 & 0 & 0 & 0\\\\\n",
    "    1 & -2 & 1 & 0 & ... & 0 & 0 & 0 & 0\\\\\n",
    "    0 & 1 & -2 & 1 & ... & 0 & 0 & 0 & 0\\\\\n",
    "    0 & 0 & 1 & -2 & ... & 0 & 0 & 0 & 0\\\\\n",
    "    0 & 0 & 0 & 0 & ... & 1 & -2 & 1 & 0\\\\\n",
    "    0 & 0 & 0 & 0 & ... & 0 & 1 & -2 & 1\\\\\n",
    "    0 & 0 & 0 & 0 & ... & -1 & 4 & -5 & 2\\\\\n",
    "\\end{bmatrix} \\begin{bmatrix}\n",
    "    f(x_0) \\\\\n",
    "    f(x_1) \\\\\n",
    "    f(x_2) \\\\ \n",
    "    f(x_3) \\\\\n",
    "    f(x_4) \\\\\n",
    "    ... \\\\ \n",
    "    f(x_i) \\\\\n",
    "\\end{bmatrix}$$\n",
    "\n",
    "So we end up with \n",
    "$$D = \\frac{1}{\\Delta x^2} \\begin{bmatrix}\n",
    "    2 & -5 & 4 & -1 & ... & 0 & 0 & 0 & 0\\\\\n",
    "    1 & -2 & 1 & 0 & ... & 0 & 0 & 0 & 0\\\\\n",
    "    0 & 1 & -2 & 1 & ... & 0 & 0 & 0 & 0\\\\\n",
    "    0 & 0 & 1 & -2 & ... & 0 & 0 & 0 & 0\\\\\n",
    "    0 & 0 & 0 & 0 & ... & 1 & -2 & 1 & 0\\\\\n",
    "    0 & 0 & 0 & 0 & ... & 0 & 1 & -2 & 1\\\\\n",
    "    0 & 0 & 0 & 0 & ... & -1 & 4 & -5 & 2\\\\\n",
    "\\end{bmatrix}$$YOUR ANSWER HERE"
   ]
  },
  {
   "cell_type": "markdown",
   "id": "18bc3b2b",
   "metadata": {
    "deletable": false,
    "editable": false,
    "nbgrader": {
     "cell_type": "markdown",
     "checksum": "11d83390ba12aae06db91362c35dccbc",
     "grade": false,
     "grade_id": "cell-8815784455777695",
     "locked": true,
     "schema_version": 3,
     "solution": false
    }
   },
   "source": [
    "**(c)** [10] Write a function that takes in the number of data points $N$ and returns the matrix $D$.  Here assume we are on the interval $[-1, 1]$.  Note that inside your function \n",
    "$$\n",
    "    \\Delta x = \\frac{2}{N - 1}\n",
    "$$\n",
    "to match the `linspace` command.\n",
    "\n",
    "Beyond being convenient (once you construct the matrix you can apply it to any set of data) this operation is much faster than using loops.  *Hint:* The command `numpy.diag` may be extremely helpful."
   ]
  },
  {
   "cell_type": "code",
   "execution_count": 16,
   "id": "dcfea249",
   "metadata": {
    "deletable": false,
    "nbgrader": {
     "cell_type": "code",
     "checksum": "08cef2157f573181b72e409343a13c87",
     "grade": false,
     "grade_id": "cell-5516025382221234",
     "locked": false,
     "schema_version": 3,
     "solution": true
    }
   },
   "outputs": [],
   "source": [
    "def diff_matrix(N):\n",
    "    # YOUR CODE HERE\n",
    "    # raise NotImplementedError()\n",
    "\n",
    "    delta_x = 2 / (N - 1)\n",
    "    \n",
    "    D = numpy.zeros((N, N))\n",
    "    D += numpy.diag(numpy.ones(N) * -2, 0)\n",
    "    D += numpy.diag(numpy.ones(N - 1), 1)\n",
    "    D += numpy.diag(numpy.ones(N - 1), -1)\n",
    "    D[0, :4] = [2, -5, 4, -1]\n",
    "    D[-1, -4:] = [-1, 4, -5, 2]\n",
    "\n",
    "    D *= 1 / delta_x **2\n",
    "    \n",
    "    return D"
   ]
  },
  {
   "cell_type": "code",
   "execution_count": 17,
   "id": "48489bff",
   "metadata": {
    "deletable": false,
    "editable": false,
    "nbgrader": {
     "cell_type": "code",
     "checksum": "0cd8e56a3e5745bcf3fff5e30cff6fb4",
     "grade": true,
     "grade_id": "cell-7511846809958937",
     "locked": true,
     "points": 10,
     "schema_version": 3,
     "solution": false
    }
   },
   "outputs": [
    {
     "name": "stdout",
     "output_type": "stream",
     "text": [
      "Success!\n"
     ]
    }
   ],
   "source": [
    "N = 200\n",
    "x = numpy.linspace(-1, 1, N)\n",
    "y = numpy.sin(x) * numpy.cos(x)\n",
    "numpy.testing.assert_allclose(numpy.dot(diff_matrix(N), y), -4.0 * numpy.sin(x) * numpy.cos(x), rtol=1e-2)\n",
    "print(\"Success!\")"
   ]
  },
  {
   "cell_type": "markdown",
   "id": "fb99761a",
   "metadata": {
    "deletable": false,
    "editable": false,
    "nbgrader": {
     "cell_type": "markdown",
     "checksum": "86e0dec917e91613054276eaca16dc9b",
     "grade": false,
     "grade_id": "cell-1283048126092389",
     "locked": true,
     "schema_version": 3,
     "solution": false
    }
   },
   "source": [
    "**(c)** [5] Suppose instead that we did not know the vector $f(x_i) = y_i$ but instead knew the value of second derivative at these points.  If we wanted to find the vector $y$ what kind of problem would we have to solve?  What is the continuous analog of this problem and what additional information would we need?"
   ]
  },
  {
   "cell_type": "markdown",
   "id": "9332232f",
   "metadata": {
    "deletable": false,
    "nbgrader": {
     "cell_type": "markdown",
     "checksum": "4b523be5a5ee66ce478e9f9c59feaf56",
     "grade": true,
     "grade_id": "cell-3816704844311840",
     "locked": false,
     "points": 5,
     "schema_version": 3,
     "solution": true
    }
   },
   "source": [
    "YOUR ANSWER HERE\n",
    "\n",
    "If we had the value of the second derivative at these points, we would need to solve a system of linear equations involving derivatives to find the vector y. Because we have the second derivative and it is related to the variable y, this is similar to a second order ordinary differential equation, which requires knowing boundary points and solving an initial value problem to get the final solution. If this was continuous, we would be solving an ODE and need the Initial Value and Boundary Values. "
   ]
  }
 ],
 "metadata": {
  "kernelspec": {
   "display_name": "Python 3",
   "language": "python",
   "name": "python3"
  },
  "language_info": {
   "codemirror_mode": {
    "name": "ipython",
    "version": 3
   },
   "file_extension": ".py",
   "mimetype": "text/x-python",
   "name": "python",
   "nbconvert_exporter": "python",
   "pygments_lexer": "ipython3",
   "version": "3.8.8"
  }
 },
 "nbformat": 4,
 "nbformat_minor": 5
}
