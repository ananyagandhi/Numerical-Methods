{
 "cells": [
  {
   "cell_type": "markdown",
   "id": "1e25a969",
   "metadata": {},
   "source": [
    "Before you turn this problem in, make sure everything runs as expected. First, restart the kernel (in the menubar, select Kernel $\\rightarrow$ Restart) and then run all cells (in the menubar, select Cell $\\rightarrow$ Run All).\n",
    "\n",
    "Make sure you fill in any place that says YOUR CODE HERE or \"YOUR ANSWER HERE\", as well as your name and collaborators below:\n",
    "Ananya Gandhi, collaborated with Natalia Forero and Kayla Kim"
   ]
  },
  {
   "cell_type": "code",
   "execution_count": 1,
   "id": "e9bd0f7f",
   "metadata": {},
   "outputs": [],
   "source": [
    "%matplotlib inline\n",
    "import numpy\n",
    "import matplotlib.pyplot as plt"
   ]
  },
  {
   "cell_type": "markdown",
   "id": "3de2edd7",
   "metadata": {
    "deletable": false,
    "editable": false,
    "nbgrader": {
     "cell_type": "markdown",
     "checksum": "896aee8be036699e78bc884285e0b02f",
     "grade": false,
     "grade_id": "cell-7752050701682384",
     "locked": true,
     "schema_version": 3,
     "solution": false
    }
   },
   "source": [
    "# HW 3:  Root Finding and Optimization"
   ]
  },
  {
   "cell_type": "markdown",
   "id": "3d01617c",
   "metadata": {
    "deletable": false,
    "editable": false,
    "nbgrader": {
     "cell_type": "markdown",
     "checksum": "8ba9e30c00ee9ff26ef3b34408fbde34",
     "grade": false,
     "grade_id": "cell-8382527651811313",
     "locked": true,
     "schema_version": 3,
     "solution": false
    }
   },
   "source": [
    "## Question 1 - Finding the Root\n",
    "\n",
    "Let's say that we wanted to calculate $\\sqrt{M}$ given that $M \\in \\mathbb{R}$ and $M > 0$ and that we did not want to use the function `sqrt` directly.  One way to do this is to solve for the zeros of the function $f(x) = x^2 - M$.\n",
    "\n",
    " - Note that not all the methods will work!\n",
    " - Make sure to handle the case where $M_0 = \\sqrt{M}$.\n",
    " - We are only looking for the positive root of $f(x)$."
   ]
  },
  {
   "cell_type": "markdown",
   "id": "7ff2e9b8",
   "metadata": {
    "deletable": false,
    "editable": false,
    "nbgrader": {
     "cell_type": "markdown",
     "checksum": "704b32d56ff4f9dcca51f2591eed959e",
     "grade": false,
     "grade_id": "cell-7408468548362671",
     "locked": true,
     "schema_version": 3,
     "solution": false
    }
   },
   "source": [
    "**(a)** [5] Write a function that uses fixed-point iteration to solve for the zeros of $f(x)$.  \n",
    "\n",
    "Note: There are multiple ways to write the iteration function $g(x)$, some work better than others.  Make sure to use the input function $f(x)$ to formulate this."
   ]
  },
  {
   "cell_type": "code",
   "execution_count": 2,
   "id": "fdedcf05",
   "metadata": {
    "deletable": false,
    "nbgrader": {
     "cell_type": "code",
     "checksum": "81e8abd17e42ada79d291fa36cd2c316",
     "grade": false,
     "grade_id": "cell-5217816963816529",
     "locked": false,
     "schema_version": 3,
     "solution": true
    }
   },
   "outputs": [],
   "source": [
    "from re import X\n",
    "def fixed_point(x_0, f, tolerance):\n",
    "    \"\"\"Find the zeros of the given function f using fixed-point iteration\n",
    "    \n",
    "    :Input:\n",
    "     - *x_0* (float) - Initial iterate\n",
    "     - *f* (function) - The function that will be analyzed\n",
    "     - *tolerance* (float) - Stopping tolerance for iteration\n",
    "     \n",
    "    :Output:\n",
    "    If the iteration was successful the return values are:\n",
    "     - *M* (float) - Zero found via the given intial iterate.\n",
    "     - *n* (int) - Number of iterations it took to achieve the specified\n",
    "       tolerance.\n",
    "    otherwise\n",
    "     - *x* (float) - Last iterate found\n",
    "     - *n* (int) - *n = -1*\n",
    "    \"\"\"\n",
    "    \n",
    "    # Parameters\n",
    "    MAX_STEPS = 1000\n",
    "    \n",
    "    # YOUR CODE HERE\n",
    "    # solve the equation f(x) = 0 \n",
    "    # using x = g(x) where g(x) = f(x) + x\n",
    "\n",
    "    x = x_0\n",
    "    n = 0\n",
    "\n",
    "    for steps in range(MAX_STEPS + 1):\n",
    "\n",
    "      x = f(x_0) + x_0\n",
    "      residual = numpy.abs(x - x_0)\n",
    "\n",
    "      if residual <= tolerance:\n",
    "        break\n",
    "\n",
    "      n += 1\n",
    "      x_0 = x\n",
    "    # raise NotImplementedError()\n",
    "    \n",
    "    return x, n"
   ]
  },
  {
   "cell_type": "code",
   "execution_count": 3,
   "id": "0dcefeef",
   "metadata": {
    "deletable": false,
    "editable": false,
    "nbgrader": {
     "cell_type": "code",
     "checksum": "7c6a9dabcdc25c3505302136ff9cacd8",
     "grade": true,
     "grade_id": "cell-5409919424122382",
     "locked": true,
     "points": 5,
     "schema_version": 3,
     "solution": false
    }
   },
   "outputs": [
    {
     "name": "stdout",
     "output_type": "stream",
     "text": [
      "Fixed-point test failed!\n",
      "Success!\n"
     ]
    }
   ],
   "source": [
    "M = 1.8\n",
    "TOLERANCE = 1e-10\n",
    "f = lambda x: x**2 - M\n",
    "\n",
    "# Note that this test probably will fail\n",
    "try:\n",
    "    M_f, n = fixed_point(2.0, f, TOLERANCE)\n",
    "except OverflowError:\n",
    "    print(\"Fixed-point test failed!\")\n",
    "    print(\"Success!\")\n",
    "else:\n",
    "    if n == -1:\n",
    "        print(\"Fixed-point test failed!\")\n",
    "        print(\"Success!\")\n",
    "    else:\n",
    "        print(M_f, n)\n",
    "        raise ValueError(\"Test should have failed!\")"
   ]
  },
  {
   "cell_type": "markdown",
   "id": "702dd7ed",
   "metadata": {
    "deletable": false,
    "editable": false,
    "nbgrader": {
     "cell_type": "markdown",
     "checksum": "353ae7cd4fcd22d4ce64d7d4e1a55454",
     "grade": false,
     "grade_id": "cell-2533433274902651",
     "locked": true,
     "schema_version": 3,
     "solution": false
    }
   },
   "source": [
    "**(b)** [5] Write a function that uses Newton's method to find the roots of $f(x)$. The analytical derivative of $f'(x)$ is provided."
   ]
  },
  {
   "cell_type": "code",
   "execution_count": 4,
   "id": "8b964969",
   "metadata": {
    "deletable": false,
    "nbgrader": {
     "cell_type": "code",
     "checksum": "1d104bcd5f94f26eadf3b662f8d4266b",
     "grade": false,
     "grade_id": "cell-340019030337399",
     "locked": false,
     "schema_version": 3,
     "solution": true
    }
   },
   "outputs": [],
   "source": [
    "def newton(x_0, f, f_prime, tolerance):\n",
    "    \"\"\"Find the zeros of the given function f using Newton's method\n",
    "    \n",
    "    :Input:\n",
    "     - *M_0* (float) - Initial iterate\n",
    "     - *f* (function) - The function that will be analyzed\n",
    "     - *f_prime* (function) - The derivative of *f*\n",
    "     - *tolerance* (float) - Stopping tolerance for iteration\n",
    "     \n",
    "    :Output:\n",
    "    If the iteration was successful the return values are:\n",
    "     - *M* (float) - Zero found via the given intial iterate.\n",
    "     - *n* (int) - Number of iterations it took to achieve the specified\n",
    "       tolerance.\n",
    "    otherwise\n",
    "     - *M* (float) - Last iterate found\n",
    "     - *n* (int) - *n = -1*\n",
    "    \"\"\"\n",
    "    \n",
    "    # Parameters\n",
    "    MAX_STEPS = 1000\n",
    "    \n",
    "    # YOUR CODE HERE\n",
    "    x = x_0\n",
    "    n = 0\n",
    "\n",
    "    while (f(x) > tolerance) and (n < MAX_STEPS):\n",
    "      \n",
    "      delta = -1 * f(x)/f_prime(x)\n",
    "      x += delta\n",
    "      n += 1\n",
    "\n",
    "    # raise NotImplementedError()\n",
    "    \n",
    "    return x, n"
   ]
  },
  {
   "cell_type": "code",
   "execution_count": 5,
   "id": "3c6fe14d",
   "metadata": {
    "deletable": false,
    "editable": false,
    "nbgrader": {
     "cell_type": "code",
     "checksum": "f889510896fd98a16d97165e27409a29",
     "grade": true,
     "grade_id": "cell-4034736809953727",
     "locked": true,
     "points": 5,
     "schema_version": 3,
     "solution": false
    }
   },
   "outputs": [
    {
     "name": "stdout",
     "output_type": "stream",
     "text": [
      "1.7320508075688772 4\n",
      "1.7320508075688772 0\n",
      "Success!\n"
     ]
    }
   ],
   "source": [
    "M = 3.0\n",
    "TOLERANCE = 1e-10\n",
    "f = lambda x: x**2 - M\n",
    "f_prime = lambda x: 2.0 * x\n",
    "\n",
    "M_f, n = newton(2.0, f, f_prime, TOLERANCE)\n",
    "numpy.testing.assert_almost_equal(M_f, numpy.sqrt(M))\n",
    "print(M_f, n)\n",
    "\n",
    "M_f, n = newton(numpy.sqrt(M), f, f_prime, TOLERANCE)\n",
    "print(M_f, n)\n",
    "assert(n == 0)\n",
    "\n",
    "print(\"Success!\")"
   ]
  },
  {
   "cell_type": "markdown",
   "id": "5671b827",
   "metadata": {
    "deletable": false,
    "editable": false,
    "nbgrader": {
     "cell_type": "markdown",
     "checksum": "1d4075577761286556d6082a23f9a416",
     "grade": false,
     "grade_id": "cell-5903696070565065",
     "locked": true,
     "schema_version": 3,
     "solution": false
    }
   },
   "source": [
    "**(c)** [5] Write a function to find the zeros of $f(x)$ using the secant method."
   ]
  },
  {
   "cell_type": "code",
   "execution_count": 6,
   "id": "912750aa",
   "metadata": {
    "deletable": false,
    "nbgrader": {
     "cell_type": "code",
     "checksum": "1f5b3f132f7fe7581fddadbfbe7b47c5",
     "grade": false,
     "grade_id": "cell-5413220925494725",
     "locked": false,
     "schema_version": 3,
     "solution": true
    }
   },
   "outputs": [],
   "source": [
    "def secant(x_0, f, tolerance):\n",
    "    \"\"\"Find the zeros of the given function f using the secant method\n",
    "    \n",
    "    :Input:\n",
    "     - *M_0* (float) - Initial bracket\n",
    "     - *f* (function) - The function that will be analyzed\n",
    "     - *tolerance* (float) - Stopping tolerance for iteration\n",
    "     \n",
    "    :Output:\n",
    "    If the iteration was successful the return values are:\n",
    "     - *M* (float) - Zero found via the given intial iterate.\n",
    "     - *n* (int) - Number of iterations it took to achieve the specified\n",
    "       tolerance.\n",
    "    otherwise\n",
    "     - *M* (float) - Last iterate found\n",
    "     - *n* (int) - *n = -1*\n",
    "    \"\"\"\n",
    "    \n",
    "    # Parameters\n",
    "    MAX_STEPS = 1000\n",
    "    \n",
    "    # YOUR CODE HERE\n",
    "    x0 = x_0[0]\n",
    "    x1 = x_0[1]\n",
    "    x = x1\n",
    "\n",
    "    f0 = f(x0)\n",
    "    f1 = f(x1)\n",
    "\n",
    "    n = 0\n",
    "\n",
    "    for k in range(1, MAX_STEPS + 1):\n",
    "\n",
    "      x = x1 - (f1 * (x1 - x0))/(f1 - f0)\n",
    "\n",
    "      if numpy.abs(f(x)) < tolerance:\n",
    "        break\n",
    "      \n",
    "      x0 = x1\n",
    "      x1 = x\n",
    "      f0 = f(x0)\n",
    "      f1 = f(x1)\n",
    "\n",
    "      n += 1\n",
    "\n",
    "    # raise NotImplementedError()\n",
    "    \n",
    "    return x, n"
   ]
  },
  {
   "cell_type": "code",
   "execution_count": 7,
   "id": "39469eb6",
   "metadata": {
    "deletable": false,
    "editable": false,
    "nbgrader": {
     "cell_type": "code",
     "checksum": "6fd58b9af38d2bd71e561490e41687f2",
     "grade": true,
     "grade_id": "cell-7849649171624639",
     "locked": true,
     "points": 5,
     "schema_version": 3,
     "solution": false
    }
   },
   "outputs": [
    {
     "name": "stdout",
     "output_type": "stream",
     "text": [
      "1.732050807565499 6\n",
      "Success!\n"
     ]
    }
   ],
   "source": [
    "M = 3.0\n",
    "TOLERANCE = 1e-10\n",
    "f = lambda x: x**2 - M\n",
    "\n",
    "M_f, n = secant([0.0, 3.0], f, TOLERANCE)\n",
    "numpy.testing.assert_almost_equal(M_f, numpy.sqrt(M))\n",
    "print(M_f, n)\n",
    "\n",
    "M_f, n = secant([1.0, numpy.sqrt(M)], f, TOLERANCE)\n",
    "assert(n == 0)\n",
    "\n",
    "print(\"Success!\")"
   ]
  },
  {
   "cell_type": "markdown",
   "id": "95f017d8",
   "metadata": {
    "deletable": false,
    "editable": false,
    "nbgrader": {
     "cell_type": "markdown",
     "checksum": "c1d07a83adf6e3d2d72faef9c3a0d23e",
     "grade": false,
     "grade_id": "cell-2088015365406265",
     "locked": true,
     "schema_version": 3,
     "solution": false
    }
   },
   "source": [
    "**(d)** [5] Using the theory and illustrative plots why the fixed-point method did not work (pick a bracket that demonstrates the problem well).  "
   ]
  },
  {
   "cell_type": "markdown",
   "id": "8c106c45",
   "metadata": {
    "deletable": false,
    "nbgrader": {
     "cell_type": "markdown",
     "checksum": "7040c6e11aef21088c2da3c1ea478275",
     "grade": true,
     "grade_id": "cell-1801109106796673",
     "locked": false,
     "points": 2,
     "schema_version": 3,
     "solution": true
    }
   },
   "source": [
    "YOUR ANSWER HERE\n",
    "\n",
    "The fixed point iteration method does not work, because as we can see below, fixed point iteration does not converge and we can see the residuals between $g(x)$ and $x$ increasing in value. We no longer have a contraction mapping, so the fixed-point method does not work. "
   ]
  },
  {
   "cell_type": "code",
   "execution_count": 8,
   "id": "a12625d4",
   "metadata": {
    "deletable": false,
    "nbgrader": {
     "cell_type": "code",
     "checksum": "d46b4df1a508650ec6c9f4aa6301f207",
     "grade": true,
     "grade_id": "cell-4706924818191700",
     "locked": false,
     "points": 3,
     "schema_version": 3,
     "solution": true
    }
   },
   "outputs": [
    {
     "data": {
      "image/png": "[encoded data removed]",
      "text/plain": [
       "<Figure size 576x432 with 1 Axes>"
      ]
     },
     "metadata": {
      "needs_background": "light"
     },
     "output_type": "display_data"
    }
   ],
   "source": [
    "# Place plotting code here if needed\n",
    "\n",
    "# YOUR CODE HERE\n",
    "\n",
    "M = 3.0\n",
    "TOLERANCE = 1e-10\n",
    "f = lambda x: x**2 - M\n",
    "\n",
    "x = numpy.linspace(1, 3, 100)\n",
    "\n",
    "fig = plt.figure(figsize=(8,6))\n",
    "axes = fig.add_subplot(1, 1, 1)\n",
    "axes.plot(x, f(x) + x, 'r',label='$f(x)=x^2 - M$')\n",
    "axes.plot(x, x, 'b',label='$x$')\n",
    "axes.set_xlabel(\"x\",fontsize=16)\n",
    "axes.set_ylabel(\"g(x) = f(x) + x\",fontsize=16)\n",
    "axes.legend(loc='best')\n",
    "\n",
    "plt.grid()    \n",
    "plt.show()\n",
    "\n",
    "# raise NotImplementedError()"
   ]
  },
  {
   "cell_type": "markdown",
   "id": "130ee547",
   "metadata": {
    "deletable": false,
    "editable": false,
    "nbgrader": {
     "cell_type": "markdown",
     "checksum": "77c3917def98335f20b2603e83bcfe8c",
     "grade": false,
     "grade_id": "cell-5084202108287512",
     "locked": true,
     "schema_version": 3,
     "solution": false
    }
   },
   "source": [
    "## Question 2 - Bessel Function Zeros\n",
    "\n",
    "The zeros of the Bessel functions $J_0(x)$ can be important for a number of applications.  Considering only $x \\geq 0$ \n",
    "we are going to find the first ten zeros of $J_0(x)$ by using a hybrid approach."
   ]
  },
  {
   "cell_type": "markdown",
   "id": "27132df7",
   "metadata": {
    "deletable": false,
    "editable": false,
    "nbgrader": {
     "cell_type": "markdown",
     "checksum": "1a4f7e3a7f9f6103f8839b312ae7ab55",
     "grade": false,
     "grade_id": "cell-405164930391742",
     "locked": true,
     "schema_version": 3,
     "solution": false
    }
   },
   "source": [
    "**(a)** [5] Plot the Bessel function $J_0(x)$ and its zeros on the same plot.  Note that the module `scipy.special` contains functions dealing with the Bessel functions (`jn`)."
   ]
  },
  {
   "cell_type": "code",
   "execution_count": 9,
   "id": "4569dd12",
   "metadata": {
    "deletable": false,
    "nbgrader": {
     "cell_type": "code",
     "checksum": "2050dfbcc5721fe152db66948a735376",
     "grade": true,
     "grade_id": "cell-7010928384129911",
     "locked": false,
     "points": 5,
     "schema_version": 3,
     "solution": true
    }
   },
   "outputs": [
    {
     "data": {
      "image/png": "[encoded data removed]",
      "text/plain": [
       "<Figure size 432x288 with 1 Axes>"
      ]
     },
     "metadata": {
      "needs_background": "light"
     },
     "output_type": "display_data"
    }
   ],
   "source": [
    "# YOUR CODE HERE\n",
    "\n",
    "import scipy.special\n",
    "\n",
    "x = numpy.linspace(0, 20, 100)\n",
    "y = scipy.special.jn(0, x)\n",
    "plt.plot(x, y, label=\"$J_0 (x)$\")\n",
    "\n",
    "# plot zeros\n",
    "zeros = scipy.special.jn_zeros(0, 6)\n",
    "plt.scatter(zeros, [0]*len(zeros), color=\"red\", label=\"Zeros\")\n",
    "\n",
    "plt.xlabel(\"x\")\n",
    "plt.ylabel(\"y\")\n",
    "plt.title(\"Zeros of Bessel Function $J_0 (x)$\")\n",
    "plt.grid()\n",
    "plt.legend()\n",
    "plt.show()\n",
    "# raise NotImplementedError()"
   ]
  },
  {
   "cell_type": "markdown",
   "id": "b8e7d911",
   "metadata": {
    "deletable": false,
    "editable": false,
    "nbgrader": {
     "cell_type": "markdown",
     "checksum": "2fa0ce02645733e89521ce24ac3221ad",
     "grade": false,
     "grade_id": "cell-3972713439004112",
     "locked": true,
     "schema_version": 3,
     "solution": false
    }
   },
   "source": [
    "**(b)** [15] Now write a function `j0_zeros` that takes two tolerances, a bracket size tolerance `bracket_tolerance` and `tolerance` for the final convergence tolerance.  Given an initial bracket, the function should perform secant iterations until the bracket size is less than `bracket_tolerance`.  If this is successful then proceed with Newton's method using the newest value of the bracket until `tolerance` is reached.  Return both the zero found and the number of steps needed in each iteration.  Also write a `doc-string` for the function.\n",
    "\n",
    "Notes:\n",
    " - Newton's method by itself does not work here given the initial brackets provided.\n",
    " - The secant method does work however it is slower than the approach outlined.\n",
    " - Try playing a bit yourself with the tolerances used."
   ]
  },
  {
   "cell_type": "code",
   "execution_count": 10,
   "id": "1042d7b5",
   "metadata": {
    "deletable": false,
    "nbgrader": {
     "cell_type": "code",
     "checksum": "e30ffac20d290e5315523ec3b3bd1990",
     "grade": false,
     "grade_id": "cell-7682118260303845",
     "locked": false,
     "schema_version": 3,
     "solution": true
    }
   },
   "outputs": [],
   "source": [
    "import scipy.special\n",
    "\n",
    "# Note that the num_steps being returned should be a list \n",
    "# of the number of steps being used in each method\n",
    "def j0_zeros(x0, bracket_tolerance, tolerance):\n",
    "    # YOUR CODE HERE\n",
    "    # REMEMBER TO WRITE A DOC STRING FOR THIS FUNCTION\n",
    "    \n",
    "    \"\"\" This method uses secant iteration and Newton's Method to find a \n",
    "        root x of the Bessel Function J_0. \n",
    "\n",
    "        First uses secant iteration until bracket tolerance is achieved.\n",
    "        Newton's Method is used after until tolerance is achieved.\n",
    "\n",
    "        Parameters:\n",
    "        -----------\n",
    "        x0: array of size 2, including [x0, x1]\n",
    "            initial bracket to find zero within\n",
    "        \n",
    "        bracket_tolerance: float, tolerance to use for secant iteration\n",
    "\n",
    "        tolerance: float, tolerance to use for Newton's method\n",
    "\n",
    "        Returns:\n",
    "        --------\n",
    "        x: float, final iterate\n",
    "\n",
    "        num_steps: array of size 2, including [number of iterations in \n",
    "        secant method, number of iterations in Newton's method]\n",
    "    \"\"\"\n",
    "    \n",
    "    num_steps = []\n",
    "    \n",
    "    # first, perform secant iteration\n",
    "    x_0 = x0[0]\n",
    "    x_1 = x0[1]\n",
    "    n = 0\n",
    "\n",
    "    while True:\n",
    "\n",
    "      bracket_size = x_1 - x_0\n",
    "\n",
    "      if bracket_size <= bracket_tolerance:\n",
    "        break\n",
    "\n",
    "      f0 = scipy.special.jn(0, x_0)\n",
    "      f1 = scipy.special.jn(0, x_1)\n",
    "\n",
    "      x_2 = x_1 - (f1 * (x_1 - x_0))/(f1 - f0)\n",
    "      x_0 = x_1\n",
    "      x_1 = x_2\n",
    "      n += 1\n",
    "\n",
    "    num_steps.append(n)\n",
    "\n",
    "    # next, perform Newton's Method\n",
    "    x = x_1\n",
    "    n = 0\n",
    "\n",
    "    while True:\n",
    "\n",
    "      fx = scipy.special.jn(0, x)\n",
    "\n",
    "      if numpy.abs(fx) <= tolerance:\n",
    "        break\n",
    "      \n",
    "      # derivative of J_0 (x) = -J_1 (x)\n",
    "      fprime_x = -1 * scipy.special.jn(1, x)\n",
    "      delta = -1 * fx / fprime_x\n",
    "      x += delta\n",
    "      n += 1\n",
    "\n",
    "    num_steps.append(n)\n",
    "    # raise NotImplementedError()\n",
    "    \n",
    "    return x, num_steps\n"
   ]
  },
  {
   "cell_type": "code",
   "execution_count": 11,
   "id": "02100495",
   "metadata": {
    "deletable": false,
    "editable": false,
    "nbgrader": {
     "cell_type": "code",
     "checksum": "20fb02c5c2c91bb1fb327b30aba0def0",
     "grade": true,
     "grade_id": "cell-8745624911626985",
     "locked": true,
     "points": 15,
     "schema_version": 3,
     "solution": false
    }
   },
   "outputs": [
    {
     "name": "stdout",
     "output_type": "stream",
     "text": [
      "2.404825557695773 [1, 4]\n",
      "5.520078110286311 [1, 4]\n",
      "8.653727912911013 [1, 3]\n",
      "11.791534439014281 [1, 3]\n",
      "14.930917708487781 [1, 3]\n",
      "18.071063967910924 [1, 2]\n",
      "21.21163662987926 [1, 4]\n",
      "24.352471530749302 [1, 4]\n",
      "27.493479132040253 [1, 3]\n",
      "30.634606468431976 [1, 3]\n",
      "Success!\n"
     ]
    }
   ],
   "source": [
    "brackets = [[ 2.0,  3.0], [ 4.0,  7.0], [ 7.0, 10.0], [10.0, 12.0], \n",
    "            [13.0, 15.0], [17.0, 19.0], [19.0, 22.0], \n",
    "            [22.0, 26.0], [26.0, 29.0], [29.0, 32.0]]\n",
    "\n",
    "zero = []\n",
    "for bracket in brackets:\n",
    "    x, num_steps = j0_zeros(bracket, 1e-1, 1e-15)\n",
    "    print(x, num_steps)\n",
    "    zero.append(x)\n",
    "numpy.testing.assert_allclose(zero, scipy.special.jn_zeros(0, 10), atol=0.0, rtol=1e-14)\n",
    "print(\"Success!\")"
   ]
  },
  {
   "cell_type": "markdown",
   "id": "be017f0f",
   "metadata": {
    "deletable": false,
    "editable": false,
    "nbgrader": {
     "cell_type": "markdown",
     "checksum": "ce2d49418fa1c2c18233046b0d27390d",
     "grade": false,
     "grade_id": "cell-1895631505644296",
     "locked": true,
     "schema_version": 3,
     "solution": false
    }
   },
   "source": [
    "## Question 3 - Newton's Method Convergence\n",
    "\n",
    "Recall that Newton's method converges as\n",
    "\n",
    "$$|\\epsilon_{n+1}| = \\frac{|f''(c)|}{2 |f'(x_n)|} |\\epsilon_n|^2$$\n",
    "\n",
    "with $\\epsilon_n = x_n - x^*$ where $x^*$ is the true solution and $c$ is between $x_n$ and $x^*$."
   ]
  },
  {
   "cell_type": "markdown",
   "id": "5310dd85",
   "metadata": {
    "deletable": false,
    "editable": false,
    "nbgrader": {
     "cell_type": "markdown",
     "checksum": "3564bd5ebb9f5fd6f0859836348eb869",
     "grade": false,
     "grade_id": "cell-1970749459305849",
     "locked": true,
     "schema_version": 3,
     "solution": false
    }
   },
   "source": [
    "**(a)** [5] Show that the Newton iteration when $f(x) = x^2 - M$ with $M > 0$ is\n",
    "\n",
    "$$x_{n+1} = \\frac{1}{2} \\left (x_n + \\frac{M}{x_n} \\right )$$"
   ]
  },
  {
   "cell_type": "markdown",
   "id": "852fb02d",
   "metadata": {
    "deletable": false,
    "nbgrader": {
     "cell_type": "markdown",
     "checksum": "73ae54bbcc15a6e30615e49b9a86bffb",
     "grade": true,
     "grade_id": "cell-5376958157033915",
     "locked": false,
     "points": 5,
     "schema_version": 3,
     "solution": true
    }
   },
   "source": [
    "YOUR ANSWER HERE\n",
    "\n",
    "Newton's Method uses the following equation to update $x$:\n",
    "\n",
    "$$ x_{n + 1} = x_n - \\frac{f(x_n)}{f'(x_n)} $$\n",
    "\n",
    "Where we have\n",
    "\n",
    "$$ f(x) = x^2 - M $$\n",
    "$$ f'(x) = 2x $$\n",
    "\n",
    "So if we take $f(x_n)$ and $f'(x_n)$ and substitute into $x_{n + 1}$\n",
    "\n",
    "$$ x_{n + 1} = x_n - \\frac{x_n^2 - M}{2x_n} $$\n",
    "$$ x_{n + 1} = x_n - \\frac{x_n^2 - M}{2x_n} $$\n",
    "$$ x_{n + 1} = x_n - (\\frac{x_n^2}{2x_n} - \\frac{M}{2x_n})$$\n",
    "$$ x_{n + 1} = x_n - \\frac{x_n}{2} + \\frac{M}{2x_n}$$\n",
    "$$ x_{n + 1} = \\frac{1}{2}(x_n + \\frac{M}{2x_n})$$\n",
    "\n",
    "So we end up with the desired result:\n",
    "$$ x_{n + 1} = \\frac{1}{2}(x_n + \\frac{M}{2x_n})$$"
   ]
  },
  {
   "cell_type": "markdown",
   "id": "b396c925",
   "metadata": {
    "deletable": false,
    "editable": false,
    "nbgrader": {
     "cell_type": "markdown",
     "checksum": "63a8d0a37b230257c215b4d8f2b5d2eb",
     "grade": false,
     "grade_id": "cell-9901692029020576",
     "locked": true,
     "schema_version": 3,
     "solution": false
    }
   },
   "source": [
    "**(b)** [5] From this update scheme show that \n",
    "\n",
    "$$\\frac{x_{n+1} - \\sqrt{M}}{(x_n - \\sqrt{M})^2} = \\frac{1}{2 x_n}$$"
   ]
  },
  {
   "cell_type": "markdown",
   "id": "4b512e2e",
   "metadata": {
    "deletable": false,
    "nbgrader": {
     "cell_type": "markdown",
     "checksum": "e9eda6c5603509fa19668b6f8a7e1454",
     "grade": true,
     "grade_id": "cell-1681194282750238",
     "locked": false,
     "points": 5,
     "schema_version": 3,
     "solution": true
    }
   },
   "source": [
    "YOUR ANSWER HERE\n",
    "\n",
    "Begin with the update equation from the last part:\n",
    "$$ x_{n + 1} = \\frac{1}{2}(x_n + \\frac{M}{2x_n})$$\n",
    "$$ x_{n + 1} = \\frac{1}{2 x_n}(x_n^2 + M)$$\n",
    "\n",
    "Use the equation:\n",
    "$$(x_n - \\sqrt{M})^2 = x_n^2 - 2x_n\\sqrt{M} + M$$\n",
    "\n",
    "Rewrite the equation as:\n",
    "$$(x_n - \\sqrt{M})^2 + 2x_n\\sqrt{M} = x_n^2 + M$$\n",
    "\n",
    "Substitute into the earlier update equation:\n",
    "$$ x_{n + 1} = \\frac{1}{2 x_n}((x_n - \\sqrt{M})^2 + 2x_n\\sqrt{M} )$$\n",
    "$$ x_{n + 1} = \\frac{1}{2 x_n}(x_n - \\sqrt{M})^2 + \\sqrt{M} $$\n",
    "$$ x_{n + 1} - \\sqrt{M}  = \\frac{1}{2 x_n}(x_n - \\sqrt{M})^2$$\n",
    "$$ \\frac{x_{n + 1}  - \\sqrt{M}}{(x_n - \\sqrt{M})^2} = \\frac{1}{2 x_n}$$\n",
    "\n",
    "We have derived the desired result:\n",
    "$$ \\frac{x_{n + 1}  - \\sqrt{M}}{(x_n - \\sqrt{M})^2} = \\frac{1}{2 x_n}$$"
   ]
  },
  {
   "cell_type": "markdown",
   "id": "cd5356a4",
   "metadata": {
    "deletable": false,
    "editable": false,
    "nbgrader": {
     "cell_type": "markdown",
     "checksum": "64de3c08e6917ff9441b8a9abcfa2bfd",
     "grade": false,
     "grade_id": "cell-3789064265524234",
     "locked": true,
     "schema_version": 3,
     "solution": false
    }
   },
   "source": [
    "**(c)** [5] Confirm that the asymptotic error convergence matches the general convergence for Newton's method."
   ]
  },
  {
   "cell_type": "markdown",
   "id": "c3613918",
   "metadata": {
    "deletable": false,
    "nbgrader": {
     "cell_type": "markdown",
     "checksum": "f58b129b0582779f64fab7ff1e00722b",
     "grade": true,
     "grade_id": "cell-3410885017024889",
     "locked": false,
     "points": 5,
     "schema_version": 3,
     "solution": true
    }
   },
   "source": [
    "YOUR ANSWER HERE\n",
    "\n",
    "We have $x^* = \\sqrt{M}$ and can substitute $x^*$ into our final answer from part b:\n",
    "$$ \\frac{x_{n + 1}  - x^*}{(x_n - x^*)^2} = \\frac{1}{2 x_n}$$\n",
    "\n",
    "We also know that $e_n$ and $e_{n + 1}$ are be defined as:\n",
    "$$ e_{n} = x_n - x^*$$\n",
    "$$ e_{n+1} = x_{n+1} - x^*$$\n",
    "\n",
    "We can apply these definitions to the first equation:\n",
    "$$ \\frac{e_{n + 1}}{(e_n)^2} = \\frac{1}{2 x_n}$$\n",
    "\n",
    "and rearrange the terms:\n",
    "$$ |e_{n + 1}| = \\frac{1}{2 x_n}{|e_n|^2}$$\n",
    "\n",
    "Now, if we solve for $g''(x^*)$, we have:\n",
    "$$g(x) = x - \\frac{f(x)}{f'(x)}$$\n",
    "\n",
    "$$g'(x) = \\frac{f(x)f''(x)}{[f'(x)]^2}$$\n",
    "\n",
    "$$g''(x) = \\frac{[f'(x)]^3 f''(x) + f(x)[f'(x)]^2 f'''(x) - 2f(x)f'(x)[f''(x)]^2}{[f'(x)]^4}$$\n",
    "\n",
    "Apply $f(x) = x^2 - M$, $f'(x) = 2x$, $f''(x) = 2$, and $f'''(x) = 0$:\n",
    "\n",
    "$$g''(x) = \\frac{(2x)^3 (2) - 2(x^2 - M)(2x)(2)^2}{(2x)^4}$$\n",
    "\n",
    "$$g''(x) = \\frac{16Mx}{16x^4}$$\n",
    "\n",
    "$$g''(x) = \\frac{M}{x^3}$$\n",
    "\n",
    "Evaluate at $x = x^*$, knowing that $x^* = \\sqrt{M}$\n",
    "\n",
    "$$g''(x^*) = \\frac{(x^*)^2}{(x^*)^3}$$\n",
    "$$g''(x^*) = \\frac{1}{x^*}$$\n",
    "\n",
    "Going back to our other equation, we have:\n",
    "$$ |e_{n + 1}| = \\frac{1}{2 x_n}{|e_n|^2}$$\n",
    "\n",
    "Apply $x_n = x^* + e_n$:\n",
    "$$ |e_{n + 1}| = \\frac{1}{2(x^* + e_n)}{|e_n|^2}$$\n",
    "\n",
    "We know that\n",
    "$$ \\frac{1}{2(x^* + e_n)}{|e_n|^2} < \\frac{1}{2x^*}{|e_n|^2}$$\n",
    "\n",
    "So if we apply this above, we have:\n",
    "$$ |e_{n + 1}| < \\frac{1}{2x^*}{|e_n|^2}$$\n",
    "\n",
    "Which we can rewrite, knowing $g''(x^*) = \\frac{1}{x^*}$\n",
    "$$ |e_{n + 1}| < \\frac{g''(x^*)}{2!}{|e_n|^2}$$\n",
    "\n",
    "This gives us the general convergence for Newton's Method, so our two answers align."
   ]
  },
  {
   "cell_type": "markdown",
   "id": "cc86fe7e",
   "metadata": {
    "deletable": false,
    "editable": false,
    "nbgrader": {
     "cell_type": "markdown",
     "checksum": "67aca1bbaa301c3dad29d53c9e8a45a3",
     "grade": false,
     "grade_id": "cell-2963452578552376",
     "locked": true,
     "schema_version": 3,
     "solution": false
    }
   },
   "source": [
    "## Question 4 - Optimization of a Data Series\n",
    "\n",
    "For the following questions we are given a set of data $(t_0, y_0), (t_1, y_1), \\ldots, (t_N, y_N)$."
   ]
  },
  {
   "cell_type": "markdown",
   "id": "589a9a11",
   "metadata": {
    "deletable": false,
    "editable": false,
    "nbgrader": {
     "cell_type": "markdown",
     "checksum": "99865c6907cba00f23c83841e70bab5c",
     "grade": false,
     "grade_id": "cell-9716535939329100",
     "locked": true,
     "schema_version": 3,
     "solution": false
    }
   },
   "source": [
    "**(a)** [10] Write a function that takes in the data series $(t_i, y_i)$ and finds the value at a point $t_\\ast$ by constructing the equation of the line between the two data points that bound $t_\\ast$ and evaluating the resulting function at $t_\\ast$.\n",
    "\n",
    "Hints:\n",
    " - Make sure to handle the case that $t_\\ast = t_i$.\n",
    " - If $t_\\ast < t_0$ or $t_\\ast > t_N$ then return the corresponding value $y_0$ or $y_N$.\n",
    " - If you write your function so that $t_\\ast$ can be an array you can use the plotting code in the cell.  Otherwise just delete it."
   ]
  },
  {
   "cell_type": "code",
   "execution_count": 12,
   "id": "aaa56443",
   "metadata": {
    "deletable": false,
    "nbgrader": {
     "cell_type": "code",
     "checksum": "2fdf54d892959ab9ce8602abe5b84a01",
     "grade": false,
     "grade_id": "cell-5955761976853694",
     "locked": false,
     "schema_version": 3,
     "solution": true
    }
   },
   "outputs": [
    {
     "data": {
      "image/png": "[encoded data removed]",
      "text/plain": [
       "<Figure size 648x288 with 1 Axes>"
      ]
     },
     "metadata": {
      "needs_background": "light"
     },
     "output_type": "display_data"
    }
   ],
   "source": [
    "def linear_eval(t, y, t_star):\n",
    "    # YOUR CODE HERE\n",
    "\n",
    "    if isinstance(t_star, float):\n",
    "      t_star = numpy.array([t_star])\n",
    "\n",
    "    y_star = numpy.zeros(t_star.shape)\n",
    "    t0 = t[0]\n",
    "    tN = t[-1]\n",
    "\n",
    "    for i in range(len(t_star)):\n",
    "      if t_star[i] < t0:\n",
    "        y_star[i] = y[0]\n",
    "      \n",
    "      elif t_star[i] > tN:\n",
    "        y_star[i] = y[-1]\n",
    "      \n",
    "      else:\n",
    "\n",
    "        for j in range(len(t)):\n",
    "\n",
    "          if t[j] > t_star[i]:\n",
    "            \n",
    "            y_star[i] = ((y[j] - y[j - 1])/(t[j] - t[j-1]))*(t_star[i] - t[j]) + y[j]\n",
    "            break\n",
    "          \n",
    "          elif t[j] == t_star[i]:\n",
    "            y_star[i] = y[j]\n",
    "            break\n",
    "\n",
    "\n",
    "\n",
    "    # raise NotImplementedError()\n",
    "            \n",
    "    return y_star\n",
    "\n",
    "N = 10\n",
    "t_fine = numpy.linspace(0.0, 2.0 * numpy.pi, 100)\n",
    "t_rand = numpy.random.rand(N + 1) * (2.0 * numpy.pi)\n",
    "t_rand.sort()\n",
    "f = lambda x: numpy.sin(x) * numpy.cos(2.0 * x)\n",
    "\n",
    "fig = plt.figure()\n",
    "fig.set_figwidth(fig.get_figwidth()*1.5)\n",
    "axes = fig.add_subplot(1, 1, 1)\n",
    "axes.plot(t_fine, f(t_fine), 'k-', label=\"True\")\n",
    "axes.plot(t_rand, f(t_rand), 'og', label=\"Sample Data\")\n",
    "axes.plot(t_fine, linear_eval(t_rand, f(t_rand), t_fine), 'xb', label=\"linear_eval\")\n",
    "axes.set_xlim((0, 2.0 * numpy.pi))\n",
    "axes.set_title(\"Demo Plot\")\n",
    "axes.set_xlabel('$t$')\n",
    "axes.set_ylabel('$f(t)$')\n",
    "axes.legend()\n",
    "plt.show()"
   ]
  },
  {
   "cell_type": "code",
   "execution_count": 13,
   "id": "e7dcfdf6",
   "metadata": {
    "deletable": false,
    "editable": false,
    "nbgrader": {
     "cell_type": "code",
     "checksum": "5322aa62a6f529bdfdea312064590441",
     "grade": true,
     "grade_id": "cell-8787061490582512",
     "locked": true,
     "points": 10,
     "schema_version": 3,
     "solution": false
    }
   },
   "outputs": [
    {
     "name": "stdout",
     "output_type": "stream",
     "text": [
      "Computed solution: [0.42073549]\n",
      "True solution: 0.42073549240394825\n",
      "Success!\n"
     ]
    }
   ],
   "source": [
    "# Note that these tests can fail sometimes as it is dependent on random data.\n",
    "N = 100\n",
    "f = lambda x: numpy.sin(x) * numpy.cos(x)\n",
    "t = numpy.linspace(-1, 1, N + 1)\n",
    "t_star = 0.5\n",
    "answer = linear_eval(t, f(t), t_star)\n",
    "if isinstance(answer, list):\n",
    "    answer = answer[0]\n",
    "print(\"Computed solution: %s\" % answer)\n",
    "print(\"True solution: %s\" % f(t_star))\n",
    "numpy.testing.assert_almost_equal(answer, f(t_star), verbose=True, decimal=7)\n",
    "print(\"Success!\")"
   ]
  },
  {
   "cell_type": "markdown",
   "id": "274e747a",
   "metadata": {
    "deletable": false,
    "editable": false,
    "nbgrader": {
     "cell_type": "markdown",
     "checksum": "764fa183decc247b7b5b22a9ad0218c7",
     "grade": false,
     "grade_id": "cell-9221022888696880",
     "locked": true,
     "schema_version": 3,
     "solution": false
    }
   },
   "source": [
    "**(b)** [10] Using the function you wrote in part (a) write a function that uses Golden search to find the maximum of a series of data.  Again you can use the plotting code available if your `linear_eval` function from part (a) handles arrays.  Note that the initial bracket you are given will determine what maximum you will find."
   ]
  },
  {
   "cell_type": "code",
   "execution_count": 14,
   "id": "42833801",
   "metadata": {
    "deletable": false,
    "nbgrader": {
     "cell_type": "code",
     "checksum": "38cf3c018b72de9540b216d0c84ced99",
     "grade": false,
     "grade_id": "cell-6971359312048652",
     "locked": false,
     "schema_version": 3,
     "solution": true
    }
   },
   "outputs": [
    {
     "data": {
      "image/png": "[encoded data removed]",
      "text/plain": [
       "<Figure size 432x288 with 1 Axes>"
      ]
     },
     "metadata": {
      "needs_background": "light"
     },
     "output_type": "display_data"
    }
   ],
   "source": [
    "def golden_search(bracket, t, y, max_steps=100, tolerance=1e-4):\n",
    "\n",
    "    phi = (numpy.sqrt(5.0) - 1.0) / 2.0\n",
    "    \n",
    "    # YOUR CODE HERE\n",
    "\n",
    "    x = [bracket[0], None, None, bracket[1]]\n",
    "    delta_x = x[3] - x[0]\n",
    "    x[1] = x[3] - phi * delta_x\n",
    "    x[2] = x[0] + phi * delta_x\n",
    "\n",
    "    # check for initial bracket\n",
    "    fx = linear_eval(t, y, numpy.array(x))\n",
    "    bracket_min = min(fx[0], fx[-1])\n",
    "\n",
    "    \"\"\"if fx[1] > bracket_min and fx[2] > bracket_min:\n",
    "      raise ValueError(\"interval has no minimum\")\n",
    "    \n",
    "    elif delta_x < tol:\n",
    "      raise ValueError(\"interval is already smaller than tolerance\")\"\"\"\n",
    "\n",
    "    xmid = (x[0] + x[3]) / 2\n",
    "    x_array = [xmid]\n",
    "\n",
    "    for k in range(1, max_steps + 1):\n",
    "      f1 = linear_eval(t, y, x[1])\n",
    "      f2 = linear_eval(t, y, x[2])\n",
    "\n",
    "      if f1 > f2:\n",
    "\n",
    "        xnew = [x[0], None, x[1], x[2]]\n",
    "        delta_x = xnew[3] - xnew[0]\n",
    "        xnew[1] = xnew[3] - phi * delta_x\n",
    "\n",
    "      else:\n",
    "        \n",
    "        xnew = [x[1], x[2], None, x[3]]\n",
    "        delta_x = xnew[3] - xnew[0]\n",
    "        xnew[2] = xnew[0] + phi * delta_x\n",
    "    \n",
    "      x = xnew\n",
    "      x_array.append((x[3] + x[0])/2)\n",
    "\n",
    "      if numpy.abs(x[3] - x[0]) < tolerance:\n",
    "        break\n",
    "\n",
    "    t_star = x_array[-1]\n",
    "\n",
    "    # raise NotImplementedError()\n",
    "    return t_star\n",
    "\n",
    "N = 50\n",
    "t = numpy.random.rand(N + 1) * (2.0 * numpy.pi)\n",
    "t.sort()\n",
    "y = numpy.sin(t) * numpy.cos(2.0 * t)\n",
    "t_star = golden_search([4.0, 5.0], t, y)\n",
    "t_true = 3.0 *numpy.pi / 2.0\n",
    "\n",
    "fig = plt.figure()\n",
    "axes = fig.add_subplot(1, 1, 1)\n",
    "\n",
    "axes.plot(t, y, 'x', label=\"data\")\n",
    "t_fine = numpy.linspace(0.0, 2.0 * numpy.pi, 100)\n",
    "axes.plot(t_fine, numpy.sin(t_fine) * numpy.cos(2.0 * t_fine), 'k', label=\"$f(x)$\")\n",
    "axes.plot(t_star, linear_eval(t, y, t_star), 'go')\n",
    "axes.plot(t_true, numpy.sin(t_true) * numpy.cos(2.0 * t_true), 'ko', label=\"True\")\n",
    "#axes.set_xlim((3.0, 6.0))\n",
    "#axes.set_ylim((-0.5, 1.1))\n",
    "plt.show()"
   ]
  },
  {
   "cell_type": "code",
   "execution_count": 15,
   "id": "52c7dacd",
   "metadata": {
    "deletable": false,
    "editable": false,
    "nbgrader": {
     "cell_type": "code",
     "checksum": "2afc844ca06d25419df08323eaa17c55",
     "grade": true,
     "grade_id": "cell-4542008334156387",
     "locked": true,
     "points": 10,
     "schema_version": 3,
     "solution": false
    }
   },
   "outputs": [
    {
     "name": "stdout",
     "output_type": "stream",
     "text": [
      "Error: 0.045467658030944325, 0.016540348631855318\n",
      "Success!\n"
     ]
    }
   ],
   "source": [
    "N = 100\n",
    "t = numpy.random.rand(N + 1) * (2.0 * numpy.pi)\n",
    "t.sort()\n",
    "y = numpy.sin(t) * numpy.cos(2.0 * t)\n",
    "t_star = golden_search([2.0, 3.0], t, y)\n",
    "t_true = 7.0 * numpy.pi / 8.0\n",
    "abs_error = numpy.abs(t_star - t_true)\n",
    "rel_error = numpy.abs(t_star - t_true) / numpy.abs(t_true)\n",
    "print(\"Error: %s, %s\" % (abs_error, rel_error))\n",
    "numpy.testing.assert_allclose(abs_error, 0.0, rtol=1e-1, atol=1e-1)\n",
    "print(\"Success!\")"
   ]
  },
  {
   "cell_type": "markdown",
   "id": "0ad38f54",
   "metadata": {
    "deletable": false,
    "editable": false,
    "nbgrader": {
     "cell_type": "markdown",
     "checksum": "126bf7aa44d2a86a0bfc84ee186961c4",
     "grade": false,
     "grade_id": "cell-3415405761860037",
     "locked": true,
     "schema_version": 3,
     "solution": false
    }
   },
   "source": [
    "**(c)** [5] Below is sample code that plots the number of sample points $N$ vs. the relative error.  Note because we are sampling at random points that we do each $N$ 6 times and average the relative error to reduce noise.  Additionally a line is drawn representing what would be linear (1st order) convergence.\n",
    "\n",
    "Modify this code and try it out on other problems.  Do you continue to see linear convergence?  What about if you change how we sample points?  Make sure that you change your initial interval and range of values of $t$ inside the loop."
   ]
  },
  {
   "cell_type": "code",
   "execution_count": 16,
   "id": "af9c555c",
   "metadata": {
    "deletable": false,
    "nbgrader": {
     "cell_type": "code",
     "checksum": "c7e4ec1527c50fd8b956d5dc10208176",
     "grade": true,
     "grade_id": "cell-90b62a8115081783",
     "locked": false,
     "points": 2,
     "schema_version": 3,
     "solution": true,
     "task": false
    }
   },
   "outputs": [
    {
     "data": {
      "image/png": "[encoded data removed]",
      "text/plain": [
       "<Figure size 432x288 with 1 Axes>"
      ]
     },
     "metadata": {
      "needs_background": "light"
     },
     "output_type": "display_data"
    },
    {
     "data": {
      "image/png": "[encoded data removed]",
      "text/plain": [
       "<Figure size 432x288 with 1 Axes>"
      ]
     },
     "metadata": {
      "needs_background": "light"
     },
     "output_type": "display_data"
    },
    {
     "data": {
      "image/png": "[encoded data removed]",
      "text/plain": [
       "<Figure size 432x288 with 1 Axes>"
      ]
     },
     "metadata": {
      "needs_background": "light"
     },
     "output_type": "display_data"
    }
   ],
   "source": [
    "# YOUR CODE HERE\n",
    "# raise NotImplementedError()\n",
    "f = lambda t: numpy.sin(t) * numpy.cos(2.0 * t)\n",
    "N_range = numpy.array([2**n for n in range(4, 10)], dtype=int)\n",
    "rel_error = numpy.zeros(len(N_range))\n",
    "t_true = 3.0 * numpy.pi / 2.0\n",
    "\n",
    "for (i, N) in enumerate(N_range):\n",
    "    for j in range(6):\n",
    "        t = numpy.random.rand(N + 1) * (2.0 * numpy.pi)\n",
    "        t.sort()\n",
    "        y = f(t)\n",
    "        t_star = golden_search([4.0, 5.0], t, y)\n",
    "        rel_error[i] += numpy.abs(t_star - t_true) / numpy.abs(t_true)\n",
    "    rel_error[i] /= 6\n",
    "\n",
    "order_C = lambda N, error, order: numpy.exp(numpy.log(error) - order * numpy.log(N))\n",
    "    \n",
    "fig = plt.figure()\n",
    "axes = fig.add_subplot(1, 1, 1)\n",
    "axes.loglog(N_range, rel_error, 'ko', label=\"Ave. Error\")\n",
    "axes.loglog(N_range, order_C(N_range[0], rel_error[0], -1.0) * N_range**(-1.0), 'r', label=\"1st order\")\n",
    "axes.loglog(N_range, order_C(N_range[0], rel_error[0], -2.0) * N_range**(-2.0), 'b', label=\"2nd Order\")\n",
    "axes.set_xlabel(\"N\")\n",
    "axes.set_ylabel(\"Relative Error\")\n",
    "plt.title(\"$f(t) = \\sin(t) + \\cos(2t)$\")\n",
    "axes.legend()\n",
    "plt.show()\n",
    "\n",
    "f = lambda t: numpy.sin(t) * numpy.cos(3.0 * t)\n",
    "N_range = numpy.array([2**n for n in range(4, 10)], dtype=int)\n",
    "rel_error = numpy.zeros(len(N_range))\n",
    "t_true = 3.0 * numpy.pi / 2.0\n",
    "\n",
    "for (i, N) in enumerate(N_range):\n",
    "    for j in range(6):\n",
    "        t = numpy.random.rand(N + 1) * (2.0 * numpy.pi)\n",
    "        t.sort()\n",
    "        y = f(t)\n",
    "        t_star = golden_search([4.0, 5.0], t, y)\n",
    "        rel_error[i] += numpy.abs(t_star - t_true) / numpy.abs(t_true)\n",
    "    rel_error[i] /= 6\n",
    "\n",
    "order_C = lambda N, error, order: numpy.exp(numpy.log(error) - order * numpy.log(N))\n",
    "    \n",
    "fig = plt.figure()\n",
    "axes = fig.add_subplot(1, 1, 1)\n",
    "axes.loglog(N_range, rel_error, 'ko', label=\"Ave. Error\")\n",
    "axes.loglog(N_range, order_C(N_range[0], rel_error[0], -1.0) * N_range**(-1.0), 'r', label=\"1st order\")\n",
    "axes.loglog(N_range, order_C(N_range[0], rel_error[0], -2.0) * N_range**(-2.0), 'b', label=\"2nd Order\")\n",
    "axes.set_xlabel(\"N\")\n",
    "axes.set_ylabel(\"Relative Error\")\n",
    "plt.title(\"$f(t) = \\sin(t) + \\cos(3t)$\")\n",
    "axes.legend()\n",
    "plt.show()\n",
    "\n",
    "f = lambda t: numpy.sin(t) * numpy.cos(2.0 * t)\n",
    "N_range = numpy.array([2**n for n in range(4, 10)], dtype=int)\n",
    "rel_error = numpy.zeros(len(N_range))\n",
    "t_true = 3.0 * numpy.pi / 2.0\n",
    "\n",
    "for (i, N) in enumerate(N_range):\n",
    "    for j in range(6):\n",
    "        t = numpy.random.rand(N + 3) * (2.0 / numpy.pi)\n",
    "        t.sort()\n",
    "        y = f(t)\n",
    "        t_star = golden_search([1.0, 2.0], t, y)\n",
    "        rel_error[i] += numpy.abs(t_star - t_true) / numpy.abs(t_true)\n",
    "    rel_error[i] /= 6\n",
    "\n",
    "order_C = lambda N, error, order: numpy.exp(numpy.log(error) - order * numpy.log(N))\n",
    "    \n",
    "fig = plt.figure()\n",
    "axes = fig.add_subplot(1, 1, 1)\n",
    "axes.loglog(N_range, rel_error, 'ko', label=\"Ave. Error\")\n",
    "axes.loglog(N_range, order_C(N_range[0], rel_error[0], -1.0) * N_range**(-1.0), 'r', label=\"1st order\")\n",
    "axes.loglog(N_range, order_C(N_range[0], rel_error[0], -2.0) * N_range**(-2.0), 'b', label=\"2nd Order\")\n",
    "axes.set_xlabel(\"N\")\n",
    "axes.set_ylabel(\"Relative Error\")\n",
    "plt.title(\"$f(t) = \\sin(t) + \\cos(2t)$, Change Sampling and Initial Interval\")\n",
    "axes.legend()\n",
    "plt.show()"
   ]
  },
  {
   "cell_type": "markdown",
   "id": "416fcbea",
   "metadata": {
    "deletable": false,
    "nbgrader": {
     "cell_type": "markdown",
     "checksum": "fefab34bd08c9918549ed479050f03df",
     "grade": true,
     "grade_id": "cell-1212131569444476",
     "locked": false,
     "points": 3,
     "schema_version": 3,
     "solution": true
    }
   },
   "source": [
    "YOUR ANSWER HERE\n",
    "\n",
    "As we can see above, when the function $f(x)$ is changed from $f(x) = \\sin (t) + \\cos (2t)$ to $f(x) = \\sin (t) + \\cos (3t)$ (plot 2) then we no longer see convergence of the Average Error to the 1st order linear convergence. This shows that we no longer continue to see linear convergence after modifying our function. Also, if we keep the function the same but change the way we sample points (numpy.random.rand(N + 3) * (2.0 / numpy.pi)) and our interval ([1.0, 2.0]) (plot 3) then we also see that the Average Error does not converge to the 1st order linear convergence."
   ]
  },
  {
   "cell_type": "markdown",
   "id": "db61db0e",
   "metadata": {
    "deletable": false,
    "editable": false,
    "nbgrader": {
     "cell_type": "markdown",
     "checksum": "5a87d72763510c284ca09cfd8a302540",
     "grade": false,
     "grade_id": "cell-2596381852207731",
     "locked": true,
     "schema_version": 3,
     "solution": false
    }
   },
   "source": [
    "## Question 9 - Inverse Quadratic Interpolation\n",
    "\n",
    "Let us see if we can extend the idea of the secant method to a higher order version.  The idea then is to take 3 values of the function such that $(x_0, f(x_0))$, $(x_1, f(x_1))$, and $(x_2, f(x_2))$ and fit an inverse quadratic function through these points (note that this requires that $f(x_i) \\neq f(x_j) \\forall i \\neq j$).  The inverse function can be written as\n",
    "$$\n",
    "    g(y) = x_2 + \\frac{(y - f(x_1)) (y - f(x_2))(x_0 - x_2)}{(f(x_0) - f(x_1))(f(x_0) - f(x_2))} + \\frac{(y - f(x_0)) (y - f(x_2))(x_1 - x_2)}{(f(x_1) - f(x_0))(f(x_1) - f(x_2))}\n",
    "$$\n",
    "Inverse quadratic interpolation is one of the core components of many root solvers in libraries such as `numpy`.\n",
    "\n",
    "Using this new function answer the following questions."
   ]
  },
  {
   "cell_type": "markdown",
   "id": "15d9f1a2",
   "metadata": {
    "deletable": false,
    "editable": false,
    "nbgrader": {
     "cell_type": "markdown",
     "checksum": "a9c25c7cd4f80574b092d4ab90af003f",
     "grade": false,
     "grade_id": "cell-3591658918366849",
     "locked": true,
     "schema_version": 3,
     "solution": false
    }
   },
   "source": [
    "**(a)** [5] Find the x-intercept of the function $g(y)$."
   ]
  },
  {
   "cell_type": "markdown",
   "id": "93cddbdb",
   "metadata": {
    "deletable": false,
    "nbgrader": {
     "cell_type": "markdown",
     "checksum": "6cc77c45517ab6219d3fc13542c38e8a",
     "grade": true,
     "grade_id": "cell-693591336400361",
     "locked": false,
     "points": 5,
     "schema_version": 3,
     "solution": true
    }
   },
   "source": [
    "YOUR ANSWER HERE\n",
    "\n",
    "The y-intercept is: \n",
    "\n",
    "$$\n",
    "    g(0) = x_2 + \\frac{f(x_1)f(x_2)(x_0 - x_2)}{(f(x_0) - f(x_1))(f(x_0) - f(x_2))} + \\frac{f(x_0)f(x_2)(x_1 - x_2)}{(f(x_1) - f(x_0))(f(x_1) - f(x_2))}\n",
    "$$"
   ]
  },
  {
   "cell_type": "markdown",
   "id": "24b47b66",
   "metadata": {
    "deletable": false,
    "editable": false,
    "nbgrader": {
     "cell_type": "markdown",
     "checksum": "138016a73acd6783ddadb893dc5b39fa",
     "grade": false,
     "grade_id": "cell-1774845494924988",
     "locked": true,
     "schema_version": 3,
     "solution": false
    }
   },
   "source": [
    "**(b)** [5] Write down the resulting iteration so that it has the form\n",
    "$$\n",
    "    x_{n+1} = x_n + \\phi(x_n, x_{n-1}, x_{n-2})\n",
    "$$\n",
    "where $\\phi(x_n, x_{n-1}, x_{n-2})$ can also contain evaluations of the original function $f(x)$."
   ]
  },
  {
   "cell_type": "markdown",
   "id": "e46aed65",
   "metadata": {
    "deletable": false,
    "nbgrader": {
     "cell_type": "markdown",
     "checksum": "8780df7c2db1ba3bac00b72173fb8533",
     "grade": true,
     "grade_id": "cell-6984397730423716",
     "locked": false,
     "points": 5,
     "schema_version": 3,
     "solution": true
    }
   },
   "source": [
    "YOUR ANSWER HERE\n",
    "\n",
    "Use the previous answer to determine the iteration:\n",
    "\n",
    "$$\n",
    "    x_{n + 1} = x_n + \\frac{f(x_{n-1})f(x_n)(x_{n-2} - x_n)}{(f(x_{n-2}) - f(x_{n-1}))(f(x_{n-2}) - f(x_n))} + \\frac{f(x_{n-2})f(x_n)(x_{n-1} - x_n)}{(f(x_{n-1}) - f(x_{n-2}))(f(x_{n-1}) - f(x_n))}\n",
    "$$\n",
    "\n",
    "Using the equation\n",
    "$$\n",
    "    x_{n + 1} = x_n + \\phi(x_n, x_{n-1}, x_{n-2})\n",
    "$$\n",
    "\n",
    "We end up with\n",
    "$$\n",
    "    \\phi(x_n, x_{n-1}, x_{n-2}) =  \\frac{f(x_{n-1})f(x_n)(x_{n-2} - x_n)}{(f(x_{n-2}) - f(x_{n-1}))(f(x_{n-2}) - f(x_n))} + \\frac{f(x_{n-2})f(x_n)(x_{n-1} - x_n)}{(f(x_{n-1}) - f(x_{n-2}))(f(x_{n-1}) - f(x_n))}\n",
    "$$"
   ]
  },
  {
   "cell_type": "markdown",
   "id": "94770448",
   "metadata": {
    "deletable": false,
    "editable": false,
    "nbgrader": {
     "cell_type": "markdown",
     "checksum": "e26a7a7830d0e3e4e5f1cfbc0f85bc89",
     "grade": false,
     "grade_id": "cell-48298625886664",
     "locked": true,
     "schema_version": 3,
     "solution": false
    }
   },
   "source": [
    "**(c)** [10] Write a function that implements the inverse quadratic interpolation root finding method which takes in a function $f$ and an initial triplet for an initial guess $(x_0, x_1, x_2)$.  Make sure that it handles the case when the maximum number of steps is taken."
   ]
  },
  {
   "cell_type": "code",
   "execution_count": 17,
   "id": "21f52ff6",
   "metadata": {
    "deletable": false,
    "nbgrader": {
     "cell_type": "code",
     "checksum": "eb83d0fb2195858989d4ca7c55cd73f8",
     "grade": false,
     "grade_id": "cell-6073937733507223",
     "locked": false,
     "schema_version": 3,
     "solution": true
    }
   },
   "outputs": [],
   "source": [
    "def inv_quad_root(f, x, tolerance=1e-4, max_steps=100):\n",
    "    \"\"\"Find a root of f(x) using inverse quadratic interpolation\n",
    "    \n",
    "    :Input:\n",
    "     - *f* (func) Function to find the root of.\n",
    "     - *x* (list) A triplet of values to be used to start the method.  Note\n",
    "       that the triplet starts with the x_0 value and ends with the x_2 value\n",
    "       in terms of the iteration scheme.\n",
    "     - *tolerance* (float) Tolerance used as a stopping criteria with \n",
    "       |f(x_n)| < tolerance.\n",
    "     - *max_steps* (int) Maximum number of steps allowed.  Raise an exception\n",
    "       if max_steps are reached.\n",
    "    :Output:\n",
    "     - (float) Converged root.\n",
    "    \"\"\"\n",
    "    # YOUR CODE HERE\n",
    "\n",
    "    n = 0\n",
    "    \n",
    "    for i in range(1, max_steps + 1):\n",
    "\n",
    "      x3 = x[2] + (f(x[1]) * f(x[2]) *(x[0] - x[2]))/((f(x[0]) - f(x[1])) * (f(x[0]) - f(x[2]))) + (f(x[0]) * f(x[2]) * (x[1] - x[2])) / ((f(x[1]) - f(x[0])) * (f(x[1]) - f(x[2])))\n",
    "      \n",
    "      if numpy.abs(f(x3)) < tolerance:\n",
    "        break\n",
    "\n",
    "      n += 1\n",
    "      x[0] = x[1]\n",
    "      x[1] = x[2]\n",
    "      x[2] = x3\n",
    "\n",
    "\n",
    "    if n == max_steps:\n",
    "        raise ValueError(\"Max # of Steps Reached\")\n",
    "\n",
    "    # raise NotImplementedError()\n",
    "    return x[2]"
   ]
  },
  {
   "cell_type": "code",
   "execution_count": 18,
   "id": "bc6f30d5",
   "metadata": {
    "deletable": false,
    "editable": false,
    "nbgrader": {
     "cell_type": "code",
     "checksum": "dca3376b6ef84606347e660c6870b0aa",
     "grade": true,
     "grade_id": "cell-9399253999786286",
     "locked": true,
     "points": 10,
     "schema_version": 3,
     "solution": false
    }
   },
   "outputs": [
    {
     "name": "stdout",
     "output_type": "stream",
     "text": [
      "Found root = 0.08985602208848449\n",
      "Success!\n"
     ]
    }
   ],
   "source": [
    "P = 1500.0\n",
    "m = 12\n",
    "n = 20.0\n",
    "A = 1e6\n",
    "f = lambda r, A=A, m=m, P=P, n=n: A - m * P / r * ((1.0 + r / m)**(m * n) - 1.0)\n",
    "root = inv_quad_root(f, [0.06, 0.07, 0.08], tolerance=1e-6, max_steps=10)\n",
    "print(\"Found root = %s\" % root)\n",
    "numpy.testing.assert_allclose(root, 0.08985602483470391, atol=1e-5)\n",
    "print(\"Success!\")"
   ]
  }
 ],
 "metadata": {
  "kernelspec": {
   "display_name": "Python 3",
   "language": "python",
   "name": "python3"
  },
  "language_info": {
   "codemirror_mode": {
    "name": "ipython",
    "version": 3
   },
   "file_extension": ".py",
   "mimetype": "text/x-python",
   "name": "python",
   "nbconvert_exporter": "python",
   "pygments_lexer": "ipython3",
   "version": "3.8.8"
  }
 },
 "nbformat": 4,
 "nbformat_minor": 5
}
