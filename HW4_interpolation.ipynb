{
 "cells": [
  {
   "cell_type": "markdown",
   "metadata": {},
   "source": [
    "Before you turn this problem in, make sure everything runs as expected. First, restart the kernel (in the menubar, select Kernel $\\rightarrow$ Restart) and then run all cells (in the menubar, select Cell $\\rightarrow$ Run All).\n",
    "\n",
    "Make sure you fill in any place that says YOUR CODE HERE or \"YOUR ANSWER HERE\", as well as your name and collaborators below: \n",
    "\n",
    "Ananya Gandhi, no collaborators"
   ]
  },
  {
   "cell_type": "code",
   "execution_count": 1,
   "metadata": {},
   "outputs": [],
   "source": [
    "%matplotlib inline\n",
    "import numpy\n",
    "import matplotlib.pyplot as plt"
   ]
  },
  {
   "cell_type": "markdown",
   "metadata": {
    "deletable": false,
    "editable": false,
    "nbgrader": {
     "cell_type": "markdown",
     "checksum": "05a90bc96a8a096843e665eea1de53c4",
     "grade": false,
     "grade_id": "cell-5502088417300118",
     "locked": true,
     "schema_version": 3,
     "solution": false
    }
   },
   "source": [
    "# HW 4:  Interpolation"
   ]
  },
  {
   "cell_type": "markdown",
   "metadata": {
    "deletable": false,
    "editable": false,
    "nbgrader": {
     "cell_type": "markdown",
     "checksum": "ef13a73e03d84a2e83f492465d334d05",
     "grade": false,
     "grade_id": "cell-6806070912155660",
     "locked": true,
     "schema_version": 3,
     "solution": false
    }
   },
   "source": [
    "## Question 1\n",
    "\n",
    "[10] The $n$th Chebyshev polynomial is characterized (up to a constant) by the identity\n",
    "\n",
    "$$T_n(\\cos \\theta) = \\cos (n \\theta)$$\n",
    "\n",
    "Use this identity to show that the Chebyshev polynomials are orthogonal on $x\\in[-1,1]$ with respect to the weight\n",
    "\n",
    "$$w(x) = \\frac{1}{\\sqrt{1 - x^2}}$$\n",
    "\n",
    "To do this you must prove that\n",
    "\n",
    "$$\\int^1_{-1} w(x) T_n(x) T_m(x) dx = \\left \\{ \\begin{aligned} \n",
    "a & ~ & m = n \\\\ \n",
    "0 & ~ & m \\neq n \n",
    "\\end{aligned} \\right .$$\n",
    "\n",
    "where $a$ is a finite constant (also find this coefficient).  Note that you may have multiple non-zero coefficients $a$.  Make sure to cover all these cases and list the conditions that you will find these values."
   ]
  },
  {
   "cell_type": "markdown",
   "metadata": {
    "deletable": false,
    "nbgrader": {
     "cell_type": "markdown",
     "checksum": "8d2f4d1eaa3c4e62333153ce8ca3a636",
     "grade": true,
     "grade_id": "cell-8354694405440956",
     "locked": false,
     "points": 10,
     "schema_version": 3,
     "solution": true
    }
   },
   "source": [
    "YOUR ANSWER HERE\n",
    "\n",
    "Using the transformation $x = \\cos \\theta$, we have:\n",
    "\n",
    "$$ \n",
    "    x = \\cos \\theta \\\\\n",
    "    dx = -\\sin \\theta d\\theta \n",
    "$$\n",
    "\n",
    "Applying this transformation to $w(x)$, we have\n",
    "\n",
    "$$\n",
    "    w(x) = \\frac{1}{\\sqrt{1 - x^2}} = \\frac{1}{\\sqrt{1 - \\cos^2 \\theta}} \\\\\n",
    "    w(x) = \\frac{1}{\\sqrt{\\sin^2 \\theta}} = \\frac{1}{\\sin \\theta} \n",
    "$$\n",
    "\n",
    "Now applying these transformations to the integral\n",
    "\n",
    "$$ \n",
    "    \\int_{-1}^{1} w(x) T_n(x) T_m(x) dx \n",
    "$$\n",
    "\n",
    "And transforming the bounds of the integral\n",
    "\n",
    "$$\n",
    "    x = \\cos \\theta = -1 \\\\\n",
    "    \\theta = \\pi\n",
    "$$\n",
    "\n",
    "$$\n",
    "    x = \\cos \\theta = 1 \\\\\n",
    "    \\theta = 0\n",
    "$$\n",
    "\n",
    "We end up with\n",
    "\n",
    "$$ \n",
    "    \\int_{\\pi}^{0} \\frac{1}{\\sin \\theta} T_n(\\cos \\theta) T_m(\\cos \\theta) (-\\sin \\theta) d\\theta \\\\\n",
    "    -\\int_{\\pi}^{0} T_n(\\cos \\theta) T_m(\\cos \\theta) d\\theta \\\\\n",
    "    \\int_{0}^{\\pi} T_n(\\cos \\theta) T_m(\\cos \\theta) d\\theta\n",
    "$$\n",
    "\n",
    "Applying the Chebyshev Polynomial Identity, we \n",
    "\n",
    "$$ \n",
    "    \\int_{0}^{\\pi} (\\cos n\\theta)(\\cos m\\theta) d\\theta\n",
    "$$\n",
    "\n",
    "which is only non-zero when $n = m$\n",
    "\n",
    "Applying $m = n$, we get\n",
    "$$ \n",
    "    \\int_{0}^{\\pi} (\\cos^2 n\\theta) d\\theta = \\frac{\\theta}{2} + \\frac{\\sin 2\\theta}{4} \\Big|_0^\\pi = \\frac{\\pi}{2}\n",
    "$$\n",
    "\n",
    "For any $n, m$, the integral evaluates to\n",
    "\n",
    "$$ \\int_{0}^{\\pi} (\\cos n\\theta)(\\cos m\\theta) d\\theta = \\left \\{ \\begin{aligned} \n",
    "\\frac{\\pi}{2} & ~ & m = n \\\\ \n",
    "0 & ~ & m \\neq n \n",
    "\\end{aligned} \\right .$$\n",
    "\n",
    "Lastly, consider the case when $n = m = 0$\n",
    "$$\n",
    "    \\int_{0}^{\\pi} (\\cos^2 0) d\\theta = \\theta \\Big|_0^\\pi = \\pi\n",
    "$$\n",
    "\n",
    "So our final result is\n",
    "$$ \\int_{0}^{\\pi} (\\cos n\\theta)(\\cos m\\theta) d\\theta = \\left \\{ \\begin{aligned} \\pi & ~ & m = n = 0\\\\ \n",
    "\\frac{\\pi}{2} & ~ & m = n \\neq 0 \\\\ \n",
    "0 & ~ & m \\neq n \n",
    "\\end{aligned} \\right .$$\n",
    "\n",
    "So we end up with $a = \\frac{\\pi}{2}$ for $m = n \\neq 0$ \n",
    "\n",
    "and $a = \\pi$ for $m = n = 0$"
   ]
  },
  {
   "cell_type": "markdown",
   "metadata": {
    "deletable": false,
    "editable": false,
    "nbgrader": {
     "cell_type": "markdown",
     "checksum": "9a9a7f391273ce9b258485119ab56d36",
     "grade": false,
     "grade_id": "cell-7819290100903685",
     "locked": true,
     "schema_version": 3,
     "solution": false
    }
   },
   "source": [
    "## Question 2\n",
    "\n",
    "We discussed in class that equally spaced points are not optimal and in fact the Lagrange interpolants can vary considerably from 1 near the ends.  For these questions consider the interval $x\\in[-1, 1]$."
   ]
  },
  {
   "cell_type": "markdown",
   "metadata": {
    "deletable": false,
    "editable": false,
    "nbgrader": {
     "cell_type": "markdown",
     "checksum": "0225abd937243068e3888770aaed31bd",
     "grade": false,
     "grade_id": "cell-1974680948166026",
     "locked": true,
     "schema_version": 3,
     "solution": false
    }
   },
   "source": [
    "**(a)** [10] For $N = 4$ find the position and value of the maximum value on $[-1,1]$ of $|\\ell_k(x)|$ analytically for $\\ell_2(x)$ using equi-spaced points (extra credit for finding them for all analytically)."
   ]
  },
  {
   "cell_type": "markdown",
   "metadata": {
    "deletable": false,
    "nbgrader": {
     "cell_type": "markdown",
     "checksum": "a5409198244fd43fdea050a72c99c441",
     "grade": true,
     "grade_id": "cell-1609100275099664",
     "locked": false,
     "points": 10,
     "schema_version": 3,
     "solution": true
    }
   },
   "source": [
    "YOUR ANSWER HERE\n",
    "\n",
    "We can find the maximum value of $l_2(x)$ on the interval $[-1,1]$:\n",
    "\n",
    "$$\n",
    "    l_2(x) = \\prod_{j = 0, j \\neq i} ^ {4} \\frac{x - x_j}{x_i - x_j} \\\\\n",
    "    l_2(x) = (\\frac{x - x_0}{x_2 - x_0})(\\frac{x - x_1}{x_2 - x_1})(\\frac{x - x_3}{x_2 - x_3})(\\frac{x - x_4}{x_2 - x_4}) \n",
    "$$\n",
    "\n",
    "\n",
    "Evaluate on the interval $[-1, 1]$\n",
    "\n",
    "Let $x_0 = -1, x_1 = -0.5, x_2 = 0, x_3 = 0.5, x_4 = 1$. \n",
    "\n",
    "$$\n",
    "    l_2(x) = (\\frac{x + 1}{1})(\\frac{x + 0.5}{0.5})(\\frac{x - 0.5}{-0.5})(\\frac{x - 1}{-1}) \\\\\n",
    "    l_2(x) = \\frac{(x + 1)(x + 0.5)(x - 0.5)(x - 1)}{0.25} \\\\\n",
    "    l_2(x) = 4(x^2 - 1)(x^2 - 0.25) \\\\\n",
    "    l_2(x) = 4x^4 - 5x^2 + 1\n",
    "$$\n",
    "\n",
    "Analytically find maximum of $l_2(x)$ by finding the derivative and setting to zero\n",
    "\n",
    "$$\n",
    "    l_2^{'}(x) = 16x^3 - 10x = 0 \\\\\n",
    "    x(16x^2 - 10) = 0 \\\\\n",
    "    x = 0, x = \\pm \\frac{\\sqrt{10}}{4}\n",
    "$$\n",
    "\n",
    "Find second derivative to determine maxima:\n",
    "$$\n",
    "    l_2^{''}(x) = 48x^2 - 10 \\\\\n",
    "    l_2^{''}(0) = -10 \\\\\n",
    "    l_2^{''}(\\frac{\\sqrt{10}}{4}) = 20 \\\\\n",
    "    l_2^{''}(\\frac{-\\sqrt{10}}{4}) = 20 \n",
    "$$\n",
    "\n",
    "Because the second derivative of $l_2 (x)$ is negative at $x = 0$, this is a local maximum. The value of $l_2 (x)$ is\n",
    "\n",
    "$$\n",
    "    l_2(0) = 1\n",
    "$$\n",
    "\n",
    "EXTRA CREDIT\n",
    "\n"
   ]
  },
  {
   "cell_type": "markdown",
   "metadata": {
    "deletable": false,
    "editable": false,
    "nbgrader": {
     "cell_type": "markdown",
     "checksum": "1cd90c315c5355518953932a284b7675",
     "grade": false,
     "grade_id": "cell-108742731508443",
     "locked": true,
     "schema_version": 3,
     "solution": false
    }
   },
   "source": [
    "**(b)** [10] Estimate $\\max |\\ell_k(x)|$ for $N > 2$ by writing a function that returns the maximum absolute value of all Lagrange basis functions for $N$ evenly spaced points.  Note that $N$ is the polynomial order, not the number of points.  Use\n",
    "```python\n",
    "x = numpy.linspace(-1, 1, 100)\n",
    "```\n",
    "to evaluate the polynomial.  Also it may be helpful to plot the basis and the maximum found to check your answer:\n",
    "```python\n",
    "fig = plt.figure()\n",
    "axes = fig.add_subplot(1, 1, 1)\n",
    "axes.plot(x, lagrange_basis)\n",
    "axes.plot(x_max, lagrange_basis_max, 'ko')\n",
    "```"
   ]
  },
  {
   "cell_type": "code",
   "execution_count": 2,
   "metadata": {
    "deletable": false,
    "nbgrader": {
     "cell_type": "code",
     "checksum": "883e97a0b1b92e5301143cafc8747ce8",
     "grade": false,
     "grade_id": "cell-1846687567556877",
     "locked": false,
     "schema_version": 3,
     "solution": true
    }
   },
   "outputs": [],
   "source": [
    "def max_equal_basis(N):\n",
    "    \"\"\"Compute the maximum amplitude of the Lagrange\n",
    "    polynomial basis of degree *N*\n",
    "\n",
    "    \"\"\"\n",
    "    x = numpy.linspace(-1, 1, 100)\n",
    "    \n",
    "    # YOUR CODE HERE\n",
    "\n",
    "    maxes = []\n",
    "    \n",
    "    xij = numpy.linspace(-1, 1, N + 1)\n",
    "\n",
    "\n",
    "    for xi in xij:\n",
    "\n",
    "      li = numpy.ones(x.shape)\n",
    "      \n",
    "      for xj in xij:\n",
    "\n",
    "        if xj != xi:\n",
    "          li *= (x - xj) / (xi - xj)\n",
    "      \n",
    "      maxes.append(max(numpy.abs(li)))\n",
    "    \n",
    "    return max(maxes)\n",
    "\n",
    "    #raise NotImplementedError()"
   ]
  },
  {
   "cell_type": "code",
   "execution_count": 3,
   "metadata": {
    "deletable": false,
    "editable": false,
    "nbgrader": {
     "cell_type": "code",
     "checksum": "5297b1a663db6739291d9b220e0f2068",
     "grade": true,
     "grade_id": "cell-4790850008223281",
     "locked": true,
     "points": 10,
     "schema_version": 3,
     "solution": false
    }
   },
   "outputs": [
    {
     "name": "stdout",
     "output_type": "stream",
     "text": [
      "Success!\n"
     ]
    }
   ],
   "source": [
    "N = [2, 4, 6, 8, 10, 12, 20, 30, 40]\n",
    "max_value = numpy.empty(len(N))\n",
    "for (i, n) in enumerate(N):\n",
    "    max_value[i] = max_equal_basis(n)\n",
    "numpy.testing.assert_allclose(max_value, [1.00000000e+00, 1.15204532e+00, 1.36216139e+00, \n",
    "                                          2.54889859e+00, 6.50684027e+00, 1.80407350e+01, \n",
    "                                          1.79785431e+03, 8.77912809e+05, 4.27506380e+08])\n",
    "\n",
    "print(\"Success!\")"
   ]
  },
  {
   "cell_type": "markdown",
   "metadata": {
    "deletable": false,
    "editable": false,
    "nbgrader": {
     "cell_type": "markdown",
     "checksum": "7f42157667b4cd448b19fe57c102df9b",
     "grade": false,
     "grade_id": "cell-4319376963517508",
     "locked": true,
     "schema_version": 3,
     "solution": false
    }
   },
   "source": [
    "**(c)** [5] Repeat part **b** but with Chebyshev points.  Note that these are Lagrangian basis functions using Chebyshev points (or nodes) rather than the Chebyshev polynomial basis.  Again use the plotting code above if you need to debug."
   ]
  },
  {
   "cell_type": "code",
   "execution_count": 4,
   "metadata": {
    "deletable": false,
    "nbgrader": {
     "cell_type": "code",
     "checksum": "977042cecd36427e1284c95a5e93d762",
     "grade": false,
     "grade_id": "cell-7014398607882874",
     "locked": false,
     "schema_version": 3,
     "solution": true
    }
   },
   "outputs": [],
   "source": [
    "def max_chebyshev_basis(N):\n",
    "    \"\"\"Using Chebyshev nodes and the corresponding Lagrangian basis\n",
    "    compute the maximum amplitude of the basis function of degree *N*.\n",
    "    \"\"\"\n",
    "    x = numpy.linspace(-1, 1, 100)\n",
    "    # YOUR CODE HERE\n",
    "    \n",
    "    maxes = []\n",
    "\n",
    "    k = numpy.array([i for i in range(1, N + 2)])\n",
    "    xk = numpy.cos((2*k - 1)*numpy.pi/(2*N + 2))\n",
    "\n",
    "    for xi in xk:\n",
    "\n",
    "      li = numpy.ones(x.shape)\n",
    "      \n",
    "      for xj in xk:\n",
    "\n",
    "        if xj != xi:\n",
    "          li *= (x - xj) / (xi - xj)\n",
    "      \n",
    "      maxes.append(max(numpy.abs(li)))\n",
    "    \n",
    "    return max(maxes)\n",
    "    \n",
    "    #raise NotImplementedError()"
   ]
  },
  {
   "cell_type": "code",
   "execution_count": 5,
   "metadata": {
    "deletable": false,
    "editable": false,
    "nbgrader": {
     "cell_type": "code",
     "checksum": "15ffd63c8ff63e73eddff1559ce9c507",
     "grade": true,
     "grade_id": "cell-4966796702486256",
     "locked": true,
     "points": 5,
     "schema_version": 3,
     "solution": false
    }
   },
   "outputs": [
    {
     "name": "stdout",
     "output_type": "stream",
     "text": [
      "Success!\n"
     ]
    }
   ],
   "source": [
    "N = [2, 4, 6, 8, 10, 12, 20, 30, 40]\n",
    "max_value = numpy.empty(len(N))\n",
    "for (i, n) in enumerate(N):\n",
    "    max_value[i] = max_chebyshev_basis(n)\n",
    "\n",
    "numpy.testing.assert_allclose(max_value, [1.24401694, 1.2627503, 1.26789221, 1.27000581, \n",
    "                                          1.27107518, 1.27169006, 1.27264584, 1.27296711,\n",
    "                                          1.2730838])\n",
    "\n",
    "print(\"Success!\")"
   ]
  },
  {
   "cell_type": "markdown",
   "metadata": {
    "deletable": false,
    "editable": false,
    "nbgrader": {
     "cell_type": "markdown",
     "checksum": "7068d4dc9465c15e46dd59f5b0b30274",
     "grade": false,
     "grade_id": "cell-2867612339147590",
     "locked": true,
     "schema_version": 3,
     "solution": false
    }
   },
   "source": [
    "**(d)** [5] Plot a comparison of the results (on the same plot) from part **b** and **c** using the same values of N.  Make sure to use a `semilogy` plot so that the values are vieable (at least for one of the series)."
   ]
  },
  {
   "cell_type": "code",
   "execution_count": 6,
   "metadata": {
    "deletable": false,
    "nbgrader": {
     "cell_type": "code",
     "checksum": "093d9cf0591f8e5847b9bae28e94c68d",
     "grade": true,
     "grade_id": "cell-7707828088791371",
     "locked": false,
     "points": 5,
     "schema_version": 3,
     "solution": true
    }
   },
   "outputs": [
    {
     "data": {
      "image/png": "[encoded data removed]",
      "text/plain": [
       "<Figure size 432x288 with 1 Axes>"
      ]
     },
     "metadata": {
      "needs_background": "light"
     },
     "output_type": "display_data"
    }
   ],
   "source": [
    "# YOUR CODE HERE\n",
    "\n",
    "N = numpy.array([i for i in range(1, 51)])\n",
    "equal = numpy.array([max_equal_basis(num) for num in N])\n",
    "cheby = numpy.array([max_chebyshev_basis(num) for num in N])\n",
    "\n",
    "plt.semilogy(N, equal, label=\"Equal Basis\")\n",
    "plt.semilogy(N, cheby, label=\"Chebyshev Basis\")\n",
    "plt.legend()\n",
    "plt.grid()\n",
    "plt.ylabel(\"Maximum Found\")\n",
    "plt.xlabel(\"N\")\n",
    "plt.title(\"Maximum Found vs. N for Equally Spaced Points vs. Chebyshev Points\")\n",
    "plt.show()\n",
    "\n",
    "# raise NotImplementedError()"
   ]
  },
  {
   "cell_type": "markdown",
   "metadata": {
    "deletable": false,
    "editable": false,
    "nbgrader": {
     "cell_type": "markdown",
     "checksum": "6211acc2968389f2b9c915eb25a986ed",
     "grade": false,
     "grade_id": "cell-e4a09beea3442364",
     "locked": true,
     "schema_version": 3,
     "solution": false,
     "task": false
    }
   },
   "source": [
    "## Question 3\n",
    "\n",
    "Consider the Lebesgue function\n",
    "$$\n",
    "\\lambda_N(x)  = \\sum_{i=0}^N\\big{|}\\ell_i(x)\\big{|}\n",
    "$$\n",
    "where $\\ell_i(x)$ are Lagrange basis functions for a given set of $x_i$.  The maximum of the Lebesgue function is called $\\Lambda_n$ the Lebesgue constant and have a clear connection to Lagrangian interpolation as they provide a first estimate for the interpolation error.  Unfortunately, $\\Lambda_N$ is not uniformly bounded regardless of the nodes used as one can show that \n",
    "$$\n",
    "    \\Lambda_N > \\mathcal{O}(\\log N) ~~~\\text{as}~~~ N \\rightarrow \\infty\n",
    "$$\n",
    "\n",
    "Note, $\\Lambda_n$ is the infinite-norm of the linear operator mapping data to interpolant on the given grid and interval."
   ]
  },
  {
   "cell_type": "markdown",
   "metadata": {
    "deletable": false,
    "editable": false,
    "nbgrader": {
     "cell_type": "markdown",
     "checksum": "1d3fe3385eb6de35e12c1b3dbba5ae5b",
     "grade": false,
     "grade_id": "cell-776abdcd953b3800",
     "locked": true,
     "schema_version": 3,
     "solution": false,
     "task": false
    }
   },
   "source": [
    "**(a)** [5] What do you expect the Lebesgue function to look like?  Are there key points where we will know the function value exactly?"
   ]
  },
  {
   "cell_type": "markdown",
   "metadata": {
    "deletable": false,
    "nbgrader": {
     "cell_type": "markdown",
     "checksum": "be268da4210714781f969b8c5ad48eb0",
     "grade": true,
     "grade_id": "cell-8b13376ff99b9478",
     "locked": false,
     "points": 5,
     "schema_version": 3,
     "solution": true,
     "task": false
    }
   },
   "source": [
    "YOUR ANSWER HERE\n",
    "\n",
    "The Lebesgue function is the sum of multiple Lagrange basis functions, which all have wave-like behavior when plotted. The Lebesgue function would thus look like the superposition of several waves, and have a similar wave-like structure. \n",
    "\n",
    "For certain values of x, like $x = x_i$, we will know the value of the function exactly.\n",
    "\n",
    "We can rewrite the summation as:\n",
    "\n",
    "$$\n",
    "    \\lambda_N (x) = \\sum_{i = 0}^{N} |l_i(x)| = |l_0(x)| + |l_1(x)| + |l_2(x)| + ... + |l_N(x)|\n",
    "$$\n",
    "\n",
    "Each Lagrange basis function is defined as:\n",
    "\n",
    "$$\n",
    "    l_i(x) = \\prod_{j = 0, j \\neq i} ^ {N} \\frac{x - x_j}{x_i - x_j}\n",
    "$$\n",
    "\n",
    "So, if we substitute $x = x_i$ to get $l_i(x_i)$, then we have:\n",
    "\n",
    "$$\n",
    "    l_i(x_i) = \\prod_{j = 0, j \\neq i} ^ {N} \\frac{x_i - x_j}{x_i - x_j} \\\\\n",
    "    l_i(x_i) = \\prod_{j = 0, j \\neq i} ^ {N} 1 \\\\\n",
    "    l_i(x_i) = 1\n",
    "$$\n",
    "\n",
    "The other Lagrange basis terms $l_k(x_i)$, where $k \\neq i$, have the form\n",
    "$$\n",
    "    l_k(x) = \\prod_{j = 0, j \\neq i} ^ {N} \\frac{x - x_j}{x_k - x_j} = (\\frac{x - x_0}{x_k - x_0}) \\times (\\frac{x - x_1}{x_k - x_1}) \\times  ... \\times (\\frac{x - x_i}{x_k - x_i}) \\times ... \\times (\\frac{x - x_N}{x_k - x_N})\n",
    "$$\n",
    "\n",
    "When we plug in $x = x_i$ into the other terms $l_k(x)$, we get:\n",
    "$$\n",
    "    l_k(x_i) = (\\frac{x_i - x_0}{x_k - x_0}) \\times (\\frac{x_i - x_1}{x_k - x_1}) \\times  ... \\times (\\frac{x_i - x_i}{x_k - x_i}) \\times ... \\times (\\frac{x_i - x_N}{x_k - x_N}) \\\\\n",
    "    l_k(x_i) = (\\frac{x_i - x_0}{x_k - x_0}) \\times (\\frac{x_i - x_1}{x_k - x_1}) \\times  ... \\times 0 \\times ... \\times (\\frac{x_i - x_N}{x_k - x_N}) \\\\\n",
    "    l_k(x_i) = 0\n",
    "$$\n",
    "\n",
    "Thus, we end up with $l_k(x_i) = 0$ for all Lagrange basis terms where $i \\neq k$\n",
    "\n",
    "For the overall Lebesgue function, whenever we have $x = x_i$ for some $i$, our Lebesgue function becomes:\n",
    "$$\n",
    "    \\lambda_N (x) = \\sum_{i = 0}^{N} |l_i(x)| = |l_0(x)| + |l_1(x)| +  ... + |l_i(x)| + ... + |l_N(x)| \\\\\n",
    "    \\lambda_N (x) = 0 +  0 +  ... + 1 + ... +  0 \\\\\n",
    "    \\lambda_N (x) = 1\n",
    "$$\n",
    "\n",
    "So at these points $x = x_i$, we are certain about the value of the Lebesgue function."
   ]
  },
  {
   "cell_type": "markdown",
   "metadata": {
    "deletable": false,
    "editable": false,
    "nbgrader": {
     "cell_type": "markdown",
     "checksum": "d99ac09622756b920dcb3c3f92f0ef49",
     "grade": false,
     "grade_id": "cell-038a24ac86e5f79b",
     "locked": true,
     "schema_version": 3,
     "solution": false,
     "task": false
    }
   },
   "source": [
    "**(b)** [10] Plot the Lebesgue function for $x\\in[-1, 1]$ for $N = 5, 10, 20$ with\n",
    "$$\n",
    "    x_i = -1 + \\frac{2 i}{N}, ~~~ i = 0, 1, \\ldots, N.\n",
    "$$\n",
    "For the case where $N = 20$ comment on what you see (you may need to use `semilogy` to see the results)."
   ]
  },
  {
   "cell_type": "code",
   "execution_count": 7,
   "metadata": {
    "deletable": false,
    "nbgrader": {
     "cell_type": "code",
     "checksum": "74db041051326d0c4711da22b0c6b87a",
     "grade": true,
     "grade_id": "cell-2983e005a89bf619",
     "locked": false,
     "points": 7,
     "schema_version": 3,
     "solution": true,
     "task": false
    }
   },
   "outputs": [
    {
     "data": {
      "image/png": "[encoded data removed]",
      "text/plain": [
       "<Figure size 432x288 with 1 Axes>"
      ]
     },
     "metadata": {
      "needs_background": "light"
     },
     "output_type": "display_data"
    },
    {
     "data": {
      "image/png": "[encoded data removed]",
      "text/plain": [
       "<Figure size 432x288 with 1 Axes>"
      ]
     },
     "metadata": {
      "needs_background": "light"
     },
     "output_type": "display_data"
    },
    {
     "data": {
      "image/png": "[encoded data removed]",
      "text/plain": [
       "<Figure size 432x288 with 1 Axes>"
      ]
     },
     "metadata": {
      "needs_background": "light"
     },
     "output_type": "display_data"
    }
   ],
   "source": [
    "# YOUR CODE HERE\n",
    "def lebesgue1(x, N):\n",
    "  \n",
    "  xij = numpy.array([-1 + (2*i)/N for i in range(0, N + 1)])\n",
    "\n",
    "  lambdaN = numpy.zeros(x.shape)\n",
    "  \n",
    "  for xi in xij:\n",
    "    \n",
    "    li = numpy.ones(x.shape)\n",
    "\n",
    "    for xj in xij:\n",
    "\n",
    "      if xj != xi:\n",
    "        li *= (x - xj) / (xi - xj)\n",
    "    \n",
    "    lambdaN += numpy.abs(li)\n",
    "\n",
    "  return lambdaN\n",
    "\n",
    "\n",
    "for N in [5, 10, 20]:\n",
    "  #N = 20\n",
    "  x = numpy.linspace(-1, 1, 500)\n",
    "\n",
    "  lambdaN = lebesgue1(x, N)\n",
    "  plt.semilogy(x, lambdaN)\n",
    "\n",
    "  xij = numpy.array([-1 + (2*i)/N for i in range(0, N + 1)])\n",
    "  plt.scatter(xij, [1]*len(xij), color=\"red\")\n",
    "  \n",
    "  plt.xlabel(\"x values\")\n",
    "  plt.ylabel(\"$\\lambda_N(x)$\")\n",
    "  plt.title(\"$\\lambda_N(x)$ for N = \" + str(N))\n",
    "\n",
    "  plt.xlim(-1, 1)\n",
    "  plt.ylim(bottom=1)\n",
    "\n",
    "  plt.grid()\n",
    "  plt.show()\n",
    "\n",
    "# raise NotImplementedError()"
   ]
  },
  {
   "cell_type": "markdown",
   "metadata": {
    "deletable": false,
    "nbgrader": {
     "cell_type": "markdown",
     "checksum": "3092508c390d0c8641996f1b5082d593",
     "grade": true,
     "grade_id": "cell-d70170bc3968b2fb",
     "locked": false,
     "points": 3,
     "schema_version": 3,
     "solution": true,
     "task": false
    }
   },
   "source": [
    "YOUR ANSWER HERE\n",
    "\n",
    "In part a, we calculated that $\\lambda_N(x) = 1$ for the points $x_i$ that we are certain about. When N is smaller, like for N = 5, we still observe that $\\lambda_N(x_i) = 1$ as our $x_i$ values (shown in red) are close to the plot of $\\lambda_N(x)$. However, as N increases, we no longer see this pattern. The error between the plot of $\\lambda_N$ and the points where $\\lambda_N = 1$ grows. For N = 20, especially at the sides of the plot, we see that the error between $\\lambda_N(x_i)$ and $\\lambda_N(x_i) = 1$ is really large. "
   ]
  },
  {
   "cell_type": "markdown",
   "metadata": {
    "deletable": false,
    "editable": false,
    "nbgrader": {
     "cell_type": "markdown",
     "checksum": "2d12a8fa4220c0f12389af948a9bc410",
     "grade": false,
     "grade_id": "cell-a9205f0cd3d1aca8",
     "locked": true,
     "schema_version": 3,
     "solution": false,
     "task": false
    }
   },
   "source": [
    "**(c)** [5] Plot the Lebesgue function for $x\\in[-1, 1]$ for $N = 5, 10, 20$ with\n",
    "$$\n",
    "    x_i = \\cos\\left( \\frac{(2i - 1) \\pi}{2 N} \\right ) ~~~ i = 1, \\ldots, N.\n",
    "$$\n",
    "Again comment on what you see in the case $N = 20$."
   ]
  },
  {
   "cell_type": "code",
   "execution_count": 8,
   "metadata": {
    "deletable": false,
    "nbgrader": {
     "cell_type": "code",
     "checksum": "6936caf99b1685b9f3480277bbcb0108",
     "grade": true,
     "grade_id": "cell-6b6cbb6081a6ec7a",
     "locked": false,
     "points": 5,
     "schema_version": 3,
     "solution": true,
     "task": false
    }
   },
   "outputs": [
    {
     "data": {
      "image/png": "[encoded data removed]",
      "text/plain": [
       "<Figure size 432x288 with 1 Axes>"
      ]
     },
     "metadata": {
      "needs_background": "light"
     },
     "output_type": "display_data"
    },
    {
     "data": {
      "image/png": "[encoded data removed]",
      "text/plain": [
       "<Figure size 432x288 with 1 Axes>"
      ]
     },
     "metadata": {
      "needs_background": "light"
     },
     "output_type": "display_data"
    },
    {
     "data": {
      "image/png": "[encoded data removed]",
      "text/plain": [
       "<Figure size 432x288 with 1 Axes>"
      ]
     },
     "metadata": {
      "needs_background": "light"
     },
     "output_type": "display_data"
    }
   ],
   "source": [
    "# YOUR CODE HERE\n",
    "def lebesgue2(x, N):\n",
    "  \n",
    "  xij = numpy.array([numpy.cos((2*i - 1)*numpy.pi/(2*N)) for i in range(1, N + 1)])\n",
    "  lambdaN = numpy.zeros(x.shape)\n",
    "  \n",
    "  for xi in xij:\n",
    "    \n",
    "    li = numpy.ones(x.shape)\n",
    "\n",
    "    for xj in xij:\n",
    "\n",
    "      if xj != xi:\n",
    "        li *= (x - xj) / (xi - xj)\n",
    "    \n",
    "    lambdaN += numpy.abs(li)\n",
    "\n",
    "  return lambdaN\n",
    "\n",
    "\n",
    "for N in [5, 10, 20]:\n",
    "  #N = 20\n",
    "  x = numpy.linspace(-1, 1, 500)\n",
    "\n",
    "  lambdaN = lebesgue2(x, N)\n",
    "  plt.semilogy(x, lambdaN)\n",
    "\n",
    "  xij = numpy.array([numpy.cos((2*i - 1)*numpy.pi/(2*N)) for i in range(1, N + 1)])\n",
    "  plt.scatter(xij, [1]*len(xij), color=\"red\")\n",
    "\n",
    "  plt.xlabel(\"x values\")\n",
    "  plt.ylabel(\"$\\lambda_N(x)$\")\n",
    "  plt.title(\"$\\lambda_N(x)$ for N = \" + str(N))\n",
    "\n",
    "  plt.xlim(-1, 1)\n",
    "  plt.ylim(bottom=1)\n",
    "\n",
    "  plt.grid()\n",
    "  plt.show()\n",
    "\n",
    "# raise NotImplementedError()"
   ]
  },
  {
   "cell_type": "markdown",
   "metadata": {},
   "source": [
    "In the case where N = 20, we see that the interpolation is much more accurate for the Lebesgue Function.\n",
    "By using Chebyshev points for the interpolation, our values for lambda N are closer to what we expected,\n",
    "which was that lambda N = 1 for x_i points."
   ]
  },
  {
   "cell_type": "markdown",
   "metadata": {
    "deletable": false,
    "editable": false,
    "nbgrader": {
     "cell_type": "markdown",
     "checksum": "29f83c46d1e8271159865c5623a4d1d1",
     "grade": false,
     "grade_id": "cell-80777791bf52e9b4",
     "locked": true,
     "schema_version": 3,
     "solution": false,
     "task": false
    }
   },
   "source": [
    "**(d)** [5] What do you observe about the Lebesgue function for each of the distribution of points?"
   ]
  },
  {
   "cell_type": "markdown",
   "metadata": {
    "deletable": false,
    "nbgrader": {
     "cell_type": "markdown",
     "checksum": "cbeee7b8148cc0b9c062ce391ca93cef",
     "grade": true,
     "grade_id": "cell-cb01d5c3e8fcb7b7",
     "locked": false,
     "points": 5,
     "schema_version": 3,
     "solution": true,
     "task": false
    }
   },
   "source": [
    "YOUR ANSWER HERE\n",
    "\n",
    "In these cases, we see that when Chebyshev points, $x_i = \\cos(\\frac{(2i - 1)\\pi}{2N})$ are used instead of the equidistant points, our Lebesgue Function $\\lambda_N(x_i)$ is much more accurate in its estimation. The Chebyshev points minimize interpolation error. At the points $x_i$, shown in red, where $\\lambda_N(x_i) = 1$ should be true, there is much less error. The Lebesgue Function is more uniform in appearance, with an approximately constant amplitude for each wave, compared to the equidistant case in which the amplitude varied greatly."
   ]
  },
  {
   "cell_type": "markdown",
   "metadata": {
    "deletable": false,
    "editable": false,
    "nbgrader": {
     "cell_type": "markdown",
     "checksum": "89e9907db09d3a1de17bc36f6792ee51",
     "grade": false,
     "grade_id": "cell-cfd76f58616457e1",
     "locked": true,
     "schema_version": 3,
     "solution": false,
     "task": false
    }
   },
   "source": [
    "**(e)** [5] Using suitable values for $N$ plot the Lebesgue constants of each of the above cases.  Make sure to use a suitably large number of points to evaluate the function.  Graphically demonstrate that the constant grow with the predicted growth rate $\\mathcal{O}(\\log N)$ keeping in mind that there may be a constant out in front of the $\\log N$ term.  Describe what you observe."
   ]
  },
  {
   "cell_type": "code",
   "execution_count": 9,
   "metadata": {
    "deletable": false,
    "nbgrader": {
     "cell_type": "code",
     "checksum": "dddfd9db3ab6cb7121d7458fd24d7bf5",
     "grade": true,
     "grade_id": "cell-10f1ad2a4851a350",
     "locked": false,
     "points": 3,
     "schema_version": 3,
     "solution": true,
     "task": false
    }
   },
   "outputs": [
    {
     "data": {
      "image/png": "[encoded data removed]",
      "text/plain": [
       "<Figure size 432x288 with 1 Axes>"
      ]
     },
     "metadata": {
      "needs_background": "light"
     },
     "output_type": "display_data"
    }
   ],
   "source": [
    "# YOUR CODE HERE\n",
    "\n",
    "N = [i for i in range(1, 51)]\n",
    "lebesgue_constant1 = [max(lebesgue1(x, num)) for num in N]\n",
    "lebesgue_constant2 = [max(lebesgue2(x, num)) for num in N]\n",
    "\n",
    "plt.semilogy(N, lebesgue_constant1, label=\"$-1 + 2i/N$\")\n",
    "plt.semilogy(N, lebesgue_constant2, label=\"$\\cos((2i - 1)\\pi)/2N)$\")\n",
    "plt.semilogy(N, numpy.log(N), label=\"log(N)\")\n",
    "plt.xlabel(\"N values\")\n",
    "plt.ylabel(\"$\\Lambda_N(x)$\")\n",
    "plt.title(\"$\\Lambda_N(x)$ for different N values\")\n",
    "plt.legend()\n",
    "plt.grid()\n",
    "plt.show()\n",
    "\n",
    "# raise NotImplementedError()"
   ]
  },
  {
   "cell_type": "markdown",
   "metadata": {
    "deletable": false,
    "nbgrader": {
     "cell_type": "markdown",
     "checksum": "427a6dd45db93d316ba8f36ee88b5540",
     "grade": true,
     "grade_id": "cell-3dadda7f36443bfd",
     "locked": false,
     "points": 2,
     "schema_version": 3,
     "solution": true,
     "task": false
    }
   },
   "source": [
    "YOUR ANSWER HERE\n",
    "\n",
    "We can see in this plot that the choice of points used to calculate the Lebesgue Constant has a huge impact on the value determined. When $x_i = \\cos(\\frac{(2i - 1)\\pi}{2N})$ is used, the Lebesgue Constant values grows N at the predicted $O(\\log N)$ growth rate. When the equidistant points are used, the Lebesgue Constant no longer grows with the predicted growth rate, and instead grows much faster with increasing N.  "
   ]
  },
  {
   "cell_type": "markdown",
   "metadata": {
    "deletable": false,
    "editable": false,
    "nbgrader": {
     "cell_type": "markdown",
     "checksum": "dd78e6511500813405fee46f2fda4981",
     "grade": false,
     "grade_id": "cell-ae4184c87fbd7b7f",
     "locked": true,
     "schema_version": 3,
     "solution": false,
     "task": false
    }
   },
   "source": [
    "## Question 4\n",
    "\n",
    "In lecture we constructed the system of equations we need to solve for each interval if we wanted to use a piece-wise cubic function and have an interpolant that is $C^1$.  This questions addresses the details of that derivation."
   ]
  },
  {
   "cell_type": "markdown",
   "metadata": {
    "deletable": false,
    "editable": false,
    "nbgrader": {
     "cell_type": "markdown",
     "checksum": "e49373f22d330f7b1c8d5597610625f7",
     "grade": false,
     "grade_id": "cell-0352462338c1e96d",
     "locked": true,
     "schema_version": 3,
     "solution": false,
     "task": false
    }
   },
   "source": [
    "**(a)** [5] Let $x \\in [x_k, x_{k+1}] = X$ and $s \\in [0, 1] = S$.  Write down the transformation we need to map the $X$ and $S$ to each other, i.e. $T:X \\rightarrow S$, along with its inverse $T^{-1}$."
   ]
  },
  {
   "cell_type": "markdown",
   "metadata": {
    "deletable": false,
    "nbgrader": {
     "cell_type": "markdown",
     "checksum": "acec4da0387c7a730cb00859536775de",
     "grade": true,
     "grade_id": "cell-2de237b1ac9a175c",
     "locked": false,
     "points": 5,
     "schema_version": 3,
     "solution": true,
     "task": false
    }
   },
   "source": [
    "YOUR ANSWER HERE\n",
    "\n",
    "For some $x \\in [x_k, x_{k+1}]$, we want a continuous mapping of this $x$ value to some $s$ where $s \\in [0, 1]$. \n",
    "\n",
    "If we map the distance from $x_k$ to $x_{k+1}$ to a distance of $1$, we can think of any $x \\in [x_k, x_{k+1}]$ and map it to the fraction of this distance that it has covered.\n",
    "\n",
    "With this logic, we get the transformation:\n",
    "$$\n",
    "    s = T(x) = \\frac{x - x_k}{x_{k+1} - x_k}\n",
    "$$\n",
    "\n",
    "Thus, when we substitute $x = x_k$, we get $T(x_k) = 0$ (which is the desired result) and $T(x_{k+1}) = 1$ (which is also the desired result. This completes our mapping from $X \\rightarrow S$. \n",
    "\n",
    "We can also compute the inverse:\n",
    "$$\n",
    "    x = T^{-1}(s) = s(x_{k+1} - x_k) + x_k\n",
    "$$\n",
    "\n",
    "Which maps S back to X."
   ]
  },
  {
   "cell_type": "markdown",
   "metadata": {
    "deletable": false,
    "editable": false,
    "nbgrader": {
     "cell_type": "markdown",
     "checksum": "c294beb974f8fd1a979b61e5536491e6",
     "grade": false,
     "grade_id": "cell-79c34672a3164ab8",
     "locked": true,
     "schema_version": 3,
     "solution": false,
     "task": false
    }
   },
   "source": [
    "**(b)** [15] After making the transformation of the equations we found that the system of equations that result are\n",
    "$$\\begin{bmatrix}\n",
    "    1 & 0 & 0 & 0 \\\\\n",
    "    1 & 1 & 1 & 1 \\\\\n",
    "    0 & 1 & 0 & 0 \\\\\n",
    "    0 & 1 & 2 & 3\n",
    "\\end{bmatrix} \\begin{bmatrix}\n",
    "p_0 \\\\ p_1 \\\\ p_2 \\\\ p_3\n",
    "\\end{bmatrix} = \\begin{bmatrix}\n",
    "y_k \\\\ y_{k+1} \\\\ d_k \\\\ d_{k+1}\n",
    "\\end{bmatrix}$$\n",
    "Show that the solution is\n",
    "$$\n",
    "    \\mathcal{P}(s) = (1-s)^2 (1 + 2s) y_k + s^2 (3 - 2 s) y_{k+1} + s (1 - s)^2 d_k - s^2 (1 - s)d_{k+1}\n",
    "$$"
   ]
  },
  {
   "cell_type": "markdown",
   "metadata": {
    "deletable": false,
    "nbgrader": {
     "cell_type": "markdown",
     "checksum": "87689ad8d70be1f8ce933573a2438eed",
     "grade": true,
     "grade_id": "cell-aaa12b6bd8ff0c14",
     "locked": false,
     "points": 10,
     "schema_version": 3,
     "solution": true,
     "task": false
    }
   },
   "source": [
    "YOUR ANSWER HERE\n",
    "\n",
    "We can define the cubic function of s as:\n",
    "\n",
    "$$\n",
    "    P(s) = p_0 + p_1 s + p_2 s^2 + p_3 s^3\n",
    "$$\n",
    "\n",
    "We want to find the coefficients of this function, $p_0, p_1, p_2, p_3$. \n",
    "\n",
    "Currently, we have the system \n",
    "\n",
    "$$A \\vec{p} = \\vec{y}$$\n",
    "\n",
    "To solve for $\\vec{p}$ we can multiply both sides by the matrix inverse $A^{-1}$ \n",
    "\n",
    "$$\n",
    "    A^{-1} A \\vec{p} = A^{-1} \\vec{y} \\\\\n",
    "    \\vec{p} = A^{-1} \\vec{y} \n",
    "$$\n",
    "\n",
    "We define matrix A as:\n",
    "$$\n",
    "    A = \\begin{bmatrix}\n",
    "    1 & 0 & 0 & 0 \\\\\n",
    "    1 & 1 & 1 & 1 \\\\\n",
    "    0 & 1 & 0 & 0 \\\\\n",
    "    0 & 1 & 2 & 3\n",
    "\\end{bmatrix}\n",
    "$$\n",
    "\n",
    "The inverse matrix $A^{-1}$ is:\n",
    "$$\n",
    "    A^{-1} = \\begin{bmatrix}\n",
    "    1 & 0 & 0 & 0 \\\\\n",
    "    0 & 0 & 1 & 0 \\\\\n",
    "    -3 & 3 & -2 & -1 \\\\\n",
    "    2 & -2 & 1 & 1\n",
    "\\end{bmatrix}\n",
    "$$\n",
    "\n",
    "So we get that:\n",
    "$$\n",
    "    \\vec{p} = A^{-1} \\vec{y} \\\\\n",
    "    \\begin{bmatrix}\n",
    "p_0 \\\\ p_1 \\\\ p_2 \\\\ p_3\n",
    "\\end{bmatrix} = \\begin{bmatrix}\n",
    "    1 & 0 & 0 & 0 \\\\\n",
    "    0 & 0 & 1 & 0 \\\\\n",
    "    -3 & 3 & -2 & -1 \\\\\n",
    "    2 & -2 & 1 & 1\n",
    "\\end{bmatrix} \\begin{bmatrix}\n",
    "y_k \\\\ y_{k+1} \\\\ d_k \\\\ d_{k+1}\n",
    "\\end{bmatrix}\n",
    "$$\n",
    "\n",
    "We can solve for the coefficients:\n",
    "$$\n",
    "    p_0 = y_k \\\\\n",
    "    p_1 = d_k \\\\\n",
    "    p_2 = -3y_k + 3y_{k + 1} - 2d_k - d_{k + 1} \\\\\n",
    "    p_3 = 2y_k - 2y_{k + 1} + d_k + d_{k + 1} \\\\\n",
    "$$\n",
    "\n",
    "And substitute into $P_k(s)$:\n",
    "$$\n",
    "    P_k(s) = y_k = d_k s + (-3y_k + 3y_{k + 1} - 2d_k - d_{k + 1})s^2 + (2y_k - 2y_{k + 1} + d_k + d_{k + 1})s^3 \\\\\n",
    "    P_k(s) = y_k - 3y_k s^2 + 2y_k s^3 + 3y_{k + 1}s^2 - 2y_{k + 1}s^3 + d_k s - 2d_k s^2 + d_k s^3 - d_{k + 1}s^2 + d_{k + 1}s^3 \\\\\n",
    "    P_k(s) = (1 - 3s^2 + 2s^3)y_k + (3s^2 - 2s^3)y_{k + 1} + (s - 2s^2 + s^3)d_k + (-s^2 + s^3)d_{k + 1}\n",
    "$$\n",
    "\n",
    "If we factor the $s$ terms, we get:\n",
    "$$\n",
    "    P_k(s) = (1-s)^2(1 + 2s)y_k + s^2(3 - 2s)y_{k + 1} + s(1-s)^2d_k + -s^2(1 - s)d_{k + 1}\n",
    "$$\n",
    "\n",
    "Which matches the desired solution.\n"
   ]
  },
  {
   "cell_type": "code",
   "execution_count": 10,
   "metadata": {
    "deletable": false,
    "nbgrader": {
     "cell_type": "code",
     "checksum": "156439ef2d67363e5145da5c615cdf3a",
     "grade": true,
     "grade_id": "cell-d0cff044e9da2438",
     "locked": false,
     "points": 5,
     "schema_version": 3,
     "solution": true,
     "task": false
    }
   },
   "outputs": [],
   "source": [
    "# YOUR CODE HERE\n",
    "# raise NotImplementedError()"
   ]
  },
  {
   "cell_type": "markdown",
   "metadata": {
    "deletable": false,
    "editable": false,
    "nbgrader": {
     "cell_type": "markdown",
     "checksum": "314a2428827d3e9100fa280411723ce2",
     "grade": false,
     "grade_id": "cell-2408279fe31cf0ed",
     "locked": true,
     "schema_version": 3,
     "solution": false,
     "task": false
    }
   },
   "source": [
    "**(c)** [10] Use $T^{-1}$ to transform back to $X$ and write down the polynomial in terms of the original variable $x$."
   ]
  },
  {
   "cell_type": "markdown",
   "metadata": {
    "deletable": false,
    "nbgrader": {
     "cell_type": "markdown",
     "checksum": "c1b3c7f9277ec43aab7a6572475d19d2",
     "grade": true,
     "grade_id": "cell-0f4d5f70eb6c9c5f",
     "locked": false,
     "points": 10,
     "schema_version": 3,
     "solution": true,
     "task": false
    }
   },
   "source": [
    "YOUR ANSWER HERE\n",
    "\n",
    "From earlier, we have:\n",
    "$$\n",
    "    s = T(x) = \\frac{x - x_k}{x_{k+1} - x_k} \\\\\n",
    "    x = T^{-1}(s) = s(x_{k+1} - x_k) + x_k\n",
    "$$\n",
    "\n",
    "Using $x = T^{-1}(s)$ and applying it to $P_k(s)$, we have:\n",
    "\n",
    "$$\n",
    "    P_k(x) = P_k(T^{-1}(s)) = P_k(s(x_{k+1} - x_k) + x_k) \\\\\n",
    "    P_k(x) = (1-(s(x_{k+1} - x_k) + x_k))^2(1 + 2(s(x_{k+1} - x_k) + x_k))y_k + (s(x_{k+1} - x_k) + x_k)^2(3 - 2(s(x_{k+1} - x_k) + x_k))y_{k + 1} + (s(x_{k+1} - x_k) + x_k)(1-(s(x_{k+1} - x_k) + x_k))^2d_k - (s(x_{k+1} - x_k) + x_k)^2(1 - (s(x_{k+1} - x_k) + x_k))d_{k + 1} \\\\\n",
    "$$\n",
    "\n",
    "Then, applying $s = T(x) = \\frac{x - x_k}{x_{k+1} - x_k}$, we get\n",
    "$$\n",
    "    P_k(x) = (1-((x - x_k) + x_k))^2(1 + 2((x - x_k) + x_k))y_k + ((x - x_k) + x_k)^2(3 - 2((x - x_k) + x_k))y_{k + 1} + ((x - x_k) + x_k)(1-((x - x_k) + x_k))^2d_k - ((x - x_k) + x_k)^2(1 - ((x - x_k) + x_k))d_{k + 1} \\\\\n",
    "$$\n",
    "\n",
    "Which simplifies to the final answer:\n",
    "$$\n",
    "    P_k(x) = (1-x)^2(1 + 2x)y_k + x^2(3 - 2x)y_{k + 1} + x(1-x)^2d_k - x^2(1 - x)d_{k + 1} \\\\\n",
    "$$"
   ]
  }
 ],
 "metadata": {
  "kernelspec": {
   "display_name": "Python 3",
   "language": "python",
   "name": "python3"
  },
  "language_info": {
   "codemirror_mode": {
    "name": "ipython",
    "version": 3
   },
   "file_extension": ".py",
   "mimetype": "text/x-python",
   "name": "python",
   "nbconvert_exporter": "python",
   "pygments_lexer": "ipython3",
   "version": "3.8.8"
  },
  "latex_envs": {
   "bibliofile": "biblio.bib",
   "cite_by": "apalike",
   "current_citInitial": 1,
   "eqLabelWithNumbers": true,
   "eqNumInitial": 0
  }
 },
 "nbformat": 4,
 "nbformat_minor": 4
}
