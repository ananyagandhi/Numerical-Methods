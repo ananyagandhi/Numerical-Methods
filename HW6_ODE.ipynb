{
 "cells": [
  {
   "cell_type": "markdown",
   "id": "3433b920",
   "metadata": {},
   "source": [
    "Before you turn this problem in, make sure everything runs as expected. First, restart the kernel (in the menubar, select Kernel $\\rightarrow$ Restart) and then run all cells (in the menubar, select Cell $\\rightarrow$ Run All).\n",
    "\n",
    "Make sure you fill in any place that says YOUR CODE HERE or \"YOUR ANSWER HERE\", as well as your name and collaborators below:\n",
    "Ananya Gandhi, no collaborators"
   ]
  },
  {
   "cell_type": "code",
   "execution_count": 1,
   "id": "3f72c1c7",
   "metadata": {},
   "outputs": [],
   "source": [
    "%matplotlib inline\n",
    "%precision 16\n",
    "import numpy\n",
    "import matplotlib.pyplot as plt"
   ]
  },
  {
   "cell_type": "markdown",
   "id": "261ee74d",
   "metadata": {
    "deletable": false,
    "editable": false,
    "nbgrader": {
     "cell_type": "markdown",
     "checksum": "7973108178bf319efe4ce44ad1074358",
     "grade": false,
     "grade_id": "cell-6282430347078978",
     "locked": true,
     "schema_version": 3,
     "solution": false
    }
   },
   "source": [
    "# HW 6:  ODE Methods - Initial Value Problems\n",
    "\n",
    "For all of these questions write your own functions for the ODE solvers and Newton's method (you can copy from your previous homework of course)."
   ]
  },
  {
   "cell_type": "markdown",
   "id": "aeaf5dbd",
   "metadata": {
    "deletable": false,
    "editable": false,
    "nbgrader": {
     "cell_type": "markdown",
     "checksum": "aca03941cd0249e3776b4fb61ff90105",
     "grade": false,
     "grade_id": "cell-6136752038771375",
     "locked": true,
     "schema_version": 3,
     "solution": false
    }
   },
   "source": [
    "## Question 1 - Techniques for Systems of ODEs\n",
    "\n",
    "Consider the system of ODEs\n",
    "\n",
    "$$\\begin{aligned}\n",
    "v'''(t) &= t^2 v v'' - v w' \\\\\n",
    "w''(t) &= t w w' + 4 v'\n",
    "\\end{aligned}$$\n",
    "with \n",
    "$$\n",
    "    v(0) = 1, v'(0) = \\frac{1}{4}, v''(0) = \\frac{1}{3}, w(0) = \\frac{1}{2}, \\quad \\text{and} \\quad w'(0) = 0.\n",
    "$$"
   ]
  },
  {
   "cell_type": "markdown",
   "id": "a6816094",
   "metadata": {
    "deletable": false,
    "editable": false,
    "nbgrader": {
     "cell_type": "markdown",
     "checksum": "0edd765a824983acfe5b0c8cb5ae48a4",
     "grade": false,
     "grade_id": "cell-688259363692342",
     "locked": true,
     "schema_version": 3,
     "solution": false
    }
   },
   "source": [
    "**(a)** (10) Write the system of differential equations as a first-order system of differential equations, $u' = f(x, u)$."
   ]
  },
  {
   "cell_type": "markdown",
   "id": "31b84ff1",
   "metadata": {
    "deletable": false,
    "nbgrader": {
     "cell_type": "markdown",
     "checksum": "966f9665ab801b8acb53e4d2ede7f2ac",
     "grade": true,
     "grade_id": "cell-9948709108775940",
     "locked": false,
     "points": 10,
     "schema_version": 3,
     "solution": true
    }
   },
   "source": [
    "YOUR ANSWER HERE\n",
    "\n",
    "We start with\n",
    "$$\n",
    "    u = \\begin{bmatrix}\n",
    "    v \\\\\n",
    "    v' \\\\\n",
    "    v'' \\\\\n",
    "    w \\\\\n",
    "    w'\n",
    "    \\end{bmatrix} = \n",
    "    \\begin{bmatrix}\n",
    "    u_1 \\\\\n",
    "    u_2 \\\\\n",
    "    u_3 \\\\\n",
    "    u_4 \\\\\n",
    "    u_5\n",
    "    \\end{bmatrix}\n",
    "$$\n",
    "\n",
    "So we have \n",
    "$$\n",
    "    u' = \\begin{bmatrix}\n",
    "    v' \\\\\n",
    "    v'' \\\\\n",
    "    v''' \\\\\n",
    "    w' \\\\\n",
    "    w''\n",
    "    \\end{bmatrix} = \n",
    "    \\begin{bmatrix}\n",
    "    u_2 \\\\\n",
    "    u_3 \\\\ \n",
    "    x^2 u_1 u_3 - u_1u_5 \\\\\n",
    "    u_5 \\\\\n",
    "    x u_4 u_5 + 4u_2 \n",
    "    \\end{bmatrix}\n",
    "$$\n",
    "\n",
    "This gives us a first order system of differential equations. Our initial value is: \n",
    "$$\n",
    "    u(0) = \\begin{bmatrix}\n",
    "    1 \\\\\n",
    "    \\frac{1}{4} \\\\\n",
    "    \\frac{1}{3} \\\\\n",
    "    \\frac{1}{2} \\\\\n",
    "    0\n",
    "    \\end{bmatrix}\n",
    "$$ "
   ]
  },
  {
   "cell_type": "markdown",
   "id": "66817e89",
   "metadata": {
    "deletable": false,
    "editable": false,
    "nbgrader": {
     "cell_type": "markdown",
     "checksum": "3d08d1cfac052455c5ae123a812a1ee5",
     "grade": false,
     "grade_id": "cell-4822191656188437",
     "locked": true,
     "schema_version": 3,
     "solution": false
    }
   },
   "source": [
    "**(b)** (10) Write code that solves the system using a method we discussed in class that is higher than 2nd order.  Do not use `scipy.integrate`.  Make sure to choose a method that will work for the non-linear right-hand-side.  Integrate the system to time $t_f = 1$ and plot the phase plane solution $(v, w)$."
   ]
  },
  {
   "cell_type": "code",
   "execution_count": 2,
   "id": "42e38973",
   "metadata": {
    "deletable": false,
    "nbgrader": {
     "cell_type": "code",
     "checksum": "cb098fb3be49474c3ae8dd518aa2b598",
     "grade": true,
     "grade_id": "cell-9182223066400296",
     "locked": false,
     "points": 10,
     "schema_version": 3,
     "solution": true
    }
   },
   "outputs": [
    {
     "data": {
      "image/png": "[encoded data removed]",
      "text/plain": [
       "<Figure size 432x288 with 1 Axes>"
      ]
     },
     "metadata": {
      "needs_background": "light"
     },
     "output_type": "display_data"
    }
   ],
   "source": [
    "# YOUR CODE HERE\n",
    "# Use Runge Kutta 4th order method\n",
    "\n",
    "def rk4(t):\n",
    "\n",
    "  def f(x, u):\n",
    "    return numpy.array([u[1], u[2], x**2 * u[0] * u[2] - u[0] * u[4], u[4], x * u[3] * u[4] + 4 * u[1]]) \n",
    "\n",
    "  delta_t = t[1] - t[0]\n",
    "  u_4 = numpy.empty((t.shape[0], 5))\n",
    "  u_4[0, :] = [1, 1/4, 1/3, 1/2, 0]\n",
    "\n",
    "  for (n, t_n) in enumerate(t[1:]):\n",
    "    y_1 = u_4[n]\n",
    "    y_2 = u_4[n] + 0.5 * delta_t * f(t_n, y_1)\n",
    "    y_3 = u_4[n] + 0.5 * delta_t * f(t_n + 0.5 * delta_t, y_2)\n",
    "    y_4 = u_4[n] + delta_t * f(t_n + 0.5 * delta_t, y_3)\n",
    "    u_4[n+1] = u_4[n] + delta_t / 6.0 * (f(t_n, y_1) + 2.0 * f(t_n + 0.5 * delta_t, y_2) + 2.0 * f(t_n + 0.5 * delta_t, y_3) + f(t_n + delta_t, y_4))\n",
    "      \n",
    "\n",
    "  v = u_4[:, 0]\n",
    "  w = u_4[:, 3]\n",
    "  return v, w\n",
    "\n",
    "t = numpy.linspace(0, 1, 100)\n",
    "v, w = rk4(t)\n",
    "plt.plot(v, w)\n",
    "plt.xlabel(\"v(t)\")\n",
    "plt.ylabel(\"w(t)\")\n",
    "plt.title(\"Phase Plane\")\n",
    "plt.grid()\n",
    "plt.show()\n",
    "\n",
    "# raise NotImplementedError() "
   ]
  },
  {
   "cell_type": "markdown",
   "id": "bfbcde94",
   "metadata": {
    "deletable": false,
    "editable": false,
    "nbgrader": {
     "cell_type": "markdown",
     "checksum": "d58ad486bc6efd4bab9ef6afbacb2e16",
     "grade": false,
     "grade_id": "cell-3355328597751180",
     "locked": true,
     "schema_version": 3,
     "solution": false
    }
   },
   "source": [
    "**(c)** (5) For systems of non-linear ODEs it is often useful to consider the linearization of the right-hand-side function $f$ and its properties as approximately linear in some region.  The Jacobian matrix $J(f)$ is often used in this context with\n",
    "$$\n",
    "    u' \\approx J(f) u = A(t,u) u.\n",
    "$$\n",
    "This is useful if attempting to use an implicit method as we can evaluate the Jacobian matrix at the current time so that it is not dependent on $U_{n+1}$ and then solve a linear system of equations.\n",
    "\n",
    "Compute the Jacobian matrix of $f(t, u)$ for the system from part (a).  Recall that the Jacobian matrix is defined as \n",
    "$$\n",
    "    [J(f(t,u))]_{ij} = \\frac{\\partial}{\\partial u_j}  f_i(t, u).\n",
    "$$"
   ]
  },
  {
   "cell_type": "markdown",
   "id": "1595dca2",
   "metadata": {
    "deletable": false,
    "nbgrader": {
     "cell_type": "markdown",
     "checksum": "c1de453158b338573d29d8f2422e02e6",
     "grade": true,
     "grade_id": "cell-795038523529468",
     "locked": false,
     "points": 5,
     "schema_version": 3,
     "solution": true
    }
   },
   "source": [
    "YOUR ANSWER HERE\n",
    "\n",
    "From the previous problem, we have\n",
    "$$\n",
    "    f(t, u) = u' = \\begin{bmatrix}\n",
    "    u_2 \\\\\n",
    "    u_3 \\\\ \n",
    "    x^2 u_1 u_3 - u_1u_5 \\\\\n",
    "    u_5 \\\\\n",
    "    x u_4 u_5 + 4u_2 \n",
    "    \\end{bmatrix}\n",
    "$$\n",
    "\n",
    "The Jacobian is defined as:\n",
    "$$\n",
    "    J(f(t, u)) = \\begin{bmatrix}\n",
    "    \\frac{\\partial f_1}{\\partial u_1} & \\frac{\\partial f_1}{\\partial u_2} & \\frac{\\partial f_1}{\\partial u_3} & \\frac{\\partial f_1}{\\partial u_4} & \\frac{\\partial f_1}{\\partial u_5} \\\\\n",
    "    \\frac{\\partial f_2}{\\partial u_1} & \\frac{\\partial f_2}{\\partial u_2} & \\frac{\\partial f_2}{\\partial u_3} & \\frac{\\partial f_2}{\\partial u_4} & \\frac{\\partial f_2}{\\partial u_5} \\\\\n",
    "    \\frac{\\partial f_3}{\\partial u_1} & \\frac{\\partial f_3}{\\partial u_2} & \\frac{\\partial f_3}{\\partial u_3} & \\frac{\\partial f_3}{\\partial u_4} & \\frac{\\partial f_3}{\\partial u_5} \\\\\n",
    "    \\frac{\\partial f_4}{\\partial u_1} & \\frac{\\partial f_4}{\\partial u_2} & \\frac{\\partial f_4}{\\partial u_3} & \\frac{\\partial f_4}{\\partial u_4} & \\frac{\\partial f_4}{\\partial u_5} \\\\\n",
    "    \\frac{\\partial f_5}{\\partial u_1} & \\frac{\\partial f_5}{\\partial u_2} & \\frac{\\partial f_5}{\\partial u_3} & \\frac{\\partial f_5}{\\partial u_4} & \\frac{\\partial f_5}{\\partial u_5} \\\\\n",
    "    \\end{bmatrix}\n",
    "$$\n",
    "\n",
    "$$\n",
    "    J(f(t, u)) = \\begin{bmatrix}\n",
    "    0 & 1 & 0 & 0 & 0 \\\\\n",
    "    0 & 0 & 1 & 0 & 0 \\\\\n",
    "    t^2 u_3 - u_5 & 0 & t^2 u_1 & 0 & -u_1 \\\\\n",
    "    0 & 0 & 0 & 0 & 1 \\\\\n",
    "    0 & 4 & 0 & tu_5 & tu_4 \\\\\n",
    "    \\end{bmatrix}\n",
    "$$"
   ]
  },
  {
   "cell_type": "markdown",
   "id": "126afbec",
   "metadata": {
    "deletable": false,
    "editable": false,
    "nbgrader": {
     "cell_type": "markdown",
     "checksum": "9b8cece6857ed12affac26bb6a2c69b2",
     "grade": false,
     "grade_id": "cell-6449661779263517",
     "locked": true,
     "schema_version": 3,
     "solution": false
    }
   },
   "source": [
    "**(d)** (10) Now using the approach outlined in part (c) use the ODE solver Adams-Moulton 3-step to solve the equations.  This time you may use `numpy.linalg.solve`.  Please plot the results as before."
   ]
  },
  {
   "cell_type": "code",
   "execution_count": 3,
   "id": "0d6c9277",
   "metadata": {
    "deletable": false,
    "nbgrader": {
     "cell_type": "code",
     "checksum": "ff69cf5e81ec503345823847afa08906",
     "grade": true,
     "grade_id": "cell-5098869836644843",
     "locked": false,
     "points": 10,
     "schema_version": 3,
     "solution": true
    }
   },
   "outputs": [
    {
     "data": {
      "image/png": "[encoded data removed]",
      "text/plain": [
       "<Figure size 432x288 with 1 Axes>"
      ]
     },
     "metadata": {
      "needs_background": "light"
     },
     "output_type": "display_data"
    }
   ],
   "source": [
    "# YOUR CODE HERE\n",
    "def f(x, u):\n",
    "    return numpy.array([u[1], u[2], x**2 * u[0] * u[2] - u[0] * u[4], u[4], x * u[3] * u[4] + 4 * u[1]]) \n",
    "\n",
    "def jacobian(t, u):\n",
    "  J = numpy.array([[0, 1, 0, 0, 0], \n",
    "                   [0, 0, 1, 0, 0],\n",
    "                   [t**2 * u[2] - u[4], 0, t**2 * u[0], 0, -1 * u[0]], \n",
    "                   [0, 0, 0, 0, 1], \n",
    "                   [0, 4, 0, t*u[4], t*u[3]]])\n",
    "  return J\n",
    "\n",
    "t = numpy.linspace(0, 1, 1000)\n",
    "delta_t = t[1] - t[0]\n",
    "u = numpy.empty((t.shape[0], 5))\n",
    "u[0, :] = [1, 1/4, 1/3, 1/2, 0]\n",
    "\n",
    "u[1, :] = u[0] + 0.5 * delta_t * f(t[0], u[0])\n",
    "u[1, :] = u[0] + delta_t * f(t[0], u[1])\n",
    "\n",
    "u[2, :] = u[1] + 0.5 * delta_t * f(t[1], u[1])\n",
    "u[2, :] = u[1] + delta_t * f(t[1], u[2])\n",
    "\n",
    "for n in range(len(t[3:])):\n",
    "\n",
    "  b = u[n + 2] + (1/24) * delta_t * (numpy.dot(jacobian(t[n], u[n]), u[n]) - 5 * numpy.dot(jacobian(t[n + 1], u[n + 1]), u[n + 1]) + 19 * numpy.dot(jacobian(t[n + 2], u[n + 2]), u[n + 2]))\n",
    "  Jf = jacobian(t[n + 2], u[n + 2])\n",
    "  A = numpy.identity(Jf.shape[0]) - ((9/24) * delta_t * Jf)\n",
    "  u[n + 3] = numpy.linalg.solve(A, b)\n",
    "  \n",
    "v = u[:, 0]\n",
    "w = u[:, 3]\n",
    "plt.plot(v, w)\n",
    "plt.xlabel(\"v(t)\")\n",
    "plt.ylabel(\"w(t)\")\n",
    "plt.title(\"Phase Plane\")\n",
    "plt.grid()\n",
    "plt.show()\n",
    "# raise NotImplementedError()"
   ]
  },
  {
   "cell_type": "markdown",
   "id": "ea9e979a",
   "metadata": {
    "deletable": false,
    "editable": false,
    "nbgrader": {
     "cell_type": "markdown",
     "checksum": "3f0cc17609803760ff9a47d5ba140b11",
     "grade": false,
     "grade_id": "cell-9184217055325030",
     "locked": true,
     "schema_version": 3,
     "solution": false
    }
   },
   "source": [
    "**(e)** (5) Comment on what you observe from parts (b) and (d).  Try increasing the $t_f$ or changing the number of times steps you take (or shrink $\\Delta t$).  Explain why you might see this behavior."
   ]
  },
  {
   "cell_type": "markdown",
   "id": "610f47e3",
   "metadata": {
    "deletable": false,
    "nbgrader": {
     "cell_type": "markdown",
     "checksum": "c253e1ffd2a2d268ebda3abe73e9e9a3",
     "grade": true,
     "grade_id": "cell-7933480321059645",
     "locked": false,
     "points": 5,
     "schema_version": 3,
     "solution": true
    }
   },
   "source": [
    "YOUR ANSWER HERE\n",
    "\n",
    "I think the results from part B and part D are pretty similar, although the graph in part D is more curved. When the number of steps changes, the smoothness of the graph is affected (less smooth for less steps). This behavior is expected, as increasing $t$ increases the accuracy and smoothness of our approximation. There is pretty weird behavior for $t_f > 1$, as the curve begins to curve in on itself and self-intersect. "
   ]
  },
  {
   "cell_type": "markdown",
   "id": "ad7251e8",
   "metadata": {
    "deletable": false,
    "editable": false,
    "nbgrader": {
     "cell_type": "markdown",
     "checksum": "15dee6f7269af31830a1d072285c560d",
     "grade": false,
     "grade_id": "cell-3416188492521371",
     "locked": true,
     "schema_version": 3,
     "solution": false
    }
   },
   "source": [
    "## Question 2 - Lipschitz Constants\n",
    "\n",
    "The Lipschitz constant is defined as the constant $L\\in\\mathbb{R}$ such that\n",
    "\n",
    "$$||f(x, u) - f(x, u^*)|| \\leq L ||u - u^*||.$$\n",
    "\n",
    "The Lipschitz constant is useful for describing how much $f(x, u)$ changes if we change $u$.  This in turn then describes how much the slope of the solution $u'$ changes if $u$ is changed since $u' = f$.    \n",
    "\n",
    "Now consider the system of ODEs\n",
    "\n",
    "\\begin{equation*}\n",
    "\\begin{split}\n",
    "u_1' &= 3u_1 + 4u_2,\\\\\n",
    "u_2' &= 5u_1 - 6u_2.\\\\\n",
    "\\end{split}\n",
    "\\end{equation*}\n",
    "\n",
    "For the system of equations above find the Lipschitz constant if we use the $\\ell_2$ norm which is defined as\n",
    "\n",
    "$$|| v ||_{2} = \\left (\\sum^n_{i=1} v_i^2 \\right )^{1/2}.$$\n",
    "\n",
    "Note that the Lipschitz constant $L$ also provides an estimate to how long (or how much) we can trust the linearization given by the Jacobian $J$ in the last question."
   ]
  },
  {
   "cell_type": "markdown",
   "id": "d344debe",
   "metadata": {
    "deletable": false,
    "nbgrader": {
     "cell_type": "markdown",
     "checksum": "bf4d145b2299315ea6a56516c530c842",
     "grade": true,
     "grade_id": "cell-1961646768307889",
     "locked": false,
     "points": 5,
     "schema_version": 3,
     "solution": true
    }
   },
   "source": [
    "YOUR ANSWER HERE\n",
    "\n",
    "We start with\n",
    "$$\n",
    "    u = \\begin{bmatrix}\n",
    "    u_1 \\\\\n",
    "    u_2\n",
    "    \\end{bmatrix}\n",
    "$$\n",
    "\n",
    "We can find $u'$\n",
    "$$\n",
    "    u' = \\begin{bmatrix}\n",
    "    u_1' \\\\\n",
    "    u_2'\n",
    "    \\end{bmatrix} = \\begin{bmatrix}\n",
    "    3u_1 + 4u_2 \\\\\n",
    "    5u_1  - 6u_2\n",
    "    \\end{bmatrix}\n",
    "$$\n",
    "\n",
    "We know $u' = f$ so we have:\n",
    "$$\n",
    "    ||f(x, u) - f(x, u*) || = \n",
    "    || \\begin{bmatrix} \n",
    "    3u_1 + 4u_2 \\\\ \n",
    "    5u_1 - 6u_2 \n",
    "    \\end{bmatrix} - \n",
    "    \\begin{bmatrix} \n",
    "    3u^*_1 + 4u^*_2 \\\\ \n",
    "    5u^*_1 - 6u^*_2 \n",
    "    \\end{bmatrix} || \n",
    "$$\n",
    "\n",
    "We can write the inequality\n",
    "$$\n",
    "    || \\begin{bmatrix} \n",
    "    3(u_1 - u^*_1) + 4(u_2 - u^*_2) \\\\\n",
    "    5(u_1 - u^*_1) - 6(u_2 - u^*_2)\n",
    "    \\end{bmatrix} || \\leq L||u - u^*|| \\\\\n",
    "    || \\begin{bmatrix} \n",
    "    3(u_1 - u^*_1) + 4(u_2 - u^*_2) \\\\\n",
    "    5(u_1 - u^*_1) - 6(u_2 - u^*_2)\n",
    "    \\end{bmatrix} || \n",
    "    \\leq L \n",
    "    || \\begin{bmatrix}\n",
    "    u_1 - u^*_1 \\\\\n",
    "    u_2 - u^*_2\n",
    "    \\end{bmatrix} ||\n",
    "$$\n",
    "\n",
    "If we rewrite $u - u^* = \\Delta u$, we have:\n",
    "$$\n",
    "    \\sqrt{(3\\Delta u_1 + 4\\Delta u_2)^2 +  (5\\Delta u_1 - 6\\Delta u_2)^2} \\leq L \\sqrt{\\Delta u_1 ^2 + \\Delta u_2 ^2} \\\\\n",
    "    \\sqrt{9\\Delta u_1^2 + 16\\Delta u_2 ^2 + 24 \\Delta u_1 \\Delta u_2 +  25\\Delta u_1^2 + 36\\Delta u_2 ^2 - 60 \\Delta u_1 \\Delta u_2} \\leq L \\sqrt{\\Delta u_1 ^2 + \\Delta u_2 ^2} \\\\\n",
    "    \\sqrt{36\\Delta u_1^2 + 52\\Delta u_2 ^2 - 36 \\Delta u_1 \\Delta u_2} \\leq L \\sqrt{\\Delta u_1 ^2 + \\Delta u_2 ^2} \\\\\n",
    "    \\sqrt{36\\Delta u_1^2 + 52\\Delta u_2 ^2 - 36 \\Delta u_1 \\Delta u_2} \\leq  \\sqrt{L^2 \\Delta u_1 ^2 + L^2 \\Delta u_2 ^2}\n",
    "$$\n",
    "\n",
    "For this inequality to be true, we know\n",
    "$$\n",
    "    L^2 \\geq 36 \\\\\n",
    "    L^2 \\geq 52\n",
    "$$\n",
    "must both be true. We end up with the limit for the Lipschitz Constant as:\n",
    "$$ L = \\sqrt{52} $$\n",
    "so we know L is bounded by $\\sqrt{52}$."
   ]
  },
  {
   "cell_type": "markdown",
   "id": "2a75de1f",
   "metadata": {
    "deletable": false,
    "editable": false,
    "nbgrader": {
     "cell_type": "markdown",
     "checksum": "9c82d573bd08c0551f919ebaf4113da8",
     "grade": false,
     "grade_id": "cell-3568194242205544",
     "locked": true,
     "schema_version": 3,
     "solution": false
    }
   },
   "source": [
    "## Question 3 - Orbits\n",
    "\n",
    "Newton's equations for the motion of a particle (he sure gets around doesn't he) in planar orbit with eccentricity $e$ where $0 < e < 1$ are\n",
    "\n",
    "$$\\begin{aligned}\n",
    "    x''(t) &= -\\frac{x}{r^3}, ~~~~ &x(0) &= 1 - e, ~~~~ &x'(0) &= 0, \\\\\n",
    "    y''(t) &= -\\frac{y}{r^3}, ~~~~ &y(0) &= 0, ~~~~ &y'(0) &= \\sqrt{\\frac{1 + e}{1 - e}}\n",
    "\\end{aligned}$$\n",
    "\n",
    "with $r^2 = x^2 + y^2.$"
   ]
  },
  {
   "cell_type": "markdown",
   "id": "ed5926fa",
   "metadata": {
    "deletable": false,
    "editable": false,
    "nbgrader": {
     "cell_type": "markdown",
     "checksum": "b755d23585e7a5db6a7e57c3aa86afd5",
     "grade": false,
     "grade_id": "cell-7173343519934904",
     "locked": true,
     "schema_version": 3,
     "solution": false
    }
   },
   "source": [
    "**(a)** (5) Reformulate the problem as an initial value problem for a system of first-order differential equations."
   ]
  },
  {
   "cell_type": "markdown",
   "id": "15b22033",
   "metadata": {
    "deletable": false,
    "nbgrader": {
     "cell_type": "markdown",
     "checksum": "c0413e23d12a0fca65d518ead0fd57ce",
     "grade": true,
     "grade_id": "cell-5340431772211983",
     "locked": false,
     "points": 5,
     "schema_version": 3,
     "solution": true
    }
   },
   "source": [
    "YOUR ANSWER HERE\n",
    "\n",
    "We have \n",
    "$$\n",
    "    \\vec{u} = \\begin{bmatrix}\n",
    "    x \\\\\n",
    "    x' \\\\\n",
    "    y \\\\\n",
    "    y' \n",
    "\\end{bmatrix} = \\begin{bmatrix}\n",
    "    u_1 \\\\\n",
    "    u_2 \\\\\n",
    "    u_3 \\\\\n",
    "    u_4 \n",
    "\\end{bmatrix} \n",
    "$$\n",
    "\n",
    "We can write $u'$ as:\n",
    "$$\n",
    "    u' = \\begin{bmatrix}\n",
    "    x' \\\\\n",
    "    x'' \\\\\n",
    "    y' \\\\\n",
    "    y'' \n",
    "\\end{bmatrix} = \\begin{bmatrix}\n",
    "    u_2 \\\\\n",
    "    - \\frac{u_1}{r^3} \\\\\n",
    "    u_4 \\\\\n",
    "    - \\frac{u_3}{r^3} \\\\ \n",
    "\\end{bmatrix} \n",
    "$$\n",
    "\n",
    "This gives us a system of first-order differential equations, in terms of $u$. We can write the initial value of $u$ as:\n",
    "$$\n",
    "    u(0) = \\begin{bmatrix}\n",
    "    1 - e \\\\\n",
    "    0 \\\\\n",
    "    0 \\\\\n",
    "    \\sqrt{\\frac{1 + e}{1 - e}}    \n",
    "\\end{bmatrix}\n",
    "$$"
   ]
  },
  {
   "cell_type": "markdown",
   "id": "f22276d7",
   "metadata": {
    "deletable": false,
    "editable": false,
    "nbgrader": {
     "cell_type": "markdown",
     "checksum": "22566e1ef5a7820cda9741d62ff3a383",
     "grade": false,
     "grade_id": "cell-721757435651594",
     "locked": true,
     "schema_version": 3,
     "solution": false
    }
   },
   "source": [
    "**(b)** (5) Write a function that computes the solution to the IVP from (b) given a provided set of time steps and eccentricity $e$ using a 2nd order Runge-Kutta method.  The function should only return the values of $x$ and $y$."
   ]
  },
  {
   "cell_type": "code",
   "execution_count": 4,
   "id": "70f02df3",
   "metadata": {
    "deletable": false,
    "nbgrader": {
     "cell_type": "code",
     "checksum": "a840f61fdd0688b56bef3764a97452b6",
     "grade": false,
     "grade_id": "cell-2683204586385702",
     "locked": false,
     "schema_version": 3,
     "solution": true
    }
   },
   "outputs": [],
   "source": [
    "def solve_orbit_RK2(t, e):\n",
    "    # YOUR CODE HERE\n",
    "    # raise NotImplementedError()\n",
    "\n",
    "    def f(u):\n",
    "      r = numpy.sqrt(u[0]**2 + u[2]**2)\n",
    "      return numpy.array([u[1], -1 * u[0] / r**3, u[3], -1 * u[2] / r**3])\n",
    "\n",
    "    delta_t = t[1] - t[0]\n",
    "    u_2 = numpy.empty((t.shape[0], 4))\n",
    "    u_2[0, :] = [1 - e, 0, 0, numpy.sqrt((1 + e) / (1 - e))]\n",
    "\n",
    "    for (n, t_n) in enumerate(t[1:]):\n",
    "      u_2[n + 1, :] = u_2[n, :] + 0.5 * delta_t * f(u_2[n, :])\n",
    "      u_2[n + 1, :] = u_2[n, :] + delta_t * f(u_2[n+1, :])\n",
    "\n",
    "    x = u_2[:, 0]\n",
    "    y = u_2[:, 2]\n",
    "\n",
    "    return x, y"
   ]
  },
  {
   "cell_type": "code",
   "execution_count": 5,
   "id": "a900a761",
   "metadata": {
    "deletable": false,
    "editable": false,
    "nbgrader": {
     "cell_type": "code",
     "checksum": "b807b00ab0a269b2b2df2d14fe824d9b",
     "grade": true,
     "grade_id": "cell-7600778884512818",
     "locked": true,
     "points": 5,
     "schema_version": 3,
     "solution": false
    }
   },
   "outputs": [
    {
     "name": "stdout",
     "output_type": "stream",
     "text": [
      "Solutions remained bounded for testing interval.\n"
     ]
    }
   ],
   "source": [
    "# Testing to make sure that the solution remains bounded in the testing interval\n",
    "x, y = solve_orbit_RK2(numpy.linspace(0.0, 10.0, 1000), 0.9)\n",
    "assert(numpy.all(numpy.abs(x) < 10.0))\n",
    "assert(numpy.all(numpy.abs(y) < 10.0))\n",
    "print(\"Solutions remained bounded for testing interval.\")"
   ]
  },
  {
   "cell_type": "markdown",
   "id": "b52edbf0",
   "metadata": {
    "deletable": false,
    "editable": false,
    "nbgrader": {
     "cell_type": "markdown",
     "checksum": "cbecadd018328f6218ce0cccba9ebcd7",
     "grade": false,
     "grade_id": "cell-352761391390803",
     "locked": true,
     "schema_version": 3,
     "solution": false
    }
   },
   "source": [
    "**(c)** (5) Plot the trajectory of the orbiting particle parametrically given $e = 0.9$ and times between $t = [0, 100]$."
   ]
  },
  {
   "cell_type": "code",
   "execution_count": 6,
   "id": "07f95fe6",
   "metadata": {
    "deletable": false,
    "nbgrader": {
     "cell_type": "code",
     "checksum": "be1cdf07c953c8677816f6403751b612",
     "grade": true,
     "grade_id": "cell-6424049933596646",
     "locked": false,
     "points": 5,
     "schema_version": 3,
     "solution": true
    }
   },
   "outputs": [
    {
     "data": {
      "image/png": "[encoded data removed]",
      "text/plain": [
       "<Figure size 432x288 with 1 Axes>"
      ]
     },
     "metadata": {
      "needs_background": "light"
     },
     "output_type": "display_data"
    }
   ],
   "source": [
    "t = numpy.linspace(0.0, 10.0, 1000)\n",
    "e = 0.9\n",
    "# YOUR CODE HERE\n",
    "\n",
    "x, y = solve_orbit_RK2(t, e)\n",
    "plt.plot(x, y)\n",
    "plt.plot(x[0], y[0], \"yo\", label=\"Initial Point\")\n",
    "plt.legend()\n",
    "plt.xlabel(\"X\")\n",
    "plt.ylabel(\"Y\")\n",
    "plt.title(\"Trajectory of Particle with e = 0.9\")\n",
    "plt.show()\n",
    "\n",
    "# raise NotImplementedError()"
   ]
  },
  {
   "cell_type": "markdown",
   "id": "24ba47d3",
   "metadata": {
    "deletable": false,
    "editable": false,
    "nbgrader": {
     "cell_type": "markdown",
     "checksum": "1fefe331a66f9a0a24c2d23b51322dde",
     "grade": false,
     "grade_id": "cell-2047079622555095",
     "locked": true,
     "schema_version": 3,
     "solution": false
    }
   },
   "source": [
    "## Question 4 - Absolute Stability Regions and Order Stars"
   ]
  },
  {
   "cell_type": "markdown",
   "id": "6c794728",
   "metadata": {
    "deletable": false,
    "editable": false,
    "nbgrader": {
     "cell_type": "markdown",
     "checksum": "9e652359f156e410a8145441acc6dfed",
     "grade": false,
     "grade_id": "cell-5920515712744019",
     "locked": true,
     "schema_version": 3,
     "solution": false
    }
   },
   "source": [
    "**(a)** (15) Plot the regions of absolute stability for the following:\n",
    "1. Taylor Series methods of order 2 to 5,\n",
    "1. 3-step and 4-step Adams-Basforth methods, and\n",
    "1. 3-step and 4-step Adams-Moulton methods.\n",
    "\n",
    "For the Taylor series methods also determine the interior and exterior of the stability regions."
   ]
  },
  {
   "cell_type": "code",
   "execution_count": 7,
   "id": "f43a3366",
   "metadata": {
    "deletable": false,
    "nbgrader": {
     "cell_type": "code",
     "checksum": "8ee8d1bc543d97ced0e37dbe4994159c",
     "grade": true,
     "grade_id": "cell-5969906060668205",
     "locked": false,
     "points": 15,
     "schema_version": 3,
     "solution": true
    }
   },
   "outputs": [
    {
     "name": "stdout",
     "output_type": "stream",
     "text": [
      "The interior value of the Taylor Series of Order 2 is 0.5\n",
      "The exterior value of the Taylor Series of Order 2 is 5.0\n",
      "The interior value of the Taylor Series of Order 3 is 0.33333333333333337\n",
      "The exterior value of the Taylor Series of Order 3 is 5.666666666666666\n",
      "The interior value of the Taylor Series of Order 4 is 0.37500000000000006\n",
      "The exterior value of the Taylor Series of Order 4 is 5.0\n",
      "The interior value of the Taylor Series of Order 5 is 0.3666666666666667\n",
      "The exterior value of the Taylor Series of Order 5 is 3.533333333333333\n"
     ]
    },
    {
     "data": {
      "image/png": "[encoded data removed]",
      "text/plain": [
       "<Figure size 864x576 with 4 Axes>"
      ]
     },
     "metadata": {
      "needs_background": "light"
     },
     "output_type": "display_data"
    },
    {
     "data": {
      "image/png": "[encoded data removed]",
      "text/plain": [
       "<Figure size 864x576 with 2 Axes>"
      ]
     },
     "metadata": {
      "needs_background": "light"
     },
     "output_type": "display_data"
    },
    {
     "data": {
      "image/png": "[encoded data removed]",
      "text/plain": [
       "<Figure size 864x576 with 2 Axes>"
      ]
     },
     "metadata": {
      "needs_background": "light"
     },
     "output_type": "display_data"
    }
   ],
   "source": [
    "from ast import Yield\n",
    "# YOUR CODE HERE\n",
    "\n",
    "# NUMBER 1 -- Taylor Series for order 2-5\n",
    "\n",
    "x = numpy.linspace(-5, 5, 100)\n",
    "y = numpy.linspace(-5, 5, 100)\n",
    "\n",
    "X, Y = numpy.meshgrid(x, y)\n",
    "Z = X + 1j * Y\n",
    "\n",
    "tay2 = lambda z: 1 + z + (z ** 2)/2\n",
    "tay3 = lambda z: 1 + z + (z ** 2)/2 + (z**3)/6\n",
    "tay4 = lambda z: 1 + z + (z ** 2)/2 + (z**3)/6 + (z**4)/24\n",
    "tay5 = lambda z: 1 + z + (z ** 2)/2 + (z**3)/6 + (z**4)/24 + (z**5)/120\n",
    "\n",
    "fig = plt.figure()\n",
    "fig.set_figwidth(fig.get_figwidth() * 2.0)\n",
    "fig.set_figheight(fig.get_figheight() * 2.0)\n",
    "\n",
    "axes = fig.add_subplot(2, 2, 1)\n",
    "axes.contour(X, Y, numpy.abs(tay2(Z)), levels=[1])\n",
    "axes.grid()\n",
    "axes.set_xlabel(\"X\")\n",
    "axes.set_ylabel(\"Y\")\n",
    "axes.set_title(\"Absolute Stability Region for Taylor Series Order 2\")\n",
    "\n",
    "print(\"The interior value of the Taylor Series of Order 2 is\", numpy.abs(tay2(-1 + 1j * 0)))\n",
    "print(\"The exterior value of the Taylor Series of Order 2 is\", numpy.abs(tay2(-4 + 1j * 0)))\n",
    "\n",
    "axes = fig.add_subplot(2, 2, 2)\n",
    "axes.contour(X, Y, numpy.abs(tay3(Z)), levels=[1])\n",
    "axes.grid()\n",
    "axes.set_xlabel(\"X\")\n",
    "axes.set_ylabel(\"Y\")\n",
    "axes.set_title(\"Absolute Stability Region for Taylor Series Order 3\")\n",
    "\n",
    "print(\"The interior value of the Taylor Series of Order 3 is\", numpy.abs(tay3(-1 + 1j * 0)))\n",
    "print(\"The exterior value of the Taylor Series of Order 3 is\", numpy.abs(tay3(-4 + 1j * 0)))\n",
    "\n",
    "axes = fig.add_subplot(2, 2, 3)\n",
    "axes.contour(X, Y, numpy.abs(tay4(Z)), levels=[1])\n",
    "axes.grid()\n",
    "axes.set_xlabel(\"X\")\n",
    "axes.set_ylabel(\"Y\")\n",
    "axes.set_title(\"Absolute Stability Region for Taylor Series Order 4\")\n",
    "\n",
    "print(\"The interior value of the Taylor Series of Order 4 is\", numpy.abs(tay4(-1 + 1j * 0)))\n",
    "print(\"The exterior value of the Taylor Series of Order 4 is\", numpy.abs(tay4(-4 + 1j * 0)))\n",
    "\n",
    "axes = fig.add_subplot(2, 2, 4)\n",
    "axes.contour(X, Y, numpy.abs(tay5(Z)), levels=[1])\n",
    "axes.grid()\n",
    "axes.set_xlabel(\"X\")\n",
    "axes.set_ylabel(\"Y\")\n",
    "axes.set_title(\"Absolute Stability Region for Taylor Series Order 5\")\n",
    "\n",
    "print(\"The interior value of the Taylor Series of Order 5 is\", numpy.abs(tay5(-1 + 1j * 0)))\n",
    "print(\"The exterior value of the Taylor Series of Order 5 is\", numpy.abs(tay5(-4 + 1j * 0)))\n",
    "\n",
    "# NUMBER 2 -- 3 and 4 step Adam-Bashforth Method\n",
    "\n",
    "theta = numpy.linspace(0.0, 2.0 * numpy.pi, 1000)\n",
    "xi = numpy.exp(1j * theta)\n",
    "\n",
    "# 3 Steps\n",
    "rho_3AB = lambda xi: (xi - 1) * xi**2\n",
    "sigma_3AB = lambda xi: ((23 * xi - 16) * xi + 5) / 12\n",
    "z_3AB = lambda xi: rho_3AB(xi) / sigma_3AB(xi) \n",
    "\n",
    "# 4 Steps\n",
    "rho_4AB = lambda xi: (xi - 1) * xi**3\n",
    "sigma_4AB = lambda xi: (((55 * xi - 59) * xi + 37) * xi - 9) / 24\n",
    "z_4AB = lambda xi: rho_4AB(xi) / sigma_4AB(xi)\n",
    "\n",
    "fig = plt.figure()\n",
    "fig.set_figwidth(fig.get_figwidth() * 2.0)\n",
    "fig.set_figheight(fig.get_figheight() * 2.0)\n",
    "\n",
    "axes = fig.add_subplot(1, 2, 1)\n",
    "axes.plot(z_3AB(xi).real, z_3AB(xi).imag, 'k')\n",
    "axes.set_title(\"3-step Adams-Bashforth\")\n",
    "axes.grid()\n",
    "axes.set_xlim([-1, 1])\n",
    "axes.set_ylim([-1, 1])\n",
    "\n",
    "axes = fig.add_subplot(1, 2, 2)\n",
    "axes.plot(z_4AB(xi).real, z_4AB(xi).imag, 'k')\n",
    "axes.set_title(\"4-step Adams-Bashforth\")\n",
    "axes.grid()\n",
    "axes.set_xlim([-1, 1])\n",
    "axes.set_ylim([-1, 1])\n",
    "plt.show()\n",
    "\n",
    "# NUMBER 3 -- 3 and 4 step Adam-Moulton Method\n",
    "theta = numpy.linspace(0.0, 2.0 * numpy.pi, 1000)\n",
    "xi = numpy.exp(1j * theta)\n",
    "\n",
    "# 3 steps\n",
    "rho_3AM = lambda xi: (xi - 1) * xi**2\n",
    "sigma_3AM = lambda xi: (((9 * xi + 19) * xi - 5) * xi + 1) / 24\n",
    "z_3AM = lambda xi: rho_3AM(xi) / sigma_3AM(xi) \n",
    "\n",
    "# 4 steps\n",
    "rho_4AM = lambda xi: (xi - 1) * xi**3\n",
    "sigma_4AM = lambda xi: ((((251 * xi + 646) * xi - 264) * xi + 106) - 19) * xi / 720\n",
    "z_4AM = lambda xi: rho_4AM(xi) / sigma_4AM(xi)\n",
    "\n",
    "fig = plt.figure()\n",
    "fig.set_figwidth(fig.get_figwidth() * 2.0)\n",
    "fig.set_figheight(fig.get_figheight() * 2.0)\n",
    "\n",
    "axes = fig.add_subplot(1, 2, 1)\n",
    "axes.plot(z_3AM(xi).real, z_3AM(xi).imag, 'k')\n",
    "axes.set_title(\"3-step Adams-Moulton\")\n",
    "axes.set_xlim([-4, 1])\n",
    "axes.set_ylim([-3, 3])\n",
    "axes.grid()\n",
    "\n",
    "axes = fig.add_subplot(1, 2, 2)\n",
    "axes.plot(z_4AM(xi).real, z_4AM(xi).imag, 'k')\n",
    "axes.set_title(\"4-step Adams-Moulton\")\n",
    "axes.set_xlim([-4, 1])\n",
    "axes.set_ylim([-3, 3])\n",
    "axes.grid()\n",
    "plt.show()\n",
    "\n",
    "# raise NotImplementedError()"
   ]
  },
  {
   "cell_type": "markdown",
   "id": "05bfaf46",
   "metadata": {
    "deletable": false,
    "editable": false,
    "nbgrader": {
     "cell_type": "markdown",
     "checksum": "33ca38104b9d508dc9d1a355ec361af6",
     "grade": false,
     "grade_id": "cell-8157364478112189",
     "locked": true,
     "schema_version": 3,
     "solution": false
    }
   },
   "source": [
    "**(b)** (15) The region of absolute stability as defined ensures that the error does not grow in subsequent time-steps hence why we require $|R(z)| < 1$.  In reality what we really want is that the errors decay faster than the solution or that it grows slower than the true solution.  Consider the solution of an ODE $u(t) = e^{\\lambda t}$, if $\\lambda < 0$ then we want our errors made at each time step $E^n$ to decay faster than $e^{\\lambda t}$ so that $|E^n| < e^{\\lambda t}$.  Conversely if $\\lambda > 0$ then we might also want $|E^n| < e^{\\lambda t}$.  This suggests a new definition of stability, called the **relative stability** defined as\n",
    "\n",
    "$$|R(z)| \\leq |e^z|.$$\n",
    "\n",
    "These turn out to be difficult to plot but proved pivotal due to work in 1978 by Wanner, Hairer and Nørset.  More recently a new set of regions, called **order stars**, have become more popular to consider.  These are defined as the three regions\n",
    "\n",
    "$$\\begin{aligned}\n",
    "    \\mathcal{A}_{-} &= \\{ z \\in \\mathbb{C}: |R(z)| < |e^z| \\} = \\{z \\in \\mathbb{C}: |e^{-z} R(z)| < 1\\}, \\\\ \n",
    "    \\mathcal{A}_{0} &= \\{ z \\in \\mathbb{C}: |R(z)| = |e^z| \\} = \\{z \\in \\mathbb{C}: |e^{-z} R(z)| = 1\\}, ~~~~\\text{and} \\\\\n",
    "    \\mathcal{A}_{+} &= \\{ z \\in \\mathbb{C}: |R(z)| > |e^z| \\} = \\{z \\in \\mathbb{C}: |e^{-z} R(z)| > 1\\}.\n",
    "\\end{aligned}$$\n",
    "\n",
    "Plot the region $\\mathcal{A}_{0}$ for the Taylor series methods asked for in part (a).  Do you see any relation to the number of \"fingers\" and the order of the method?"
   ]
  },
  {
   "cell_type": "code",
   "execution_count": 8,
   "id": "e1a7ac3c",
   "metadata": {
    "deletable": false,
    "nbgrader": {
     "cell_type": "code",
     "checksum": "96f98f4b3ccbb90f62816081a961ead3",
     "grade": true,
     "grade_id": "cell-8119043414458803",
     "locked": false,
     "points": 15,
     "schema_version": 3,
     "solution": true
    }
   },
   "outputs": [
    {
     "data": {
      "image/png": "[encoded data removed]",
      "text/plain": [
       "<Figure size 864x576 with 4 Axes>"
      ]
     },
     "metadata": {
      "needs_background": "light"
     },
     "output_type": "display_data"
    }
   ],
   "source": [
    "# YOUR CODE HERE\n",
    "\n",
    "x = numpy.linspace(-5, 5, 100)\n",
    "y = numpy.linspace(-5, 5, 100)\n",
    "\n",
    "X, Y = numpy.meshgrid(x, y)\n",
    "Z = X + 1j * Y\n",
    "\n",
    "tay2 = lambda z: 1 + z + (z ** 2)/2\n",
    "tay3 = lambda z: 1 + z + (z ** 2)/2 + (z**3)/6\n",
    "tay4 = lambda z: 1 + z + (z ** 2)/2 + (z**3)/6 + (z**4)/24\n",
    "tay5 = lambda z: 1 + z + (z ** 2)/2 + (z**3)/6 + (z**4)/24 + (z**5)/120\n",
    "\n",
    "fig = plt.figure()\n",
    "fig.set_figwidth(fig.get_figwidth() * 2.0)\n",
    "fig.set_figheight(fig.get_figheight() * 2.0)\n",
    "\n",
    "axes = fig.add_subplot(2, 2, 1)\n",
    "axes.contour(X, Y, numpy.abs(numpy.exp(-Z) * tay2(Z)), levels=[1])\n",
    "axes.grid()\n",
    "axes.set_xlabel(\"X\")\n",
    "axes.set_ylabel(\"Y\")\n",
    "axes.set_title(\"$A_0$ for Taylor Series Order 2\")\n",
    "\n",
    "axes = fig.add_subplot(2, 2, 2)\n",
    "axes.contour(X, Y, numpy.abs(numpy.exp(-Z) * tay3(Z)), levels=[1])\n",
    "axes.grid()\n",
    "axes.set_xlabel(\"X\")\n",
    "axes.set_ylabel(\"Y\")\n",
    "axes.set_title(\"$A_0$ for Taylor Series Order 3\")\n",
    "\n",
    "axes = fig.add_subplot(2, 2, 3)\n",
    "axes.contour(X, Y, numpy.abs(numpy.exp(-Z) * tay4(Z)), levels=[1])\n",
    "axes.grid()\n",
    "axes.set_xlabel(\"X\")\n",
    "axes.set_ylabel(\"Y\")\n",
    "axes.set_title(\"$A_0$ for Taylor Series Order 4\")\n",
    "\n",
    "axes = fig.add_subplot(2, 2, 4)\n",
    "axes.contour(X, Y, numpy.abs(numpy.exp(-Z) * tay5(Z)), levels=[1])\n",
    "axes.grid()\n",
    "axes.set_xlabel(\"X\")\n",
    "axes.set_ylabel(\"Y\")\n",
    "axes.set_title(\"$A_0$ for Taylor Series Order 5\")\n",
    "\n",
    "plt.show()\n",
    "# raise NotImplementedError()"
   ]
  },
  {
   "cell_type": "markdown",
   "id": "f6ae2d6a",
   "metadata": {},
   "source": [
    "The number of \"fingers\" is equal to the order of the Taylor Series method, which can be easily seen in the plots above."
   ]
  },
  {
   "cell_type": "markdown",
   "id": "498650b5",
   "metadata": {
    "deletable": false,
    "editable": false,
    "nbgrader": {
     "cell_type": "markdown",
     "checksum": "4d3895aac6fd90b9ebf2090c242750c6",
     "grade": false,
     "grade_id": "cell-2386763817338870",
     "locked": true,
     "schema_version": 3,
     "solution": false
    }
   },
   "source": [
    "## Question 5 - SciPy Integrate\n",
    "\n",
    "Consider the decay process\n",
    "$$\n",
    "    A \\overset{K_1}{\\rightarrow} B \\overset{K_2}{\\rightarrow} C \\overset{K_3}{\\rightarrow} D\n",
    "$$\n",
    "represented by the system of ODEs\n",
    "\\begin{align*}\n",
    "    \\frac{\\text{d}A}{\\text{d}t} &= -K_1 A \\\\\n",
    "    \\frac{\\text{d}B}{\\text{d}t} &= K_1 A - K_2 B \\\\\n",
    "    \\frac{\\text{d}C}{\\text{d}t} &= K_2 B - K_3 C \\\\\n",
    "    \\frac{\\text{d}D}{\\text{d}t} &= K_3 C \\\\\n",
    "\\end{align*}"
   ]
  },
  {
   "cell_type": "markdown",
   "id": "bb4b55e2",
   "metadata": {
    "deletable": false,
    "editable": false,
    "nbgrader": {
     "cell_type": "markdown",
     "checksum": "bb2abd2edc85f2e6ee047e5aa4ddb887",
     "grade": false,
     "grade_id": "cell-6187930280096695",
     "locked": true,
     "schema_version": 3,
     "solution": false
    }
   },
   "source": [
    "**(a)** (10) Write a function that uses `scipy.integrate` to compute the solution to the system of ODEs given an initial condition and time points to output at.  This function should take in the time points for the output, an initial condition, the ODE integrator to use (default to \"dopri5\"), and the reaction rates $K_1$, $K_2$, and $K_3$."
   ]
  },
  {
   "cell_type": "code",
   "execution_count": 9,
   "id": "281a50af",
   "metadata": {
    "deletable": false,
    "nbgrader": {
     "cell_type": "code",
     "checksum": "b8c5f298ed393024cff236536755123a",
     "grade": false,
     "grade_id": "cell-1589080119392644",
     "locked": false,
     "schema_version": 3,
     "solution": true
    }
   },
   "outputs": [],
   "source": [
    "import scipy.integrate as integrate\n",
    "\n",
    "def solve_decay_system(t, u_0, solver_type=\"dopri5\", K_1=0.0, K_2=0.0, K_3=0.0):\n",
    "    # YOUR CODE HERE\n",
    "    # raise NotImplementedError()    \n",
    "\n",
    "    def f(t, u):\n",
    "      return numpy.array([-K_1*u[0], K_1*u[0]-K_2*u[1], K_2*u[1]-K_3*u[2], K_3*u[2]])\n",
    "\n",
    "    u = numpy.empty((numpy.size(t), 4))\n",
    "    u[0, :] = u_0\n",
    "\n",
    "    integrator = integrate.ode(f)\n",
    "    integrator.set_integrator(solver_type)\n",
    "    integrator.set_initial_value(u[0, :])\n",
    "    \n",
    "    for (n, t_n) in enumerate(t[1:]):\n",
    "        integrator.integrate(t_n)\n",
    "        if not integrator.successful():\n",
    "            break\n",
    "        u[n + 1, :] = integrator.y\n",
    "\n",
    "    U = u\n",
    "\n",
    "    return U"
   ]
  },
  {
   "cell_type": "code",
   "execution_count": 10,
   "id": "9127a384",
   "metadata": {
    "deletable": false,
    "editable": false,
    "nbgrader": {
     "cell_type": "code",
     "checksum": "5a1872e604005c0792d8ece2671ccc7f",
     "grade": true,
     "grade_id": "cell-6920158174656976",
     "locked": true,
     "points": 10,
     "schema_version": 3,
     "solution": false
    }
   },
   "outputs": [
    {
     "name": "stdout",
     "output_type": "stream",
     "text": [
      "Success!\n"
     ]
    }
   ],
   "source": [
    "t = numpy.linspace(0.0, 10.0, 10)\n",
    "u_0 = numpy.array([1.0, 0.0, 0.0, 0.0])\n",
    "U = solve_decay_system(t, u_0, solver_type='dopri5', K_1=1.0, K_2=2.0, K_3=3.0)\n",
    "U_sol = numpy.array([[1.0000000000000000e+00, 0.0000000000000000e+00,\n",
    "                      0.0000000000000000e+00, 0.0000000000000000e+00],\n",
    "                     [3.2919298826277271e-01, 2.2082495381343401e-01,\n",
    "                      1.4813096181267352e-01, 3.0185109611111993e-01],\n",
    "                     [1.0836802654276900e-01, 9.6624368667878130e-02,\n",
    "                      8.6153390524786266e-02, 7.0885421426456674e-01],\n",
    "                     [3.5673996630001523e-02, 3.4401353001617396e-02,\n",
    "                      3.3174114479337484e-02, 8.9675053588904374e-01],\n",
    "                     [1.1743631968628626e-02, 1.1605715517361529e-02,\n",
    "                      1.1469419325266718e-02, 9.6518123318874338e-01],\n",
    "                     [3.8659219913406520e-03, 3.8509760174843801e-03,\n",
    "                      3.8360878593115726e-03, 9.8844701413186375e-01],\n",
    "                     [1.2726346009991362e-03, 1.2710149139283067e-03,\n",
    "                      1.2693972897971615e-03, 9.9618695319527573e-01],\n",
    "                     [4.1894244902209761e-04, 4.1876692442412833e-04,\n",
    "                      4.1859147343448249e-04, 9.9874369915311978e-01],\n",
    "                     [1.3791293652887476e-04, 1.3789391503107924e-04,\n",
    "                      1.3787489615970831e-04, 9.9958631825228084e-01],\n",
    "                     [4.5399978275093905e-05, 4.5397916926305302e-05,\n",
    "                      4.5395855671230534e-05, 9.9986380624912774e-01]])\n",
    "numpy.testing.assert_allclose(U, U_sol)\n",
    "print(\"Success!\")"
   ]
  }
 ],
 "metadata": {
  "kernelspec": {
   "display_name": "Python 3",
   "language": "python",
   "name": "python3"
  },
  "language_info": {
   "codemirror_mode": {
    "name": "ipython",
    "version": 3
   },
   "file_extension": ".py",
   "mimetype": "text/x-python",
   "name": "python",
   "nbconvert_exporter": "python",
   "pygments_lexer": "ipython3",
   "version": "3.8.8"
  },
  "latex_envs": {
   "bibliofile": "biblio.bib",
   "cite_by": "apalike",
   "current_citInitial": 1,
   "eqLabelWithNumbers": true,
   "eqNumInitial": 0
  }
 },
 "nbformat": 4,
 "nbformat_minor": 5
}
