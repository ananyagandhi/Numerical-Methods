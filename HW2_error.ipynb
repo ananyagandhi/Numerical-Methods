{
 "cells": [
  {
   "cell_type": "code",
   "execution_count": 1,
   "metadata": {
    "deletable": false,
    "editable": false,
    "nbgrader": {
     "cell_type": "code",
     "checksum": "ffc23a35c206d401ae8124ed9e6fce75",
     "grade": false,
     "grade_id": "cell-7531378247537850",
     "locked": true,
     "schema_version": 3,
     "solution": false
    }
   },
   "outputs": [],
   "source": [
    "%matplotlib inline\n",
    "import numpy\n",
    "import matplotlib.pyplot as plt"
   ]
  },
  {
   "cell_type": "markdown",
   "metadata": {
    "deletable": false,
    "editable": false,
    "nbgrader": {
     "cell_type": "markdown",
     "checksum": "393f92de724a9fc8bc23bfa2bf04479a",
     "grade": false,
     "grade_id": "cell-1045934248403058",
     "locked": true,
     "schema_version": 3,
     "solution": false
    }
   },
   "source": [
    "Before you turn this problem in, make sure everything runs as expected. First, restart the kernel (in the menubar, select Kernel $\\rightarrow$ Restart) and then run all cells (in the menubar, select Cell $\\rightarrow$ Run All).\n",
    "\n",
    "Make sure you fill in any place that says YOUR CODE HERE or \"YOUR ANSWER HERE\", as well as your name and collaborators below:"
   ]
  },
  {
   "cell_type": "markdown",
   "metadata": {
    "deletable": false,
    "editable": false,
    "nbgrader": {
     "cell_type": "markdown",
     "checksum": "1c047f8ea8a1ba5cc6d067a906fc8242",
     "grade": false,
     "grade_id": "cell-1055125360070174",
     "locked": true,
     "schema_version": 3,
     "solution": false
    }
   },
   "source": [
    "# HW 2:  Forms of Error\n",
    "\n"
   ]
  },
  {
   "cell_type": "markdown",
   "metadata": {
    "deletable": false,
    "editable": false,
    "nbgrader": {
     "cell_type": "markdown",
     "checksum": "a3b3f2adc00cb58a9f74005bb84b21c6",
     "grade": false,
     "grade_id": "cell-2726284965293730",
     "locked": true,
     "schema_version": 3,
     "solution": false
    }
   },
   "source": [
    "## Question 1\n",
    "\n",
    "Consider the expression\n",
    "$$\n",
    "    f(x) = \\frac{1}{x - 1}\n",
    "$$"
   ]
  },
  {
   "cell_type": "markdown",
   "metadata": {
    "deletable": false,
    "editable": false,
    "nbgrader": {
     "cell_type": "markdown",
     "checksum": "fd8e18618a8fcc2d1b60a7eb5cd50d3f",
     "grade": false,
     "grade_id": "cell-4842217051547422",
     "locked": true,
     "schema_version": 3,
     "solution": false
    }
   },
   "source": [
    "**(a)** [10] Expand $f(x)$ in a Taylor series representation about $x_0 = 0$."
   ]
  },
  {
   "cell_type": "markdown",
   "metadata": {
    "deletable": false,
    "nbgrader": {
     "cell_type": "markdown",
     "checksum": "41c9cc51088dd1f0e96d702834da38c5",
     "grade": true,
     "grade_id": "cell-5812202303798243",
     "locked": false,
     "points": 10,
     "schema_version": 3,
     "solution": true
    }
   },
   "source": [
    "$ f(x) = \\frac{1}{x - 1}, f'(x) = \\frac{-1}{(x - 1)^2}, f''(x) = \\frac{2}{(x - 1)^3}, f'''(x) = \\frac{-6}{(x - 1)^4} $\n",
    "\n",
    "Generalized formula for $f^n (x)$\n",
    "$$f^n(x) = \\frac{(-1)^n (n!)}{(x - 1)^{n + 1}}$$\n",
    "\n",
    "Apply formula to Taylor Series Expansion\n",
    "$$ \n",
    "    f(x) = \\sum_{n = 0}^{\\infty} \\frac{f^n(x_0)}{n!} (x - x_0)^n \\\\\n",
    "    f(x) = \\sum_{n = 0}^{\\infty} \\frac{\\frac{(-1)^n (n!)}{(x_0 - 1)^{n + 1}}}{n!} (x - x_0)^n \\\\\n",
    "    f(x) = \\sum_{n = 0}^{\\infty} \\frac{(-1)^n (x - x_0)^n}{(x_0 - 1)^{n + 1}}\n",
    "$$\n",
    "\n",
    "Apply $x_0 = 0$\n",
    "$$ \n",
    "    f(x) = \\sum_{n = 0}^{\\infty} \\frac{(-1)^n x^n}{(-1)^{n + 1}} \\\\\n",
    "    f(x) = -\\sum_{n = 0}^{\\infty} x^n \\\\\n",
    "    T_N(x) = -\\sum_{n = 0}^{N} x^n\n",
    "$$"
   ]
  },
  {
   "cell_type": "markdown",
   "metadata": {
    "deletable": false,
    "editable": false,
    "nbgrader": {
     "cell_type": "markdown",
     "checksum": "0862420ba8dfc5753780172c51596857",
     "grade": false,
     "grade_id": "cell-7289929271577925",
     "locked": true,
     "schema_version": 3,
     "solution": false
    }
   },
   "source": [
    "**(b)** [5] What is the expected operation count if we truncate the series to $N$ terms?  Simplify the power to multiplications rather than something more exotic.  Stating the answer in terms of big-O notation is fine."
   ]
  },
  {
   "cell_type": "markdown",
   "metadata": {
    "deletable": false,
    "nbgrader": {
     "cell_type": "markdown",
     "checksum": "573bd26e00cb263e8e98cd518380f3bf",
     "grade": true,
     "grade_id": "cell-9783535558625426",
     "locked": false,
     "points": 5,
     "schema_version": 3,
     "solution": true
    }
   },
   "source": [
    "$$\n",
    "    T_N(x) = -\\sum_{n = 0}^{N} x^n \\\\\n",
    "    T_N(x) = -1 - x - x^2 - x^3 - ... - x^N \\\\\n",
    "    T_N(x) = -1 - x - (x \\cdot x) - (x \\cdot x \\cdot x) - ... (x \\cdot x \\cdot x ... \\cdot x)\n",
    "$$\n",
    "\n",
    "The standard method of computing this sum requires $O(\\frac{N^2}{2})$ operations. \n",
    "\n",
    "Comparatively, if we use Horner's Method, this sum can be factored and rewritten as:\n",
    "\n",
    "$$\n",
    "    T_N(x) = -1(1 + x(1 + x(1 + x(1 + x(...))))) \\\\\n",
    "$$\n",
    "\n",
    "For example, $T_4(x)$ would look like:\n",
    "$$\n",
    "    T_4(x) = -1(1 + x(1 + x(1 + x(1 + x))))\n",
    "$$\n",
    "\n",
    "Now, instead of $O(\\frac{N^2}{2})$ multiplications, computing the sum requires $O(N)$ multiplications, which is a significant improvement."
   ]
  },
  {
   "cell_type": "markdown",
   "metadata": {
    "deletable": false,
    "editable": false,
    "nbgrader": {
     "cell_type": "markdown",
     "checksum": "cb5d5424b84a28650220f726241a2197",
     "grade": false,
     "grade_id": "cell-9523873765967580",
     "locked": true,
     "schema_version": 3,
     "solution": false
    }
   },
   "source": [
    "**(c)** [15] Make two plots of the relative error of the approximation vs. the true value of the function.  In the first pick a value to evaluate both functions at keeping $x_0 \\neq x$ but vary the number of terms you keep ($N$).  In the second fix $N$ and vary $x$.  Explain what you observe.  "
   ]
  },
  {
   "cell_type": "code",
   "execution_count": 2,
   "metadata": {
    "deletable": false,
    "nbgrader": {
     "cell_type": "code",
     "checksum": "080fbd33a24e515a0d78b34dcfb4949e",
     "grade": true,
     "grade_id": "cell-2037273928324716",
     "locked": false,
     "points": 10,
     "schema_version": 3,
     "solution": true
    }
   },
   "outputs": [
    {
     "data": {
      "image/png": "[encoded data removed]",
      "text/plain": [
       "<Figure size 432x288 with 1 Axes>"
      ]
     },
     "metadata": {
      "needs_background": "light"
     },
     "output_type": "display_data"
    },
    {
     "name": "stderr",
     "output_type": "stream",
     "text": [
      "<ipython-input-2-423184890a0f>:53: RuntimeWarning: divide by zero encountered in double_scalars\n",
      "  trueval = [(1 / (x_0 - 1)) for x_0 in x]\n",
      "<ipython-input-2-423184890a0f>:24: RuntimeWarning: invalid value encountered in double_scalars\n",
      "  return abs(computed - actual)/abs(actual)\n"
     ]
    },
    {
     "data": {
      "image/png": "[encoded data removed]",
      "text/plain": [
       "<Figure size 432x288 with 1 Axes>"
      ]
     },
     "metadata": {
      "needs_background": "light"
     },
     "output_type": "display_data"
    }
   ],
   "source": [
    "# YOUR CODE HERE\n",
    "\n",
    "\"\"\" Plot #1 \n",
    "    Relative Error of the Approximation vs. True Value of the Function\n",
    "    Pick a value to evaluate both functions at, keeping x_0 \\neq x\n",
    "    Vary the number of terms N\n",
    "\"\"\"\n",
    "\n",
    "def taylor(N, x):\n",
    "\n",
    "  total_sum = -1\n",
    "  count = 1\n",
    "\n",
    "  while count <= N:\n",
    "    \n",
    "    total_sum = total_sum * x - 1\n",
    "    #total_sum -= x**count\n",
    "    count += 1\n",
    "\n",
    "  return total_sum\n",
    "\n",
    "def rel_error(computed, actual):\n",
    "\n",
    "  return abs(computed - actual)/abs(actual)\n",
    "\n",
    "x_0 = 0.1\n",
    "trueval = 1 / (x_0 - 1)\n",
    "\n",
    "N = numpy.linspace(1, 100, 101)\n",
    "T_N = [taylor(number, x_0) for number in N]\n",
    "error = [rel_error(computed, trueval) for computed in T_N]\n",
    "actual = [trueval]*len(N)\n",
    "\n",
    "#plt.plot(N, T_N, label=\"Taylor Approximation\")\n",
    "plt.plot(N, error, label=\"Relative Error\")\n",
    "#plt.plot(N, actual, label=\"Actual Value\")\n",
    "plt.xlabel(\"Number of Terms in Taylor Polynomial\")\n",
    "plt.ylabel(\"Value\")\n",
    "plt.title(\"Relative Error vs. Number of Terms\")\n",
    "\n",
    "plt.legend()\n",
    "plt.show()\n",
    "# raise NotImplementedError()\n",
    "\n",
    "\n",
    "\"\"\" Plot # 2\n",
    "    Fixed number of terms N\n",
    "    Value of x changing\n",
    "\"\"\"\n",
    "\n",
    "N = 5\n",
    "x = numpy.linspace(0, 1, 100)\n",
    "trueval = [(1 / (x_0 - 1)) for x_0 in x]\n",
    "T_N = [taylor(N, x_0) for x_0 in x]\n",
    "error = [rel_error(computed, actual) for (computed, actual) in zip(T_N, trueval)]\n",
    "\n",
    "#plt.plot(x, T_N, label= \"Taylor Approximation\")\n",
    "plt.plot(x, error, label= \"Relative Error\")\n",
    "#plt.plot(x, trueval, label=\"Actual Value\")\n",
    "\n",
    "plt.xlabel(\"x value\")\n",
    "plt.ylabel(\"Value\")\n",
    "plt.title(\"Relative Error vs. x\")\n",
    "\n",
    "plt.legend()\n",
    "plt.show()"
   ]
  },
  {
   "cell_type": "markdown",
   "metadata": {
    "deletable": false,
    "nbgrader": {
     "cell_type": "markdown",
     "checksum": "6caddaf02072c95fbda508eb65d52f3c",
     "grade": true,
     "grade_id": "cell-6881618690209186",
     "locked": false,
     "points": 5,
     "schema_version": 3,
     "solution": true
    }
   },
   "source": [
    "YOUR ANSWER HERE \n",
    "\n",
    "As seen in the first plot, the relative error decreases exponentially as the number of terms N increases. This behavior is expected, as the relative error should approach 0 as N approaches $\\infty$. \n",
    "\n",
    "In the second plot, for a fixed value of N = 10 and values of x ranging from 0 to 2, we see that the relative error is approximately 0 for values of x between 0 and 1, but increases exponentially for x > 1. The error increases drastically, as the Taylor Series approximation for x is only valid when $|x| < 1$."
   ]
  },
  {
   "cell_type": "markdown",
   "metadata": {
    "deletable": false,
    "editable": false,
    "nbgrader": {
     "cell_type": "markdown",
     "checksum": "3725fe126436831e65e1a5fbf40c7509",
     "grade": false,
     "grade_id": "cell-6980143175196213",
     "locked": true,
     "schema_version": 3,
     "solution": false
    }
   },
   "source": [
    "## Question 2\n",
    "\n",
    "**(a)** [5] Consider the following two equivalent sums:\n",
    "\n",
    "$$\n",
    "    \\sum^\\infty_{n=1} \\left [ \\frac{1}{n} - \\frac{1}{n+1} \\right ] = \\sum^\\infty_{n=1} \\frac{1}{n (n + 1)}\n",
    "$$\n",
    "\n",
    "Write two Python functions that compute each of these sums but to a finite number of terms $N$."
   ]
  },
  {
   "cell_type": "code",
   "execution_count": 3,
   "metadata": {
    "deletable": false,
    "nbgrader": {
     "cell_type": "code",
     "checksum": "ad12873909a015e7f252710079d98ae9",
     "grade": false,
     "grade_id": "cell-8697691190464640",
     "locked": false,
     "schema_version": 3,
     "solution": true
    }
   },
   "outputs": [],
   "source": [
    "def sum_1(N):\n",
    "    \"\"\"Compute the summation S_N defined as\n",
    "    \n",
    "    \\sum^N_{n=1} \\left [ \\frac{1}{n} - \\frac{1}{n+1} \\right ]\n",
    "    \n",
    "    :Input:\n",
    "     *N* (int) The upper bound on the summation.\n",
    "    \n",
    "    Returns Sn (float)\n",
    "    \"\"\"\n",
    "\n",
    "    # YOUR CODE HERE\n",
    "    \n",
    "    Sn = 0\n",
    "    n = 1\n",
    "    \n",
    "    while n <= N:\n",
    "        \n",
    "        Sn += (1/n) - (1/(n + 1))\n",
    "        n += 1\n",
    "\n",
    "    return Sn\n",
    "\n",
    "\n",
    "def sum_2(N):\n",
    "    \"\"\"Compute the summation S_N defined as\n",
    "    \n",
    "    \\sum^N_{n=1} \\frac{1}{n (n + 1)}\n",
    "    \n",
    "    :Input:\n",
    "     *N* (int) The upper bound on the summation.\n",
    "    \n",
    "    Returns Sn (float)\n",
    "    \"\"\"\n",
    "\n",
    "    # YOUR CODE HERE\n",
    "    \n",
    "    Sn = 0\n",
    "    n = 1\n",
    "    \n",
    "    while n <= N:\n",
    "        \n",
    "        Sn += 1/(n*(n + 1))\n",
    "        n += 1\n",
    "    \n",
    "    return Sn"
   ]
  },
  {
   "cell_type": "code",
   "execution_count": 4,
   "metadata": {
    "deletable": false,
    "editable": false,
    "nbgrader": {
     "cell_type": "code",
     "checksum": "417c4193bce636c3601d43a348184a57",
     "grade": true,
     "grade_id": "cell-4193597021505884",
     "locked": true,
     "points": 5,
     "schema_version": 3,
     "solution": false
    }
   },
   "outputs": [
    {
     "name": "stdout",
     "output_type": "stream",
     "text": [
      "Success!\n"
     ]
    }
   ],
   "source": [
    "for N in range(5, 21, 5):\n",
    "    numpy.testing.assert_allclose(sum_1(N), sum_2(N))\n",
    "print(\"Success!\")"
   ]
  },
  {
   "cell_type": "markdown",
   "metadata": {
    "deletable": false,
    "editable": false,
    "nbgrader": {
     "cell_type": "markdown",
     "checksum": "935f929039416b298b01866a5a9a4d44",
     "grade": false,
     "grade_id": "cell-9110689736182158",
     "locked": true,
     "schema_version": 3,
     "solution": false
    }
   },
   "source": [
    "**(b)** [5] Compute the absolute error between the two summation approaches."
   ]
  },
  {
   "cell_type": "code",
   "execution_count": 5,
   "metadata": {
    "deletable": false,
    "nbgrader": {
     "cell_type": "code",
     "checksum": "ff4d60c2d5415a56c79e9a18e7e7b1f1",
     "grade": false,
     "grade_id": "cell-2728436851289605",
     "locked": false,
     "schema_version": 3,
     "solution": true
    }
   },
   "outputs": [],
   "source": [
    "def abs_error(N):\n",
    "    \"\"\"Compute the absolute error of the two sums defined as\n",
    "    \n",
    "    \\sum^N_{n=1} \\left [ \\frac{1}{n} - \\frac{1}{n+1} \\right ]\n",
    "    \n",
    "    and \n",
    "    \n",
    "    \\sum^N_{n=1} \\frac{1}{n (n + 1)}\n",
    "    \n",
    "    respectively for the given N.\n",
    "    \n",
    "    :Input:\n",
    "     *N* (int) The upper bound on the summation.\n",
    "    \n",
    "    Returns *error* (float)\n",
    "    \"\"\"\n",
    "    \n",
    "    # YOUR CODE HERE\n",
    "    # raise NotImplementedError()\n",
    "    \n",
    "    return abs(sum_1(N) - sum_2(N))"
   ]
  },
  {
   "cell_type": "code",
   "execution_count": 6,
   "metadata": {
    "deletable": false,
    "editable": false,
    "nbgrader": {
     "cell_type": "code",
     "checksum": "099597f788426a72f262445ad832bdeb",
     "grade": true,
     "grade_id": "cell-8085566637096152",
     "locked": true,
     "points": 5,
     "schema_version": 3,
     "solution": false
    }
   },
   "outputs": [
    {
     "name": "stdout",
     "output_type": "stream",
     "text": [
      "Success!\n"
     ]
    }
   ],
   "source": [
    "N = numpy.logspace(1, 7, 7, dtype=int)\n",
    "answer = numpy.zeros(N.shape)\n",
    "for (n, upper_bound) in enumerate(N):\n",
    "    answer[n] = abs_error(upper_bound)\n",
    "numpy.testing.assert_allclose(answer, numpy.zeros(answer.shape), atol=1e-10)\n",
    "print(\"Success!\")"
   ]
  },
  {
   "cell_type": "markdown",
   "metadata": {
    "deletable": false,
    "editable": false,
    "nbgrader": {
     "cell_type": "markdown",
     "checksum": "e594713f5c58a4e401858330c3f301c4",
     "grade": false,
     "grade_id": "cell-8453647864370181",
     "locked": true,
     "schema_version": 3,
     "solution": false
    }
   },
   "source": [
    "**(c)** [10] Plot the relative and absolute error versus $N$ up to large $N$ (above at least $10^4$).  Also plot a line where $\\epsilon_{\\text{machine}}$ should be.  Comment on what you see."
   ]
  },
  {
   "cell_type": "code",
   "execution_count": 7,
   "metadata": {
    "deletable": false,
    "nbgrader": {
     "cell_type": "code",
     "checksum": "828d4b32491c276fb4aacafb6c89f1ee",
     "grade": true,
     "grade_id": "cell-5088322155772002",
     "locked": false,
     "points": 10,
     "schema_version": 3,
     "solution": true
    }
   },
   "outputs": [
    {
     "data": {
      "image/png": "[encoded data removed]",
      "text/plain": [
       "<Figure size 864x288 with 1 Axes>"
      ]
     },
     "metadata": {
      "needs_background": "light"
     },
     "output_type": "display_data"
    }
   ],
   "source": [
    "fig = plt.figure()\n",
    "fig.set_figwidth(fig.get_figwidth() * 2)\n",
    "\n",
    "# HINT!  Use the plotting function semilogx to plot the errors\n",
    "#        Also, do not forget to label your plot\n",
    "\n",
    "# YOUR CODE HERE\n",
    "\n",
    "N = numpy.logspace(1, 7, 7, dtype=int)\n",
    "abs_err = [abs_error(n) for n in N]\n",
    "rel_err = [err/sum_1(n) for (err, n) in zip(abs_err, N)]\n",
    "epsilon = [numpy.finfo(float).eps for n in N]\n",
    "\n",
    "plt.semilogx(N, abs_err, label=\"Absolute Error\", color=\"red\", linewidth=\"3\")\n",
    "plt.semilogx(N, rel_err, label=\"Relative Error\")\n",
    "plt.semilogx(N, epsilon, label=\"Machine Epsilon\")\n",
    "plt.legend()\n",
    "plt.grid()\n",
    "\n",
    "# raise NotImplementedError()\n",
    "plt.show()"
   ]
  },
  {
   "cell_type": "markdown",
   "metadata": {
    "deletable": false,
    "editable": false,
    "nbgrader": {
     "cell_type": "markdown",
     "checksum": "2d109baa3e03345c0a605226e8feb891",
     "grade": false,
     "grade_id": "cell-6654906620112742",
     "locked": true,
     "schema_version": 3,
     "solution": false
    }
   },
   "source": [
    "**(d)** [5] Theorize what may have lead to the differences in answers."
   ]
  },
  {
   "cell_type": "markdown",
   "metadata": {
    "deletable": false,
    "nbgrader": {
     "cell_type": "markdown",
     "checksum": "9a8cd0061bb95b6cd5d7e1328fc68281",
     "grade": true,
     "grade_id": "cell-8407703834073311",
     "locked": false,
     "points": 5,
     "schema_version": 3,
     "solution": true
    }
   },
   "source": [
    "Error may exist between the two summation approaches due to floating point error. In the LHS, there are 4 operations each with their own floating point error (division of $\\frac{1}{n}$, addition of $n + 1$, division of $\\frac{1}{n + 1}$ and then subtraction of $\\frac{1}{n} - \\frac{1}{n + 1}$) where as the other summation on the RHS has 3 operations (addition of $n + 1$, multiplication of $n(n + 1)$ and then division of $\\frac{1}{n(n + 1)}$). These differences may lead to errors between the two sums, especially as the number of terms increases, these errors compound as well. "
   ]
  },
  {
   "cell_type": "markdown",
   "metadata": {
    "deletable": false,
    "editable": false,
    "nbgrader": {
     "cell_type": "markdown",
     "checksum": "c1439ff58529b630b3a4383b0854b90d",
     "grade": false,
     "grade_id": "cell-5632471080286207",
     "locked": true,
     "schema_version": 3,
     "solution": false
    }
   },
   "source": [
    "## Question 3\n",
    "\n",
    "Following our discussion in lecture regarding approximating $e^x$ again consider the Taylor polynomial approximation:\n",
    "\n",
    "$$e^x \\approx T_n(x) = 1 + x + \\frac{x^2}{2!} + \\frac{x^3}{3!} + \\cdots + \\frac{x^n}{n!}$$"
   ]
  },
  {
   "cell_type": "markdown",
   "metadata": {
    "deletable": false,
    "editable": false,
    "nbgrader": {
     "cell_type": "markdown",
     "checksum": "a23337b3cdc51fce85e438ea1e80337b",
     "grade": false,
     "grade_id": "cell-8186992197557199",
     "locked": true,
     "schema_version": 3,
     "solution": false
    }
   },
   "source": [
    "**(a)** [10] Derive the upper bound on the *relative error* $r_n$ assuming that $0 < x$ and\n",
    "\n",
    "$$r_n = \\frac{|e^x - T_n(x)|}{|e^x|}$$\n",
    "\n",
    "is given by\n",
    "\n",
    "$$r_n \\leq \\left | \\frac{x^{n+1}}{(n + 1)!} \\right |$$"
   ]
  },
  {
   "cell_type": "markdown",
   "metadata": {
    "deletable": false,
    "nbgrader": {
     "cell_type": "markdown",
     "checksum": "665bc5076e8e0e0222b9c1298162ac13",
     "grade": true,
     "grade_id": "cell-2747685663052674",
     "locked": false,
     "points": 10,
     "schema_version": 3,
     "solution": true
    }
   },
   "source": [
    "YOUR ANSWER HERE\n",
    "\n",
    "$R_n(x)$ is the residual term where:\n",
    "\n",
    "$$ \n",
    "    e^x = T_n(x) + R_n(x) \\\\\n",
    "    R_n(x) = e^x - T_n(x) \\\\\n",
    "    R_n(x) = \\frac{f^{n + 1}(c)(x - x_0)^{n + 1}}{(n + 1)!} \n",
    "$$\n",
    "\n",
    "The relative error is defined as:\n",
    "\n",
    "$$\n",
    "    r_n(x) = \\frac{|e^x - T_n(x)|}{|e^x|} \\\\\n",
    "    r_n(x) = \\frac{|R_n(x)|}{|e^x|} \\\\\n",
    "    r_n(x) = \\frac{\\frac{f^{n + 1}(c)(x - x_0)^{n + 1}}{(n + 1)!}}{|e^x|} \\\\\n",
    "    r_n(x) = \\frac{f^{n + 1}(c)(x - x_0)^{n + 1}}{(n + 1)!|e^x|} \n",
    "$$\n",
    "\n",
    "By our initial definition of the Taylor polynomial, we have $x_0 = 0$ which we can apply here:\n",
    "\n",
    "$$\n",
    "    r_n(x) = \\frac{f^{n + 1}(c)x^{n + 1}}{(n + 1)!|e^x|} \n",
    "$$\n",
    "\n",
    "Apply $f^{n + 1}(x) = e^x$ for all n\n",
    "\n",
    "$$\n",
    "    r_n(x) = \\frac{e^c x^{n + 1}}{(n + 1)!|e^x|} \n",
    "$$\n",
    "\n",
    "Compare $r_n(x)$ with $R_n(x) = \\frac{e^c x^{n + 1}}{(n + 1)!}$. \n",
    "\n",
    "We know $R_n(x)$ is bounded by some value $M$ which is the upper bound on $\\frac{e^c}{(n + 1)!}$. \n",
    "\n",
    "We thus have:\n",
    "$$\n",
    "    r_n(x) = \\frac{e^c x^{n + 1}}{(n + 1)!|e^x|}  \\leq |\\frac{x^{n + 1}}{(n + 1)!}|\n",
    "$$"
   ]
  },
  {
   "cell_type": "markdown",
   "metadata": {
    "deletable": false,
    "editable": false,
    "nbgrader": {
     "cell_type": "markdown",
     "checksum": "c08c5aba0bf4027045b40cd8d1042fd4",
     "grade": false,
     "grade_id": "cell-4678254376542691",
     "locked": true,
     "schema_version": 3,
     "solution": false
    }
   },
   "source": [
    "**(b)** [10] Analytically show that for large $x$ and $n$, $r_n \\leq \\epsilon_{\\text{machine}}$ implies that we need at least $n > e \\cdot x$ terms in the series (where $e = \\text{exp}(1)$).\n",
    "\n",
    "*Hint* Use Stirling's approximation $log (n!) \\approx n~log~n - n$."
   ]
  },
  {
   "cell_type": "markdown",
   "metadata": {
    "deletable": false,
    "nbgrader": {
     "cell_type": "markdown",
     "checksum": "a8c46a136c32edd49359ec88e34e19fb",
     "grade": true,
     "grade_id": "cell-4305745011657702",
     "locked": false,
     "points": 10,
     "schema_version": 3,
     "solution": true
    }
   },
   "source": [
    "YOUR ANSWER HERE\n",
    "\n",
    "$$\n",
    "    r_n \\leq \\epsilon_{machine} \\\\\n",
    "    \\frac{x^{n+1}}{(n+1)!} \\leq \\epsilon_{machine} \\\\\n",
    "    x^{n+1} < (n+1)!\n",
    "$$\n",
    "\n",
    "If we take the log of both sides and apply Stirling's Approximation:\n",
    "\n",
    "$$\n",
    "    log(x^{n+1}) < log((n+1)!) \\\\ \n",
    "    (n + 1)log(x) < (n + 1)log(n + 1) - (n + 1) \\\\\n",
    "$$\n",
    "\n",
    "Divide both sides by $n + 1$\n",
    "\n",
    "$$\n",
    "    log(x) < log(n + 1) - 1 \\\\\n",
    "    log(x) + 1 < log(n + 1) \n",
    "$$\n",
    "\n",
    "Apply $log(e) = 1$ and $log(n + 1) \\approx log(n)$ for large n:\n",
    "\n",
    "$$\n",
    "    log(x) + log(e) < log(n) \\\\\n",
    "    log(e \\cdot x) < log(n) \\\\\n",
    "    n > e \\cdot x\n",
    "$$"
   ]
  },
  {
   "cell_type": "markdown",
   "metadata": {
    "deletable": false,
    "editable": false,
    "nbgrader": {
     "cell_type": "markdown",
     "checksum": "e5bb763654f1893d309466c7d63a89e6",
     "grade": false,
     "grade_id": "cell-8048500717179941",
     "locked": true,
     "schema_version": 3,
     "solution": false
    }
   },
   "source": [
    "**(c)** [10] Write a Python function that accurately computes $T_n$ to the specified relative error tolerance and returns both the estimate on the range and the number of terms in the series needed over the interval $[-2, 2]$.  Note that the testing tolerance will be $8 \\cdot \\epsilon_{\\text{machine}}$.\n",
    "\n",
    "Make sure to document your code including expected inputs, outputs, and assumptions being made."
   ]
  },
  {
   "cell_type": "code",
   "execution_count": 8,
   "metadata": {
    "deletable": false,
    "nbgrader": {
     "cell_type": "code",
     "checksum": "0237c5851235dfe7e32fd04c379b847f",
     "grade": false,
     "grade_id": "cell-5914967225034965",
     "locked": false,
     "schema_version": 3,
     "solution": true
    }
   },
   "outputs": [],
   "source": [
    "# HINT: Think about how we evaluated polynomials efficiently in class\n",
    "\n",
    "import scipy.misc as misc\n",
    "\n",
    "def Tn_exp(x, tolerance=1e-3):\n",
    "\n",
    "    MAX_N = 100\n",
    "    \n",
    "    # YOUR CODE HERE\n",
    "\n",
    "    N = 0\n",
    "    Tn = 0\n",
    "    Tapprox = 0\n",
    "\n",
    "    while N < MAX_N:\n",
    "      \n",
    "      Tapprox = numpy.ones(x.shape)      \n",
    "      counter = 0\n",
    "\n",
    "      while counter < N:\n",
    "\n",
    "        Tapprox *= x\n",
    "        \n",
    "        if (N - counter > 0):\n",
    "          Tapprox = Tapprox / (N - counter)\n",
    "\n",
    "        Tapprox += 1\n",
    "        counter += 1\n",
    "\n",
    "\n",
    "      rel_error = numpy.abs(Tapprox - numpy.exp(x)) / numpy.abs(numpy.exp(x))\n",
    "      if (numpy.all(rel_error < tolerance)):\n",
    "        Tn = Tapprox\n",
    "        break\n",
    "    \n",
    "      N += 1\n",
    "\n",
    "    # raise NotImplementedError()\n",
    "    \n",
    "    return Tn, N"
   ]
  },
  {
   "cell_type": "code",
   "execution_count": 9,
   "metadata": {
    "deletable": false,
    "editable": false,
    "nbgrader": {
     "cell_type": "code",
     "checksum": "6d993fb38ef99c1031cfe92f7a57aa42",
     "grade": true,
     "grade_id": "cell-9688375319882602",
     "locked": true,
     "points": 10,
     "schema_version": 3,
     "solution": false
    }
   },
   "outputs": [
    {
     "name": "stdout",
     "output_type": "stream",
     "text": [
      "Success!\n"
     ]
    }
   ],
   "source": [
    "x = numpy.linspace(-2, 2, 100)\n",
    "tolerance = 8.0 * numpy.finfo(float).eps\n",
    "answer, N = Tn_exp(x, tolerance=tolerance)\n",
    "assert(numpy.all(numpy.abs(answer - numpy.exp(x)) / numpy.abs(numpy.exp(x)) < tolerance))\n",
    "print(\"Success!\")"
   ]
  },
  {
   "cell_type": "markdown",
   "metadata": {
    "deletable": false,
    "editable": false,
    "nbgrader": {
     "cell_type": "markdown",
     "checksum": "a5cf3d3ff9267acab1292318e3b45513",
     "grade": false,
     "grade_id": "cell-6968179660613369",
     "locked": true,
     "schema_version": 3,
     "solution": false
    }
   },
   "source": [
    "## Question 4\n",
    "\n",
    "[5] Given the Taylor polynomial expansions\n",
    "\n",
    "$$\\frac{1}{1-\\Delta x} = 1 + \\Delta x + \\Delta x^2 + \\Delta x^3 + \\mathcal{O}(\\Delta x^4)$$\n",
    "\n",
    "and\n",
    "\n",
    "$$\\cosh \\Delta x = 1 + \\frac{\\Delta x^2}{2!} + \\frac{\\Delta x^4}{4!} + \\mathcal{O}(\\Delta x^6)$$\n",
    "\n",
    "determine the order of approximation for their sum and product (determine the exponent that belongs in the $\\mathcal{O}$).\n"
   ]
  },
  {
   "cell_type": "markdown",
   "metadata": {
    "deletable": false,
    "nbgrader": {
     "cell_type": "markdown",
     "checksum": "41db80ba6f3a35edaad0758800049870",
     "grade": true,
     "grade_id": "cell-8500724062567566",
     "locked": false,
     "points": 5,
     "schema_version": 3,
     "solution": true
    }
   },
   "source": [
    "For the sum and product of small values of x, like $\\Delta x$, the order of approximation is: \n",
    "$$ \n",
    "    f(\\Delta x) = \\frac{1}{1 - \\Delta x} = p(\\Delta x) + O(\\Delta x^4) \\\\\n",
    "    g(\\Delta x) = \\cosh(\\Delta x) = q(\\Delta x) + O(\\Delta x^6) \\\\\n",
    "    r = min(4, 6) = 4\n",
    "$$\n",
    "\n",
    "The order of approximation is 4 for both the sum and product. \n",
    "\n",
    "Both the sum and product operations have an order of $O(\\Delta x^4)$\n",
    "\n",
    "### Addition of functions:\n",
    "\n",
    "$\\frac{1}{1-\\Delta x} + \\cosh \\Delta x = (1 + \\Delta x + \\Delta x^2 + \\Delta x^3 + \\mathcal{O}(\\Delta x^4)) + (1 + \\frac{\\Delta x^2}{2!} + \\frac{\\Delta x^4}{4!} + \\mathcal{O}(\\Delta x^6))$\n",
    "\n",
    "$\\frac{1}{1-\\Delta x} + \\cosh \\Delta x = 2 + \\Delta x + \\Delta x^3 + \\frac{3\\Delta x^2}{2} + \\frac{\\Delta x^4}{24} + \\mathcal{O}(\\Delta x^4)$\n",
    "\n",
    "order of $O(\\Delta x^4)$\n",
    "\n",
    "### Multiplication of functions:\n",
    "\n",
    "\n",
    "$\\frac{1}{1-\\Delta x} * \\cosh \\Delta x = (1 + \\Delta x + \\Delta x^2 + \\Delta x^3 + \\mathcal{O}(\\Delta x^4))(1 + \\frac{\\Delta x^2}{2!} + \\frac{\\Delta x^4}{4!} + \\mathcal{O}(\\Delta x^6))$\n",
    "\n",
    "$\\frac{1}{1-\\Delta x} * \\cosh \\Delta x = 1 + x + \\frac{3}{2}x^2 + \\frac{1}{2}x^3 + \\frac{13}{24}x^4 + \\frac{1}{24}x^5 + \\frac{1}{24}x^6 + \\mathcal{O}(\\Delta x^4)$\n",
    "\n",
    "order of $O(\\Delta x^4)$"
   ]
  },
  {
   "cell_type": "markdown",
   "metadata": {
    "deletable": false,
    "editable": false,
    "nbgrader": {
     "cell_type": "markdown",
     "checksum": "466960198ea345f717d705526c307588",
     "grade": false,
     "grade_id": "cell-4316397622797027",
     "locked": true,
     "schema_version": 3,
     "solution": false
    }
   },
   "source": [
    "## Question 5\n",
    "\n",
    "Consider the operation\n",
    "$$\\begin{aligned}\n",
    "    f(x,y) = \\frac{1}{x + y}\n",
    "\\end{aligned}$$\n",
    "for the following questions."
   ]
  },
  {
   "cell_type": "markdown",
   "metadata": {
    "deletable": false,
    "editable": false,
    "nbgrader": {
     "cell_type": "markdown",
     "checksum": "8d9287a1bee19da47e43c093ee0030a0",
     "grade": false,
     "grade_id": "cell-2688842335639501",
     "locked": true,
     "schema_version": 3,
     "solution": false
    }
   },
   "source": [
    "**(a)** [5] Estimate the relative error due to floating point approximations to the representation of the numbers assuming exact operations."
   ]
  },
  {
   "cell_type": "markdown",
   "metadata": {
    "deletable": false,
    "nbgrader": {
     "cell_type": "markdown",
     "checksum": "2cc5548597c3b0d4a380885c640fb45a",
     "grade": true,
     "grade_id": "cell-8695910698498616",
     "locked": false,
     "points": 5,
     "schema_version": 3,
     "solution": true
    }
   },
   "source": [
    "YOUR ANSWER HERE\n",
    "$$\n",
    "    fl(x + y) = x(1 + \\delta_x) + y(1 + \\delta_y) \\\\\n",
    "    fl(\\frac{1}{x + y}) = \\frac{1}{x(1 + \\delta_x) + y(1 + \\delta_y)} \\\\\n",
    "    fl(\\frac{1}{x + y}) = \\frac{1}{x + x\\delta_x + y + y\\delta_y} \\\\\n",
    "    fl(\\frac{1}{x + y}) = \\frac{1}{(x + y)(1 + \\frac{x\\delta_x + y\\delta_y}{x + y})}\n",
    "$$\n",
    "\n",
    "Use the floating point error to compute the relative error:\n",
    "$$\n",
    "    \\frac{\\frac{1}{x + y} - \\frac{1}{(x + y)(1 + \\frac{x\\delta_x + y\\delta_y}{x + y})}}{\\frac{1}{x + y}}\n",
    "$$\n",
    "\n",
    "Factor out a $\\frac{1}{x + y}$ to get\n",
    "$$\n",
    "    1 - \\frac{1}{1 + \\frac{x\\delta_x + y\\delta_y}{x + y}}\n",
    "$$\n",
    "\n",
    "This results in a catastrophic cancellation, because the relative error is dependent on the sum $x + y$ which could result in an error that is arbitrarily large."
   ]
  },
  {
   "cell_type": "markdown",
   "metadata": {
    "deletable": false,
    "editable": false,
    "nbgrader": {
     "cell_type": "markdown",
     "checksum": "f99000c6b264a439e3ae6aa4c34c5c28",
     "grade": false,
     "grade_id": "cell-2661766713665152",
     "locked": true,
     "schema_version": 3,
     "solution": false
    }
   },
   "source": [
    "**(b)** [5] Demonstrate this behavior by plotting the relative error."
   ]
  },
  {
   "cell_type": "code",
   "execution_count": 10,
   "metadata": {
    "deletable": false,
    "nbgrader": {
     "cell_type": "code",
     "checksum": "7caeac9733fc1aae5511d87d098e05c7",
     "grade": true,
     "grade_id": "cell-5777629198172956",
     "locked": false,
     "points": 5,
     "schema_version": 3,
     "solution": true
    }
   },
   "outputs": [
    {
     "data": {
      "image/png": "[encoded data removed]",
      "text/plain": [
       "<Figure size 864x288 with 1 Axes>"
      ]
     },
     "metadata": {
      "needs_background": "light"
     },
     "output_type": "display_data"
    }
   ],
   "source": [
    "# YOUR CODE HERE\n",
    "\n",
    "dx = numpy.array([10**(-n) for n in range(1, 16)])\n",
    "x = 1.0 + dx\n",
    "y = -numpy.ones(x.shape)\n",
    "error = numpy.abs((1/(x + y)) - dx) / (dx)\n",
    "\n",
    "fig = plt.figure()\n",
    "fig.set_figwidth(fig.get_figwidth() * 2)\n",
    "\n",
    "axes = fig.add_subplot(1, 2, 2)\n",
    "axes.loglog(dx, error, 'o-')\n",
    "axes.set_xlabel(\"$\\delta x$\")\n",
    "axes.set_ylabel(\"$|1/(x + y) - \\delta_x| / \\delta_x$\")\n",
    "axes.set_title(\"Relative Error vs. $\\delta_x$\")\n",
    "\n",
    "plt.show()\n",
    "\n",
    "\n",
    "# raise NotImplementedError()"
   ]
  }
 ],
 "metadata": {
  "kernelspec": {
   "display_name": "Python 3",
   "language": "python",
   "name": "python3"
  },
  "language_info": {
   "codemirror_mode": {
    "name": "ipython",
    "version": 3
   },
   "file_extension": ".py",
   "mimetype": "text/x-python",
   "name": "python",
   "nbconvert_exporter": "python",
   "pygments_lexer": "ipython3",
   "version": "3.8.8"
  },
  "latex_envs": {
   "bibliofile": "biblio.bib",
   "cite_by": "apalike",
   "current_citInitial": 1,
   "eqLabelWithNumbers": true,
   "eqNumInitial": 0
  }
 },
 "nbformat": 4,
 "nbformat_minor": 4
}
