{
 "cells": [
  {
   "cell_type": "markdown",
   "id": "a1f63af4",
   "metadata": {},
   "source": [
    "Before you turn this problem in, make sure everything runs as expected. First, restart the kernel (in the menubar, select Kernel $\\rightarrow$ Restart) and then run all cells (in the menubar, select Cell $\\rightarrow$ Run All).\n",
    "\n",
    "Make sure you fill in any place that says YOUR CODE HERE or \"YOUR ANSWER HERE\", as well as your name and collaborators below:"
   ]
  },
  {
   "cell_type": "code",
   "execution_count": 2,
   "id": "719ef72d",
   "metadata": {},
   "outputs": [],
   "source": [
    "%matplotlib inline\n",
    "%precision 16\n",
    "from __future__ import print_function\n",
    "import numpy\n",
    "import matplotlib.pyplot as plt"
   ]
  },
  {
   "cell_type": "markdown",
   "id": "3975148b",
   "metadata": {
    "deletable": false,
    "editable": false,
    "nbgrader": {
     "cell_type": "markdown",
     "checksum": "d35c6625014fbb846018270b27228a09",
     "grade": false,
     "grade_id": "cell-4300650499785885",
     "locked": true,
     "schema_version": 3,
     "solution": false
    }
   },
   "source": [
    "Before you turn this problem in, make sure everything runs as expected. First, restart the kernel (in the menubar, select Kernel $\\rightarrow$ Restart) and then run all cells (in the menubar, select Cell $\\rightarrow$ Run All).\n",
    "\n",
    "Make sure you fill in any place that says YOUR CODE HERE or \"YOUR ANSWER HERE\", as well as your name and collaborators below:"
   ]
  },
  {
   "cell_type": "markdown",
   "id": "2b5268ab",
   "metadata": {},
   "source": [
    "Ananya Gandhi, no collaborators"
   ]
  },
  {
   "cell_type": "markdown",
   "id": "9e8083dd",
   "metadata": {
    "deletable": false,
    "editable": false,
    "nbgrader": {
     "cell_type": "markdown",
     "checksum": "7244622507896c6af08b600df24c227d",
     "grade": false,
     "grade_id": "cell-9890560519145918",
     "locked": true,
     "schema_version": 3,
     "solution": false
    }
   },
   "source": [
    "# HW 8:  Linear Algebra Part 2"
   ]
  },
  {
   "cell_type": "markdown",
   "id": "1605fd3f",
   "metadata": {
    "deletable": false,
    "editable": false,
    "nbgrader": {
     "cell_type": "markdown",
     "checksum": "a3ba23f23192271f152881f6165d41b7",
     "grade": false,
     "grade_id": "cell-1367913990434646",
     "locked": true,
     "schema_version": 3,
     "solution": false
    }
   },
   "source": [
    "## Question 1\n",
    "\n",
    "We know that interpolation using equispaced points is not ideal but we can also show that it is ill-conditioned.  To illustrate this let $x_1, \\ldots, x_n$ and $y_1, \\ldots, y_m$ by $n$ and $m$ equispaced points from $-1$ to $1$ repectively."
   ]
  },
  {
   "cell_type": "markdown",
   "id": "33d0861d",
   "metadata": {
    "deletable": false,
    "editable": false,
    "nbgrader": {
     "cell_type": "markdown",
     "checksum": "cb3f03273f432ce984ed9f2de4d9f3f0",
     "grade": false,
     "grade_id": "cell-5262243890051762",
     "locked": true,
     "schema_version": 3,
     "solution": false
    }
   },
   "source": [
    "**(a)** [10] Derive a formula for the $m \\times n$ matrix $A$ that maps an $n$-vector of data at $\\{x_j\\}$ to an $m$-vector of sampled values $\\{\\mathcal{P}(y_j)\\}$, where $\\mathcal{P}$ is the degree $n-1$ polynomial interpolant of the data."
   ]
  },
  {
   "cell_type": "markdown",
   "id": "6f15d5e9",
   "metadata": {
    "deletable": false,
    "nbgrader": {
     "cell_type": "markdown",
     "checksum": "c7e49fbb53a94f40f6e6f666bdeb15b9",
     "grade": true,
     "grade_id": "cell-5990321097225371",
     "locked": false,
     "points": 10,
     "schema_version": 3,
     "solution": true
    }
   },
   "source": [
    "First, start by using Vandermonde matrices $V_x$ and $V_y$ for $x, y$ respectively. \n",
    "\n",
    "These matrices are:\n",
    "$$\n",
    "  V_x = \\begin{bmatrix} \n",
    "    1 & x_1 & x_1^2 & ... & x_1^{n-1} \\\\\n",
    "    1 & x_2 & x_2^2 & ... & x_2^{n-1} \\\\\n",
    "    . & . & . &  & . \\\\\n",
    "    . & . & . &  & . \\\\\n",
    "    . & . & . &  & . \\\\\n",
    "    1 & x_n & x_n^2 & ... & x_n^{n-1} \\\\\n",
    "  \\end{bmatrix} \\\\\n",
    "$$\n",
    "which is a $n \\times n$ matrix\n",
    "\n",
    "Then, we want to fit the data to a polynomial of order $n - 1$, so we get the following Vandermonde matrix for $y$:\n",
    "\n",
    "$$ \n",
    "  V_y = \\begin{bmatrix} \n",
    "    1 & y_1 & y_1^2 & ... & y_1^{n-1} \\\\\n",
    "    1 & y_2 & y_2^2 & ... & y_2^{n-1} \\\\\n",
    "    . & . & . &  & . \\\\\n",
    "    . & . & . &  & . \\\\\n",
    "    . & . & . &  & . \\\\\n",
    "    1 & y_m & y_m^2 & ... & y_m^{n-1} \\\\\n",
    "  \\end{bmatrix}\n",
    "$$\n",
    "which is an $m \\times n$ matrix. \n",
    "\n",
    "Then, to map the polynomial interpolants to each other, we can look at the problem:\n",
    "\n",
    "$$\n",
    "    A \\mathcal{P}(x) = \\mathcal{P}(y) \\\\\n",
    "    A V_x p = V_y p \\\\\n",
    "    (A V_x - V_y) p = 0 \\\\\n",
    "    A V_x - V_y = 0 \\\\\n",
    "    A V_x = V_y  \\\\\n",
    "    A = V_y V_x^{-1}\n",
    "$$\n",
    "\n",
    "So we get that the matrix A for the mapping is:\n",
    "$$ \n",
    "  A = \\begin{bmatrix} \n",
    "    1 & y_1 & y_1^2 & ... & y_1^{n-1} \\\\\n",
    "    1 & y_2 & y_2^2 & ... & y_2^{n-1} \\\\\n",
    "    . & . & . &  & . \\\\\n",
    "    . & . & . &  & . \\\\\n",
    "    . & . & . &  & . \\\\\n",
    "    1 & y_m & y_m^2 & ... & y_m^{n-1} \\\\\n",
    "  \\end{bmatrix} \\begin{bmatrix} \n",
    "    1 & x_1 & x_1^2 & ... & x_1^{n-1} \\\\\n",
    "    1 & x_2 & x_2^2 & ... & x_2^{n-1} \\\\\n",
    "    . & . & . &  & . \\\\\n",
    "    . & . & . &  & . \\\\\n",
    "    . & . & . &  & . \\\\\n",
    "    1 & x_n & x_n^2 & ... & x_n^{n-1} \\\\\n",
    "  \\end{bmatrix} ^{-1}\n",
    "$$"
   ]
  },
  {
   "cell_type": "markdown",
   "id": "2145c3bf",
   "metadata": {
    "deletable": false,
    "editable": false,
    "nbgrader": {
     "cell_type": "markdown",
     "checksum": "f875b6a90379de08b64ae48b094b030d",
     "grade": false,
     "grade_id": "cell-7661416945339489",
     "locked": true,
     "schema_version": 3,
     "solution": false
    }
   },
   "source": [
    "**(b)** [5]) Write a program to calculate $A$ and plot $||A||_\\infty$ on a semilog scale for $n=1, 2, \\ldots, 30$, $m=2n-1$.  In the continuous limit $m \\rightarrow \\infty$, the numbers $||A||_\\infty$ are known as the Lebesgue constants for equispaced interpolation, which are asymptotic to $2^n / (e(n-1) \\log n)$ as $n \\rightarrow \\infty$."
   ]
  },
  {
   "cell_type": "code",
   "execution_count": 3,
   "id": "f23ad220",
   "metadata": {
    "deletable": false,
    "nbgrader": {
     "cell_type": "code",
     "checksum": "00c37c798697ec9ea6860cd633423c89",
     "grade": true,
     "grade_id": "cell-8743053752448174",
     "locked": false,
     "points": 5,
     "schema_version": 3,
     "solution": true
    }
   },
   "outputs": [
    {
     "name": "stderr",
     "output_type": "stream",
     "text": [
      "<ipython-input-3-c10463deaf2e>:22: RuntimeWarning: divide by zero encountered in double_scalars\n",
      "  f = lambda x: 2**x / (numpy.e*(x - 1)*numpy.log(x))\n"
     ]
    },
    {
     "data": {
      "image/png": "[encoded data removed]",
      "text/plain": [
       "<Figure size 432x288 with 1 Axes>"
      ]
     },
     "metadata": {
      "needs_background": "light"
     },
     "output_type": "display_data"
    }
   ],
   "source": [
    "# YOUR CODE HERE\n",
    "# raise NotImplementedError()\n",
    "\n",
    "nums = [i for i in range(1, 30)]\n",
    "Ainf_norm = []\n",
    "\n",
    "for i in range(len(nums)):\n",
    "  n = nums[i]\n",
    "  m = 2*n - 1\n",
    "\n",
    "  x = numpy.linspace(-1, 1, n)\n",
    "  y = numpy.linspace(-1, 1, m)\n",
    "\n",
    "  Vy = numpy.vander(y, N=n, increasing=True)\n",
    "  Vx = numpy.vander(x, increasing=True)\n",
    "  Vx_inv = numpy.linalg.inv(Vx)\n",
    "\n",
    "  A = numpy.matmul(Vy, Vx_inv)\n",
    "  Ainf_norm.append(numpy.linalg.norm(A, ord=numpy.inf))\n",
    "\n",
    "# compare to Lebesgue\n",
    "f = lambda x: 2**x / (numpy.e*(x - 1)*numpy.log(x))\n",
    "fn = [f(n) for n in nums]\n",
    "\n",
    "plt.semilogy(nums, Ainf_norm, \"o\", label=\"||A|| inf\")\n",
    "plt.semilogy(nums, fn, label=\"Lebsgue Constants\")\n",
    "plt.xlabel(\"n\")\n",
    "plt.ylabel(\"Infinite Norm\")\n",
    "plt.title(\"$||A||_{\\infty}$ for different n\")\n",
    "plt.legend()\n",
    "plt.grid()\n",
    "plt.show()"
   ]
  },
  {
   "cell_type": "markdown",
   "id": "3096b7bc",
   "metadata": {
    "deletable": false,
    "editable": false,
    "nbgrader": {
     "cell_type": "markdown",
     "checksum": "5080c22188b9741b79cbffa82875a70f",
     "grade": false,
     "grade_id": "cell-4762438551096464",
     "locked": true,
     "schema_version": 3,
     "solution": false
    }
   },
   "source": [
    "**(c)** [10] Derive a general way to compute the $\\infty$-norm condition number $\\kappa$ of the problem of interpolating the function $f(x) = 1$.  Plot the result for $n=1,2,\\ldots,30$ and $m=2n-1$.  Hint:  Use the expression we found involving the Jacobian."
   ]
  },
  {
   "cell_type": "markdown",
   "id": "d4cb8e6d",
   "metadata": {
    "deletable": false,
    "nbgrader": {
     "cell_type": "markdown",
     "checksum": "c5075d8382ae190ab10fed623b890ca2",
     "grade": true,
     "grade_id": "cell-2240156659521813",
     "locked": false,
     "points": 7,
     "schema_version": 3,
     "solution": true
    }
   },
   "source": [
    "We have $f(x) = \\mathcal{P}(x) = 1$, so we get:\n",
    "$$\n",
    "    A \\vec{x} = \\begin{bmatrix}\n",
    "      1 \\\\\n",
    "      1 \\\\\n",
    "      ... \\\\\n",
    "      1\n",
    "    \\end{bmatrix}\n",
    "$$\n",
    "\n",
    "$$\n",
    "    [J(x)]_{ij} = \\frac{\\partial f_i}{\\partial x_j}(x) = A\n",
    "$$\n",
    "\n",
    "We can use the Jacobian to calculate:\n",
    "$$\n",
    "  \\kappa = \\frac{||J(x)||_{\\infty}}{\\frac{||f(x)||_{\\infty}}{||x||_{\\infty}}} = \\frac{||J(x)||_{\\infty}}{\\frac{||Ax||_{\\infty}}{||x||_{\\infty}}} \\\\\n",
    "  \\kappa = \\frac{||A||_{\\infty}}{\\frac{1}{1}} = ||A||_{\\infty} \\\\\n",
    "$$\n",
    "This gives us that the condition number $\\kappa$ of the infinite norm is:\n",
    "$$ \\kappa = ||A||_{\\infty} $$"
   ]
  },
  {
   "cell_type": "code",
   "execution_count": 4,
   "id": "39663cee",
   "metadata": {
    "deletable": false,
    "nbgrader": {
     "cell_type": "code",
     "checksum": "1ff4358b354d82ed2efc1ddc9a68bc61",
     "grade": true,
     "grade_id": "cell-1916492016011003",
     "locked": false,
     "points": 3,
     "schema_version": 3,
     "solution": true
    }
   },
   "outputs": [
    {
     "data": {
      "image/png": "[encoded data removed]",
      "text/plain": [
       "<Figure size 432x288 with 1 Axes>"
      ]
     },
     "metadata": {
      "needs_background": "light"
     },
     "output_type": "display_data"
    }
   ],
   "source": [
    "nums = []\n",
    "k = []\n",
    "\n",
    "for n in range(1,31):\n",
    "  nums.append(n)\n",
    "  m = 2*n - 1\n",
    "\n",
    "  x = numpy.linspace(-1, 1, n)\n",
    "  y = numpy.linspace(-1, 1, m)\n",
    "\n",
    "  Vy = numpy.vander(y, N=n, increasing=True)\n",
    "  Vx = numpy.vander(x, increasing=True)\n",
    "  Vx_inv = numpy.linalg.inv(Vx)\n",
    "  A = numpy.matmul(Vy, Vx_inv)\n",
    "\n",
    "  k.append(numpy.linalg.norm(A, numpy.inf))\n",
    "\n",
    "plt.semilogy(nums, k, \"o\")\n",
    "plt.xlabel(\"n\")\n",
    "plt.ylabel(\"k\")\n",
    "plt.title(\"Infinite Norm $\\kappa$ Values vs. n\")\n",
    "plt.grid()\n",
    "plt.show()"
   ]
  },
  {
   "cell_type": "markdown",
   "id": "a885f138",
   "metadata": {
    "deletable": false,
    "editable": false,
    "nbgrader": {
     "cell_type": "markdown",
     "checksum": "1d91c54c53459dc691e1b93f99556f6b",
     "grade": false,
     "grade_id": "cell-4391815592086616",
     "locked": true,
     "schema_version": 3,
     "solution": false
    }
   },
   "source": [
    "## Question 2 - LU Factorization\n",
    "\n",
    "Gaussian elimination is usually one of the first operations students learn in linear algebra but we seemed to have skipped it in lecture!  Let us fix that here in the homework.  Make sure to read the lecture on Gaussian elimination when doing this question."
   ]
  },
  {
   "cell_type": "markdown",
   "id": "48e41d23",
   "metadata": {
    "deletable": false,
    "editable": false,
    "nbgrader": {
     "cell_type": "markdown",
     "checksum": "2ff23417ed175fe360fd2001560e24a7",
     "grade": false,
     "grade_id": "cell-4624805096432302",
     "locked": true,
     "schema_version": 3,
     "solution": false
    }
   },
   "source": [
    "**(a)** [10] By hand compute the $LU$ factorization of the matrix\n",
    "$$\n",
    "    A = \\begin{bmatrix}\n",
    "        4 & 8 & 1 \\\\\n",
    "        8 & 20 & 4 \\\\\n",
    "        16 & 36 & 7\n",
    "    \\end{bmatrix}.\n",
    "$$\n",
    "Make sure to compute all the way to the matrix $L$, not the components of the inverse.  You do not have to worry about pivoting."
   ]
  },
  {
   "cell_type": "markdown",
   "id": "90c4f05c",
   "metadata": {
    "deletable": false,
    "nbgrader": {
     "cell_type": "markdown",
     "checksum": "ad40ac7876d1da2e7e05c9640e5024e4",
     "grade": true,
     "grade_id": "cell-3409237533613078",
     "locked": false,
     "points": 5,
     "schema_version": 3,
     "solution": true
    }
   },
   "source": [
    "YOUR ANSWER HERE\n",
    "\n",
    "We compute the $LU$ factorization such that at every step $i, L_i U_i = A$. \n",
    "\n",
    "$$\n",
    "    L_0 = \\begin{bmatrix} \n",
    "        1 & 0 & 0 \\\\\n",
    "        0 & 1 & 0 \\\\\n",
    "        0 & 0 & 1 \\\\\n",
    "    \\end{bmatrix} \n",
    "$$\n",
    "\n",
    "$$\n",
    "    U_0 =  \\begin{bmatrix}\n",
    "        4 & 8 & 1 \\\\\n",
    "        8 & 20 & 4 \\\\\n",
    "        16 & 36 & 7\n",
    "    \\end{bmatrix}\n",
    "$$\n",
    "\n",
    "In the first step, we eliminate the elements of the first column below the diagonal. \n",
    "\n",
    "$$\n",
    "    L_1 = \\begin{bmatrix} \n",
    "        1 & 0 & 0 \\\\\n",
    "        -2 & 1 & 0 \\\\\n",
    "        -4 & 0 & 1 \\\\\n",
    "        \\end{bmatrix} \\\\\n",
    "    U_1 = \\begin{bmatrix} \n",
    "        4 & 8 & 1 \\\\\n",
    "        0 & 4 & 2 \\\\\n",
    "        0 & 4 & 3 \\\\\n",
    "        \\end{bmatrix} \\\\\n",
    "$$\n",
    "\n",
    "In the second step, we repeat by eliminating elements of the second column below the diagonal. \n",
    "\n",
    "$$\n",
    "    L_2 = \\begin{bmatrix} \n",
    "        1 & 0 & 0 \\\\\n",
    "        -2 & 1 & 0 \\\\\n",
    "        -4 & -1 & 1 \\\\\n",
    "        \\end{bmatrix} \\\\\n",
    "    U_2 = \\begin{bmatrix} \n",
    "        4 & 8 & 1 \\\\\n",
    "        0 & 4 & 2 \\\\\n",
    "        0 & 0 & 1 \\\\\n",
    "        \\end{bmatrix} \\\\\n",
    "$$\n",
    "\n",
    "Finally, this allows us to rewrite A as:\n",
    "$$\n",
    "    A = \\begin{bmatrix} \n",
    "        1 & 0 & 0 \\\\\n",
    "        2 & 1 & 0 \\\\\n",
    "        4 & 1 & 1 \\\\\n",
    "        \\end{bmatrix} \\begin{bmatrix} \n",
    "        4 & 8 & 1 \\\\\n",
    "        0 & 4 & 2 \\\\\n",
    "        0 & 0 & 1 \\\\\n",
    "        \\end{bmatrix} \\\\\n",
    "$$"
   ]
  },
  {
   "cell_type": "markdown",
   "id": "9fe776d9",
   "metadata": {
    "deletable": false,
    "editable": false,
    "nbgrader": {
     "cell_type": "markdown",
     "checksum": "68a708a0766774ae99539342a861b5e4",
     "grade": false,
     "grade_id": "cell-8575190023526182",
     "locked": true,
     "schema_version": 3,
     "solution": false
    }
   },
   "source": [
    "**(b)** [10] Write a function that computes the $LU$ factorization of a given matrix $A \\in \\mathbb R^{n \\times n}$ without using `numpy` or `scipy` packages.  Make sure to also return the pivoting matrix, i.e. compute the matrices $P$, $L$, and $U$ where\n",
    "$$\n",
    "    P A = L U.\n",
    "$$\n",
    "Note that the provided function `swap_rows` may be useful although you do not have to use it.  You may also want to use the example in the notes to test your basic algorithm with (i.e. `A = numpy.array([[2, 1, 1, 0], [4, 3, 3, 1], [8, 7, 9, 5], [6, 7, 9, 8]], dtype=float)` noting that the algorithm will complain without the casting to `float`)."
   ]
  },
  {
   "cell_type": "code",
   "execution_count": 5,
   "id": "19887a41",
   "metadata": {
    "deletable": false,
    "nbgrader": {
     "cell_type": "code",
     "checksum": "b625e9fc9a9088ab645b250b412e40ef",
     "grade": false,
     "grade_id": "cell-3416177524508008",
     "locked": false,
     "schema_version": 3,
     "solution": true
    }
   },
   "outputs": [],
   "source": [
    "def swap_rows(i, j, A, column_indices=None):\n",
    "    r\"\"\"\n",
    "    Swap the ith and jth rows of the matrix A in place\n",
    "    \n",
    "    Optional argument column_indices is a tuple that controls \n",
    "    the columns being swapped.  Defaults to the entire row.\n",
    "    \"\"\"\n",
    "    if column_indices is None:\n",
    "        column_indices = (0, A.shape[0])\n",
    "    \n",
    "    pivot_row = A[i, column_indices[0]:column_indices[1]].copy()\n",
    "    A[i, column_indices[0]:column_indices[1]] = A[j, column_indices[0]:column_indices[1]]\n",
    "    A[j, column_indices[0]:column_indices[1]] = pivot_row\n",
    "\n",
    "\n",
    "def LU_factorization(A):\n",
    "    # YOUR CODE HERE\n",
    "    # raise NotImplementedError()\n",
    "\n",
    "    U = A.copy()\n",
    "    L = numpy.identity(A.shape[0])\n",
    "    P = numpy.identity(A.shape[0])\n",
    "    m = A.shape[0]\n",
    "\n",
    "    for k in range(m):\n",
    "\n",
    "      i = numpy.argmax(numpy.abs(U[k:, k]))\n",
    "      i += k\n",
    "\n",
    "      swap_rows(k, i, U, [k, m])\n",
    "      swap_rows(k, i, L, [0, k])\n",
    "      swap_rows(k, i, P)\n",
    "\n",
    "      for j in range(k + 1, m):\n",
    "        L[j, k] = U[j, k] / U[k, k]\n",
    "        U[j, k:] = U[j, k:] - L[j, k] * U[k, k:]\n",
    "\n",
    "    return P, L, U"
   ]
  },
  {
   "cell_type": "code",
   "execution_count": 6,
   "id": "7c166231",
   "metadata": {
    "deletable": false,
    "editable": false,
    "nbgrader": {
     "cell_type": "code",
     "checksum": "14b57bfa1deee8a6c0e6c5514a5fdadb",
     "grade": true,
     "grade_id": "cell-9410005352958010",
     "locked": true,
     "points": 10,
     "schema_version": 3,
     "solution": false
    }
   },
   "outputs": [
    {
     "name": "stdout",
     "output_type": "stream",
     "text": [
      "Success!\n"
     ]
    }
   ],
   "source": [
    "import scipy.linalg\n",
    "# A = numpy.array([[2, 1, 1, 0], [4, 3, 3, 1], [8, 7, 9, 5], [6, 7, 9, 8]], dtype=float)\n",
    "A = numpy.random.uniform(low=1.0, high=10.0, size=(25, 25))\n",
    "P, L, U = LU_factorization(A)\n",
    "P_s, L_s, U_s = scipy.linalg.lu(A)\n",
    "numpy.testing.assert_allclose(P, numpy.linalg.inv(P_s))\n",
    "numpy.testing.assert_allclose(L, L_s)\n",
    "numpy.testing.assert_allclose(U, U_s, atol=1e-8)\n",
    "print(\"Success!\")"
   ]
  },
  {
   "cell_type": "markdown",
   "id": "cdf93847",
   "metadata": {
    "deletable": false,
    "editable": false,
    "nbgrader": {
     "cell_type": "markdown",
     "checksum": "8482bb4fe26eb5f0c27446ffbcc9f0b0",
     "grade": false,
     "grade_id": "cell-6331285623355538",
     "locked": true,
     "schema_version": 3,
     "solution": false
    }
   },
   "source": [
    "**(c)** [10] For this question write a function that solves the system $A x = b$ given an $A$ and $b$ using your $LU$ factorization function and the pivot matrix.  Again do not use any of the functions from `numpy` or `scipy` other than to check your solution."
   ]
  },
  {
   "cell_type": "code",
   "execution_count": 7,
   "id": "c89df650",
   "metadata": {
    "deletable": false,
    "nbgrader": {
     "cell_type": "code",
     "checksum": "44e941df853d799ed4341c7f51138f55",
     "grade": false,
     "grade_id": "cell-9695927972933496",
     "locked": false,
     "schema_version": 3,
     "solution": true
    }
   },
   "outputs": [],
   "source": [
    "def solve(A, b):\n",
    "    # YOUR CODE HERE\n",
    "    # raise NotImplementedError()\n",
    "\n",
    "    P, L, U = LU_factorization(A)\n",
    "\n",
    "    # forward substitution for Ly = Pb\n",
    "\n",
    "    Pb = numpy.dot(P, b)\n",
    "    y = numpy.zeros(b.shape)\n",
    "\n",
    "    for i in range(L.shape[0]):\n",
    "      \n",
    "      ly = 0\n",
    "\n",
    "      for j in range(i):\n",
    "\n",
    "        ly += L[i, j] * y[j]\n",
    "      \n",
    "      y[i] = Pb[i] - ly\n",
    "    \n",
    "\n",
    "    # backward substitution \n",
    "    x = numpy.zeros(b.shape)\n",
    "    m = U.shape[0]\n",
    "\n",
    "    for i in range(1, m + 1):\n",
    "      \n",
    "      ux = 0\n",
    "\n",
    "      for j in range(1, i):\n",
    "\n",
    "        ux += U[m - i, m - j] * x[m - j]\n",
    "      \n",
    "      y[m - i] -= ux\n",
    "      x[m - i] = y[m - i] / U[m - i, m - i]\n",
    "      x[m - 1] = y[m - 1] / U[m - 1, m - 1]\n",
    "\n",
    "    return x"
   ]
  },
  {
   "cell_type": "code",
   "execution_count": 8,
   "id": "de3a4ae2",
   "metadata": {
    "deletable": false,
    "editable": false,
    "nbgrader": {
     "cell_type": "code",
     "checksum": "1b3e93539cffda4b4e9d47fee4353eb3",
     "grade": true,
     "grade_id": "cell-9290228235952792",
     "locked": true,
     "points": 10,
     "schema_version": 3,
     "solution": false
    }
   },
   "outputs": [
    {
     "name": "stdout",
     "output_type": "stream",
     "text": [
      "Success!\n"
     ]
    }
   ],
   "source": [
    "m = 10\n",
    "A = numpy.random.uniform(size=(m, m))\n",
    "b = numpy.random.uniform(size=(m))\n",
    "x = solve(A, b)\n",
    "x_n = numpy.linalg.solve(A, b)\n",
    "numpy.testing.assert_allclose(x, x_n)\n",
    "print(\"Success!\")"
   ]
  },
  {
   "cell_type": "markdown",
   "id": "d3e86803",
   "metadata": {
    "deletable": false,
    "editable": false,
    "nbgrader": {
     "cell_type": "markdown",
     "checksum": "e67a9a9500c0e3a9750039fb30c76172",
     "grade": false,
     "grade_id": "cell-481593993242207",
     "locked": true,
     "schema_version": 3,
     "solution": false
    }
   },
   "source": [
    "## Question 3\n",
    "\n",
    "Consider the system of equations $Ax = b$ defined by\n",
    "$$A = \\begin{bmatrix}\n",
    "        0.780 & 0.563 \\\\\n",
    "        0.913 & 0.659 \n",
    "    \\end{bmatrix}\n",
    "    \\quad \\text{and} \\quad \n",
    "    b = \\begin{bmatrix}\n",
    "        0.217 \\\\\n",
    "        0.254 \n",
    "    \\end{bmatrix}.\n",
    "$$\n",
    "The true solution of this system is $$x^T = [1, -1]$$.  Consider for the following questions the approximate solutions\n",
    "$$\n",
    "    x^T_1 = [0.999, -1.001] \\quad \\text{and} \\quad x^T_2 = [0.341, -0.087]\n",
    "$$\n",
    "and define the residual $r(y)$ as\n",
    "$$\n",
    "    r(y) = b - A y.\n",
    "$$"
   ]
  },
  {
   "cell_type": "markdown",
   "id": "f1c6c62d",
   "metadata": {
    "deletable": false,
    "editable": false,
    "nbgrader": {
     "cell_type": "markdown",
     "checksum": "059be8bfac0547bee6d1e4e03d122f55",
     "grade": false,
     "grade_id": "cell-890606747676466",
     "locked": true,
     "schema_version": 3,
     "solution": false
    }
   },
   "source": [
    "**(a)** [10] Compute the residuals (you may use `numpy`) $||r(x_1)||$ and $||r(x_2)||$ for the two approximate solutions using a couple of different norms.  Does the more accurate solution have a smaller residual?  Does it matter which norm you use?"
   ]
  },
  {
   "cell_type": "code",
   "execution_count": 9,
   "id": "6af80770",
   "metadata": {
    "deletable": false,
    "nbgrader": {
     "cell_type": "code",
     "checksum": "ba25cea086694fe96ca70bc434b808a3",
     "grade": true,
     "grade_id": "cell-4148931275843056",
     "locked": false,
     "points": 10,
     "schema_version": 3,
     "solution": true
    }
   },
   "outputs": [
    {
     "name": "stdout",
     "output_type": "stream",
     "text": [
      "Residual 1, Order 1: 0.0029149999999999177\n",
      "Residual 1, Order 2: 0.0020675669275744828\n",
      "Residual 1, Order Inf: 0.0015720000000000178\n",
      "\n",
      "Residual 2, Order 1: 9.99999999945489e-07\n",
      "Residual 2, Order 2: 9.99999999945489e-07\n",
      "Residual 2, Order Inf: 9.99999999945489e-07\n"
     ]
    }
   ],
   "source": [
    "# YOUR CODE HERE\n",
    "# raise NotImplementedError()\n",
    "\n",
    "A = numpy.array([[0.780, 0.563], [0.913, 0.659]])\n",
    "\n",
    "b = numpy.array([0.217, 0.254])\n",
    "\n",
    "x1 = numpy.array([0.999, -1.001])\n",
    "x2 = numpy.array([0.341, -0.087])\n",
    "\n",
    "resx1 = b - numpy.dot(A, x1)\n",
    "resx2 = b - numpy.dot(A, x2)\n",
    "\n",
    "norm_11 = numpy.linalg.norm(resx1, ord=1)\n",
    "norm_12 = numpy.linalg.norm(resx1, ord=2)\n",
    "norm_1inf = numpy.linalg.norm(resx1, ord=numpy.inf)\n",
    "\n",
    "print(\"Residual 1, Order 1:\", norm_11)\n",
    "print(\"Residual 1, Order 2:\", norm_12)\n",
    "print(\"Residual 1, Order Inf:\", norm_1inf)\n",
    "\n",
    "norm_21 = numpy.linalg.norm(resx2, ord=1)\n",
    "norm_22 = numpy.linalg.norm(resx2, ord=2)\n",
    "norm_2inf = numpy.linalg.norm(resx2, ord=numpy.inf)\n",
    "\n",
    "print(\"\\nResidual 2, Order 1:\", norm_21)\n",
    "print(\"Residual 2, Order 2:\", norm_22)\n",
    "print(\"Residual 2, Order Inf:\", norm_2inf)"
   ]
  },
  {
   "cell_type": "markdown",
   "id": "14db359a",
   "metadata": {
    "deletable": false,
    "nbgrader": {
     "cell_type": "markdown",
     "checksum": "8bde75b6257de59d3f4d328ca2e205a3",
     "grade": true,
     "grade_id": "cell-369737136797174",
     "locked": false,
     "points": 0,
     "schema_version": 3,
     "solution": true
    }
   },
   "source": [
    "We can see above that the more accurate solution is $x_1$ because it is closer to the true solution of the system. When we compute the residuals for both $x_1, x_2$ and then take the 1st, 2nd, and infinite-order norms, we get the above result. The second value $x_2$ has a smaller residual, regardless of which norm is used. This behavior is a bit weird, because the more accurate solution is clearly $x_1$ because it is visibly much closer to the true solution of the system. We can see if the vector $\\vec{x}$ is only slightly perturbed, there is a big residual. "
   ]
  },
  {
   "cell_type": "markdown",
   "id": "b92cb698",
   "metadata": {
    "deletable": false,
    "editable": false,
    "nbgrader": {
     "cell_type": "markdown",
     "checksum": "b5fb2f6dde6326184666f70ce8d7dc92",
     "grade": false,
     "grade_id": "cell-4807436545966871",
     "locked": true,
     "schema_version": 3,
     "solution": false
    }
   },
   "source": [
    "**(b)** [10] Compute $||A||$, $||A^{-1}||$ and the condition number $\\kappa(A)$ of the matrix using the $L_2$ and $L_\\infty$ norms.  Again you can use `numpy`."
   ]
  },
  {
   "cell_type": "code",
   "execution_count": 10,
   "id": "3a105403",
   "metadata": {
    "deletable": false,
    "nbgrader": {
     "cell_type": "code",
     "checksum": "02619631db1363e3745333ad365e2045",
     "grade": true,
     "grade_id": "cell-2984656588126720",
     "locked": false,
     "points": 10,
     "schema_version": 3,
     "solution": true
    }
   },
   "outputs": [
    {
     "name": "stdout",
     "output_type": "stream",
     "text": [
      "||A||2 is 1.4809520586432041\n",
      "||A-1||2 is 1480952.0584615201\n",
      "K_2(A) is 2193218.999730479\n",
      "\n",
      "||A||inf is 1.572\n",
      "||A-1||inf is 1692999.9997923018\n",
      "K_inf(A) is 2661395.9996734983\n"
     ]
    }
   ],
   "source": [
    "# YOUR CODE HERE\n",
    "# raise NotImplementedError()\n",
    "inv = numpy.linalg.inv(A)\n",
    "\n",
    "A2_norm = numpy.linalg.norm(A,2)\n",
    "inv2_norm = numpy.linalg.norm(inv, 2)\n",
    "condition2 = A2_norm * inv2_norm\n",
    "print(\"||A||2 is\", A2_norm)\n",
    "print(\"||A-1||2 is\", inv2_norm)\n",
    "print(\"K_2(A) is\", condition2)\n",
    "\n",
    "Ainf_norm = numpy.linalg.norm(A, numpy.inf)\n",
    "invinf_norm = numpy.linalg.norm(inv, numpy.inf)\n",
    "conditioninf = Ainf_norm * invinf_norm\n",
    "\n",
    "print(\"\\n||A||inf is\", Ainf_norm)\n",
    "print(\"||A-1||inf is\", invinf_norm)\n",
    "print(\"K_inf(A) is\", conditioninf)"
   ]
  },
  {
   "cell_type": "markdown",
   "id": "01afa52c",
   "metadata": {
    "deletable": false,
    "editable": false,
    "nbgrader": {
     "cell_type": "markdown",
     "checksum": "bbaf3f142dd9ac7180bd709b89e2ebc7",
     "grade": false,
     "grade_id": "cell-3323809285287131",
     "locked": true,
     "schema_version": 3,
     "solution": false
    }
   },
   "source": [
    "**(c)** [15] Explain the behavior from part (a) using the results of part (b) discussing how condition numbers play a role in the problem above.  Hint:  Think about the problem where only the vector $x$ is perturbed by some small amount $\\delta x$"
   ]
  },
  {
   "cell_type": "markdown",
   "id": "9ba97555",
   "metadata": {
    "deletable": false,
    "nbgrader": {
     "cell_type": "markdown",
     "checksum": "fc79c68133e82e81e21979830d1efb42",
     "grade": true,
     "grade_id": "cell-7651467702406266",
     "locked": false,
     "points": 15,
     "schema_version": 3,
     "solution": true
    }
   },
   "source": [
    "If we consider the problem where $\\vec{x}$ is perturbed by some small amount, we have:\n",
    "\n",
    "$$\n",
    "    A(\\vec{x} + \\delta x) = \\vec{b} \\\\\n",
    "    \\delta r = r(x + \\delta x) - r(x) \\\\\n",
    "    \\delta r = b - A(x + \\delta x) - (b - Ax) \\\\\n",
    "    \\delta r = - A \\delta x\n",
    "$$\n",
    "\n",
    "If we calculate the norm of the resulting change in the residual, we get:\n",
    "\n",
    "$$\n",
    "    \\frac{||\\delta r||}{||\\delta x||} = \\frac{||-A\\delta x||}{||\\delta x||} \\\\\n",
    "$$\n",
    "\n",
    "This result indicates that any small perturbation in the first value $x_1$ will have a large impact on the residual. Changes on the second value $x_2$ still has an impact on the residual, but not as much of an impact as a change in $x_1$. "
   ]
  }
 ],
 "metadata": {
  "kernelspec": {
   "display_name": "Python 3",
   "language": "python",
   "name": "python3"
  },
  "language_info": {
   "codemirror_mode": {
    "name": "ipython",
    "version": 3
   },
   "file_extension": ".py",
   "mimetype": "text/x-python",
   "name": "python",
   "nbconvert_exporter": "python",
   "pygments_lexer": "ipython3",
   "version": "3.8.8"
  },
  "latex_envs": {
   "bibliofile": "biblio.bib",
   "cite_by": "apalike",
   "current_citInitial": 1,
   "eqLabelWithNumbers": true,
   "eqNumInitial": 0
  }
 },
 "nbformat": 4,
 "nbformat_minor": 5
}
